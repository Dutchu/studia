{
 "cells": [
  {
   "cell_type": "markdown",
   "metadata": {},
   "source": [
    "\n",
    "# <font color='navy'>Regresja liniowa: baza USA housing</font>\n",
    "\n",
    "<img src=\"./Images/agentka.jpg\" alt=\"Agentka\" width=\"400\">"
   ]
  },
  {
   "cell_type": "markdown",
   "metadata": {},
   "source": [
    "Twoja sąsiadka jest agentem nieruchomości i potrzebuje pomocy w przewidywaniu cen mieszkań dla regionów w USA. Byłoby wspaniale, gdybyś mógł w jakiś sposób stworzyć dla niej model, który pozwoli jej umieścić kilka cech domu i zwróci szacunkową cenę, za którą dom mógłby zostać sprzedany.\n",
    "\n",
    "Zapytała cię, czy mógłbyś jej pomóc w zdobyciu nowych umiejętności związanych z nauką o danych. Mówisz „tak” i decydujesz, że regresja liniowa może być dobrą drogą do rozwiązania tego problemu!\n",
    "\n",
    "Następnie twoja sąsiadka przekazuje ci informacje o kilku domach w regionach Stanów Zjednoczonych, wszystko to znajduje się w zbiorze danych: USA_Housing.csv.\n",
    "\n",
    "Dane zawierają następujące kolumny:\n",
    "\n",
    "* 'Avg. Area Income': średnie dochody mieszkańców\n",
    "* 'Avg. Area House Age': średni wiek domów w tym samym mieście\n",
    "* 'Avg. Area Number of Rooms': średnia liczba pokoi dla domów w tym samym mieście\n",
    "* 'Avg. Area Number of Bedrooms': średnia liczba sypialni w domach w tym samym mieście\n",
    "* 'Area Population': populacja w tym samym mieście\n",
    "* 'Price': cena, po której sprzedano domt\n",
    "* 'Address': adres domu\n",
    "\n",
    "**Zaczynamy!**"
   ]
  },
  {
   "cell_type": "markdown",
   "metadata": {},
   "source": [
    "## Sprawdź dane\n",
    "\n",
    "Przygotujmy nasze środowisko z potrzebnymi bibliotekami, a następnie zaimportujmy dane!\n",
    "### Importuj biblioteki"
   ]
  },
  {
   "cell_type": "code",
   "execution_count": null,
   "metadata": {},
   "outputs": [],
   "source": [
    "import pandas as pd\n",
    "import numpy as np\n",
    "import matplotlib.pyplot as plt\n",
    "import seaborn as sns\n",
    "%matplotlib inline"
   ]
  },
  {
   "cell_type": "markdown",
   "metadata": {},
   "source": [
    "### Sprawdź dane"
   ]
  },
  {
   "cell_type": "code",
   "execution_count": null,
   "metadata": {},
   "outputs": [],
   "source": [
    "USAhousing = pd.read_csv('./Data/USA_Housing.csv')"
   ]
  },
  {
   "cell_type": "code",
   "execution_count": null,
   "metadata": {},
   "outputs": [],
   "source": [
    "USAhousing.head()"
   ]
  },
  {
   "cell_type": "code",
   "execution_count": null,
   "metadata": {},
   "outputs": [],
   "source": [
    "USAhousing.info()"
   ]
  },
  {
   "cell_type": "code",
   "execution_count": null,
   "metadata": {},
   "outputs": [],
   "source": [
    "USAhousing.describe()"
   ]
  },
  {
   "cell_type": "code",
   "execution_count": null,
   "metadata": {},
   "outputs": [],
   "source": [
    "USAhousing.columns"
   ]
  },
  {
   "cell_type": "markdown",
   "metadata": {},
   "source": [
    "# EDA\n",
    "\n",
    "Stwórzmy kilka prostych wykresów, aby sprawdzić dane!"
   ]
  },
  {
   "cell_type": "code",
   "execution_count": null,
   "metadata": {},
   "outputs": [],
   "source": [
    "sns.pairplot(USAhousing)"
   ]
  },
  {
   "cell_type": "code",
   "execution_count": null,
   "metadata": {},
   "outputs": [],
   "source": [
    "sns.histplot(USAhousing['Price'])"
   ]
  },
  {
   "cell_type": "code",
   "execution_count": null,
   "metadata": {},
   "outputs": [],
   "source": [
    "num_columns = USAhousing.select_dtypes(include=np.number).columns.tolist()\n",
    "sns.heatmap(USAhousing[num_columns].corr(),)"
   ]
  },
  {
   "cell_type": "code",
   "execution_count": null,
   "metadata": {},
   "outputs": [],
   "source": [
    "plt.figure(figsize=(12, 6))\n",
    "heatmap = sns.heatmap(USAhousing[num_columns].corr(), vmin=-1, vmax=1, annot=True, cmap='BrBG')\n",
    "heatmap.set_title('Correlation Heatmap', fontdict={'fontsize':18}, pad=12);\n",
    "plt.savefig('heatmap.png', dpi=300, bbox_inches='tight')"
   ]
  },
  {
   "cell_type": "code",
   "execution_count": null,
   "metadata": {},
   "outputs": [],
   "source": [
    "plt.figure(figsize=(12, 6))\n",
    "# define the mask to set the values in the upper triangle to True\n",
    "mask = np.triu(np.ones_like(USAhousing[num_columns].corr(), dtype=bool))\n",
    "heatmap = sns.heatmap(USAhousing[num_columns].corr(), mask=mask, vmin=-1, vmax=1, annot=True, cmap='BrBG')\n",
    "heatmap.set_title('Triangle Correlation Heatmap', fontdict={'fontsize':18}, pad=16);"
   ]
  },
  {
   "cell_type": "code",
   "execution_count": null,
   "metadata": {},
   "outputs": [],
   "source": [
    "plt.figure(figsize=(4, 3))\n",
    "heatmap = sns.heatmap(USAhousing[num_columns].corr()[['Price']].sort_values(by='Price', ascending=False), \n",
    "                      vmin=-1, vmax=1, annot=True, cmap='BrBG', cbar=False)\n",
    "heatmap.set_title('Cechy korelujące z ceną sprzedaży', fontdict={'fontsize':18}, pad=16);"
   ]
  },
  {
   "cell_type": "markdown",
   "metadata": {},
   "source": [
    "## Uczenie modelu regresji liniowej\n",
    "\n",
    "Zacznijmy teraz trenować model regresji! Będziemy musieli najpierw podzielić nasze dane na tablicę X, która zawiera funkcje do trenowania, oraz tablicę y ze zmienną docelową, w tym przypadku kolumnę Price. Wyrzucimy kolumnę Adress, ponieważ zawiera ona tylko informacje tekstowe, których model regresji liniowej nie może wykorzystać.\n",
    "\n",
    "### Tablice X i y"
   ]
  },
  {
   "cell_type": "code",
   "execution_count": null,
   "metadata": {},
   "outputs": [],
   "source": [
    "X = USAhousing[['Avg. Area Income', 'Avg. Area House Age', 'Avg. Area Number of Rooms',\n",
    "               'Avg. Area Number of Bedrooms', 'Area Population']]\n",
    "y = USAhousing['Price']"
   ]
  },
  {
   "cell_type": "markdown",
   "metadata": {},
   "source": [
    "## Podział danych\n",
    "\n",
    "Teraz podzielmy dane na zbiór treningowy i zbiór testowy. Wytrenujemy model na zbiorze treningowym, a następnie użyjemy zestawu testowego do oceny modelu."
   ]
  },
  {
   "cell_type": "code",
   "execution_count": null,
   "metadata": {},
   "outputs": [],
   "source": [
    "from sklearn.model_selection import train_test_split"
   ]
  },
  {
   "cell_type": "code",
   "execution_count": null,
   "metadata": {},
   "outputs": [],
   "source": [
    "X_train, X_test, y_train, y_test = train_test_split(X, y, test_size=0.4, random_state=101)"
   ]
  },
  {
   "cell_type": "markdown",
   "metadata": {},
   "source": [
    "## Tworzenie i trenowanie modelu"
   ]
  },
  {
   "cell_type": "code",
   "execution_count": null,
   "metadata": {},
   "outputs": [],
   "source": [
    "from sklearn.linear_model import LinearRegression"
   ]
  },
  {
   "cell_type": "code",
   "execution_count": null,
   "metadata": {},
   "outputs": [],
   "source": [
    "lm = LinearRegression()"
   ]
  },
  {
   "cell_type": "code",
   "execution_count": null,
   "metadata": {},
   "outputs": [],
   "source": [
    "lm.fit(X_train,y_train);"
   ]
  },
  {
   "cell_type": "markdown",
   "metadata": {},
   "source": [
    "## Ocena modelu\n",
    "\n",
    "Oceńmy model, sprawdzając jego współczynniki i sposób, w jaki możemy je interpretować.\n",
    "\n",
    "Punkt wolny (\"intercept\", czasami nazywany „stałą”) w modelu regresji reprezentuje średnią wartość zmiennej odpowiedzi, gdy wszystkie zmienne predykcyjne w modelu są równe zeru."
   ]
  },
  {
   "cell_type": "code",
   "execution_count": null,
   "metadata": {},
   "outputs": [],
   "source": [
    "print(lm.intercept_)"
   ]
  },
  {
   "cell_type": "code",
   "execution_count": null,
   "metadata": {},
   "outputs": [],
   "source": [
    "coeff_df = pd.DataFrame(lm.coef_,X.columns,columns=['Coefficient'])\n",
    "coeff_df"
   ]
  },
  {
   "cell_type": "markdown",
   "metadata": {},
   "source": [
    "Interpretacja współczynników:\n",
    "\n",
    "- Utrzymując wszystkie inne funkcje na stałym poziomie, średni wzrost o 1 jednostkę **Avg. Area Income** wiąże się ze **wzrostem o 21,52 USD**.\n",
    "\n",
    "- Utrzymując wszystkie inne funkcje na stałym poziomie, średni wzrost o 1 jednostkę **Avg. Area House Age** wiąże się ze **wzrostem o 164883,28 USD**.\n",
    "\n",
    "- Utrzymując wszystkie inne funkcje na stałym poziomie, średni wzrost o 1 jednostkę **Avg. Area Number of Rooms** wiąże się ze **wzrostem o 122368,67 USD**.\n",
    "\n",
    "- Utrzymując wszystkie inne funkcje na stałym poziomie, średni wzrost o 1 jednostkę **Avg. Area Number of Bedrooms** wiąże się ze **wzrostem o 2233,80 USD**.\n",
    "\n",
    "- Zakładając wszystkie inne cechy stałe, wzrost **Area Population** o 1 jednostkę wiąże się ze **wzrostem o 15,15 USD**.\n",
    "\n",
    "Czy to ma sens?"
   ]
  },
  {
   "cell_type": "markdown",
   "metadata": {},
   "source": [
    "## Prognozy z naszego Modelu\n",
    "\n",
    "Weźmy prognozy z naszego zestawu testowego i zobaczmy, jak dobrze to poszło!"
   ]
  },
  {
   "cell_type": "code",
   "execution_count": null,
   "metadata": {},
   "outputs": [],
   "source": [
    "predictions = lm.predict(X_test)"
   ]
  },
  {
   "cell_type": "code",
   "execution_count": null,
   "metadata": {},
   "outputs": [],
   "source": [
    "plt.scatter(y_test,predictions)"
   ]
  },
  {
   "cell_type": "markdown",
   "metadata": {},
   "source": [
    "**Resztkowy histogram**"
   ]
  },
  {
   "cell_type": "code",
   "execution_count": null,
   "metadata": {},
   "outputs": [],
   "source": [
    "sns.histplot((y_test-predictions),bins=50);"
   ]
  },
  {
   "cell_type": "markdown",
   "metadata": {},
   "source": [
    "## Metryki oceny regresji\n",
    "\n",
    "Oto trzy typowe metryki oceny problemów z regresją:\n",
    "\n",
    "**Średni błąd bezwzględny** (MAE) to średnia wartości bezwzględnej błędów:\n",
    "\n",
    "$$\\frac 1n\\sum_{i=1}^n|y_i-\\hat{y}_i|$$\n",
    "\n",
    "**Średni błąd kwadratowy** (MSE) to średnia kwadratów błędów:\n",
    "\n",
    "$$\\frac 1n\\sum_{i=1}^n(y_i-\\hat{y}_i)^2$$\n",
    "\n",
    "**Pierwiastek ze średniego błądu kwadratowego** (RMSE) to pierwiastek kwadratowy średniej kwadratów błędów:\n",
    "\n",
    "$$\\sqrt{\\frac 1n\\sum_{i=1}^n(y_i-\\hat{y}_i)^2}$$\n",
    "\n",
    "Porównując te dane:\n",
    "\n",
    "- **MAE** jest najłatwiejszy do zrozumienia, ponieważ jest to średni błąd.\n",
    "- **MSE** jest bardziej popularne niż MAE, ponieważ MSE „karze” większe błędy, co zwykle jest przydatne w prawdziwym świecie.\n",
    "- **RMSE** jest jeszcze bardziej popularny niż MSE, ponieważ RMSE można interpretować w jednostkach „y”.\n",
    "\n",
    "Wszystkie te funkcje są **funkcjami strat**, ponieważ chcemy je zminimalizować."
   ]
  },
  {
   "cell_type": "code",
   "execution_count": null,
   "metadata": {},
   "outputs": [],
   "source": [
    "from sklearn import metrics"
   ]
  },
  {
   "cell_type": "code",
   "execution_count": null,
   "metadata": {},
   "outputs": [],
   "source": [
    "print('MAE:', metrics.mean_absolute_error(y_test, predictions))\n",
    "print('MSE:', metrics.mean_squared_error(y_test, predictions))\n",
    "print('RMSE:', np.sqrt(metrics.mean_squared_error(y_test, predictions)))"
   ]
  },
  {
   "cell_type": "markdown",
   "metadata": {},
   "source": [
    "Gratulacje za pomoc sąsiadce! \n",
    "\n",
    "Następny jest Twój własny projekt:\n",
    "\n",
    "Sprawdź zestaw danych z Bostonu: https://www.kaggle.com/datasets/vikrishnan/boston-house-prices"
   ]
  }
 ],
 "metadata": {
  "kernelspec": {
   "display_name": "Python 3 (ipykernel)",
   "language": "python",
   "name": "python3"
  },
  "language_info": {
   "codemirror_mode": {
    "name": "ipython",
    "version": 3
   },
   "file_extension": ".py",
   "mimetype": "text/x-python",
   "name": "python",
   "nbconvert_exporter": "python",
   "pygments_lexer": "ipython3",
   "version": "3.9.13"
  },
  "toc": {
   "base_numbering": 1,
   "nav_menu": {},
   "number_sections": true,
   "sideBar": true,
   "skip_h1_title": false,
   "title_cell": "Table of Contents",
   "title_sidebar": "Contents",
   "toc_cell": false,
   "toc_position": {},
   "toc_section_display": true,
   "toc_window_display": false
  }
 },
 "nbformat": 4,
 "nbformat_minor": 1
}
