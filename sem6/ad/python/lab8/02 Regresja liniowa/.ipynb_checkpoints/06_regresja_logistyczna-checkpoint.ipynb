{
 "cells": [
  {
   "cell_type": "markdown",
   "metadata": {
    "colab_type": "text",
    "id": "view-in-github"
   },
   "source": [
    "<a href=\"https://colab.research.google.com/github/krakowiakpawel9/data-science-bootcamp/blob/master/06_uczenie_maszynowe/06_regresja_logistyczna.ipynb\" target=\"_parent\"><img src=\"https://colab.research.google.com/assets/colab-badge.svg\" alt=\"Open In Colab\"/></a>"
   ]
  },
  {
   "cell_type": "markdown",
   "metadata": {
    "colab_type": "text",
    "id": "q4ynYqQUKQ3P"
   },
   "source": [
    "* @author: krakowiakpawel9@gmail.com  \n",
    "* @site: e-smartdata.org"
   ]
  },
  {
   "cell_type": "markdown",
   "metadata": {
    "colab_type": "text",
    "id": "SWts5-Puv3BL"
   },
   "source": [
    "### scikit-learn\n",
    ">Strona biblioteki: [https://scikit-learn.org](https://scikit-learn.org)  \n",
    ">\n",
    ">Dokumentacja/User Guide: [https://scikit-learn.org/stable/user_guide.html](https://scikit-learn.org/stable/user_guide.html)\n",
    ">\n",
    ">Podstawowa biblioteka do uczenia maszynowego w języku Python.\n",
    ">\n",
    ">Aby zainstalować bibliotekę scikit-learn, użyj polecenia poniżej:\n",
    "```\n",
    "pip install scikit-learn\n",
    "```\n",
    "### Spis treści:\n",
    "1. [Import bibliotek](#a1)\n",
    "2. [Regresja Logistyczna (Logistic Regression) - wprowadzenie](#a2)\n",
    "3. [Załadowanie danych](#a3)\n",
    "4. [Podział danych na zbiór treningowy i testowy](#a4)\n",
    "5. [Dopasowanie modelu](#a5)\n",
    "6. [Predykcja na podstawie modelu](#a6)\n",
    "7. [Ocena modelu](#a7)"
   ]
  },
  {
   "cell_type": "markdown",
   "metadata": {
    "colab_type": "text",
    "id": "jjtisHd5whjO"
   },
   "source": [
    "### <a name='a1'></a> Import bibliotek"
   ]
  },
  {
   "cell_type": "code",
   "execution_count": null,
   "metadata": {
    "colab": {
     "base_uri": "https://localhost:8080/",
     "height": 34
    },
    "colab_type": "code",
    "id": "VwB7JWYcv4P-",
    "outputId": "f848aa01-6772-4556-b14c-ebb6f14b3b15"
   },
   "outputs": [],
   "source": [
    "import sklearn\n",
    "sklearn.__version__"
   ]
  },
  {
   "cell_type": "markdown",
   "metadata": {
    "colab_type": "text",
    "id": "tt_AYVtZ0Pgl"
   },
   "source": [
    "###  <a name='a2'></a>  Regresja Logistyczna (Logistic Regression) - wprowadzenie\n",
    "\n",
    "Pomimo nazwy jest to liniowy model do zadań klasyfikacyjnych. Inna nazwa Logit Regression. \n",
    "\n",
    "#### Przykłady zastosowań:\n",
    "- przewidywanie czy mail jest spamem, czy też nie\n",
    "- przewidywanie czy użytkownik kliknie w reklamę\n",
    "- przewidywanie czy nowotwór jest złośliwy czy też nie\n",
    "- przewidywanie czy dłużnik spłaci wierzycielowi dług, czy też zajdzie zdarzenie default\n",
    "- przewidywanie czy transakcja jest próbą oszustwa\n",
    "\n",
    "Przy budowie modelu regresji logistycznej wykorzystamy funkcję sigmoid. Definiuje się ją wzorem:\n",
    "$$sigmoid(x) = \\frac{1}{1+e^{-x}}$$"
   ]
  },
  {
   "cell_type": "code",
   "execution_count": null,
   "metadata": {
    "colab": {
     "base_uri": "https://localhost:8080/",
     "height": 301
    },
    "colab_type": "code",
    "id": "X8NAT_uFkChZ",
    "outputId": "60fd3feb-5f23-4ef2-bb23-e13da3fe653d"
   },
   "outputs": [],
   "source": [
    "import numpy as np\n",
    "import pandas as pd\n",
    "import matplotlib.pyplot as plt\n",
    "import plotly.figure_factory as ff\n",
    "import seaborn as sns\n",
    "\n",
    "sns.set()\n",
    "np.random.seed(10)\n",
    "np.set_printoptions(precision=6, suppress=True)\n",
    "\n",
    "def sigmoid(x):\n",
    "    return 1 / (1 + np.exp(-x))\n",
    "\n",
    "X = np.arange(-5, 5, 0.1)\n",
    "y = sigmoid(X)\n",
    "plt.plot(X, y)\n",
    "plt.title('Sigmoid Function')"
   ]
  },
  {
   "cell_type": "markdown",
   "metadata": {
    "colab_type": "text",
    "id": "NAuOPAi6kCy3"
   },
   "source": [
    "Następnie rozważmy model liniowy $Y = w_0 + w_1X_1$. Podstawiając to do funkcji sigmoid otrzymujemy:\n",
    "$$LOG\\_REG(Y) = \\frac{1}{1 + e^{-(w_0 + w_1X_1)}}$$\n",
    "Dzięki temu przekształceniu regresja logistyczna zwraca nam wartości z przedziału $(0, 1)$ co możemy interpretować jako prawdopodobieństwo i na podstawie tych prawdopodobieństw przewidywać poszczególne klasy."
   ]
  },
  {
   "cell_type": "markdown",
   "metadata": {
    "colab_type": "text",
    "id": "vJS_z9QUwx0N"
   },
   "source": [
    "###  <a name='a3'></a> Załadowanie danych"
   ]
  },
  {
   "cell_type": "code",
   "execution_count": null,
   "metadata": {
    "colab": {
     "base_uri": "https://localhost:8080/",
     "height": 843
    },
    "colab_type": "code",
    "id": "hkcj5Yb_VhrK",
    "outputId": "644485bb-021b-43fe-ebb2-3c35d9247a88"
   },
   "outputs": [],
   "source": [
    "from sklearn.datasets import load_breast_cancer\n",
    "\n",
    "data = load_breast_cancer()\n",
    "print(data)"
   ]
  },
  {
   "cell_type": "code",
   "execution_count": null,
   "metadata": {
    "colab": {
     "base_uri": "https://localhost:8080/",
     "height": 51
    },
    "colab_type": "code",
    "id": "0zfpVetA1Vzj",
    "outputId": "e34bd4ab-3b2b-4175-f177-7f4ac29f3bb4"
   },
   "outputs": [],
   "source": [
    "X = data.data\n",
    "y = data.target\n",
    "\n",
    "print(f'shape X: {X.shape}')\n",
    "print(f'shape y: {y.shape}')"
   ]
  },
  {
   "cell_type": "code",
   "execution_count": null,
   "metadata": {
    "colab": {
     "base_uri": "https://localhost:8080/",
     "height": 617
    },
    "colab_type": "code",
    "id": "8v-Y74kWqx3O",
    "outputId": "c63c75bf-a99a-4ce5-a62f-f0cd690e546f"
   },
   "outputs": [],
   "source": [
    "df = pd.DataFrame(data=X, columns=data.feature_names)\n",
    "df.info()"
   ]
  },
  {
   "cell_type": "code",
   "execution_count": null,
   "metadata": {
    "colab": {
     "base_uri": "https://localhost:8080/",
     "height": 257
    },
    "colab_type": "code",
    "id": "UAbfdw5FrS5Y",
    "outputId": "7aceca7d-7d2e-4bad-dbb2-0f41ca90820f"
   },
   "outputs": [],
   "source": [
    "df.head()"
   ]
  },
  {
   "cell_type": "code",
   "execution_count": null,
   "metadata": {
    "colab": {
     "base_uri": "https://localhost:8080/",
     "height": 974
    },
    "colab_type": "code",
    "id": "5cagfkVVrK-G",
    "outputId": "94a85061-42be-4606-fb09-c9196afeebb4"
   },
   "outputs": [],
   "source": [
    "df.describe().T"
   ]
  },
  {
   "cell_type": "markdown",
   "metadata": {
    "colab_type": "text",
    "id": "QALWVO-j2BoE"
   },
   "source": [
    "###  <a name='a4'></a> Podział danych na zbiór treningowy i testowy"
   ]
  },
  {
   "cell_type": "code",
   "execution_count": null,
   "metadata": {
    "colab": {
     "base_uri": "https://localhost:8080/",
     "height": 86
    },
    "colab_type": "code",
    "id": "ji8uRYBG1334",
    "outputId": "3a529a04-2c86-463a-ecd5-9ce9c25c6cbe"
   },
   "outputs": [],
   "source": [
    "from sklearn.model_selection import train_test_split\n",
    "\n",
    "X_train, X_test, y_train, y_test = train_test_split(X, y)\n",
    "\n",
    "print(f'X_train shape: {X_train.shape}')\n",
    "print(f'y_train shape: {y_train.shape}')\n",
    "print(f'X_test shape: {X_test.shape}')\n",
    "print(f'y_test shape: {y_test.shape}')"
   ]
  },
  {
   "cell_type": "markdown",
   "metadata": {
    "colab_type": "text",
    "id": "lhrp8Nqr2azD"
   },
   "source": [
    "###<a name='a5'></a>  Dopasowanie modelu"
   ]
  },
  {
   "cell_type": "code",
   "execution_count": null,
   "metadata": {
    "colab": {
     "base_uri": "https://localhost:8080/",
     "height": 171
    },
    "colab_type": "code",
    "id": "cqOw73xE2LoZ",
    "outputId": "bc48b05b-8773-4f38-b69b-b89fa77097b0"
   },
   "outputs": [],
   "source": [
    "from sklearn.linear_model import LogisticRegression\n",
    "\n",
    "classifier = LogisticRegression()\n",
    "classifier.fit(X_train, y_train)"
   ]
  },
  {
   "cell_type": "markdown",
   "metadata": {
    "colab_type": "text",
    "id": "XgZm_dZFxZqc"
   },
   "source": [
    "###<a name='a6'></a>  Predykcja na podstawie modelu"
   ]
  },
  {
   "cell_type": "code",
   "execution_count": null,
   "metadata": {
    "colab": {
     "base_uri": "https://localhost:8080/",
     "height": 1000
    },
    "colab_type": "code",
    "id": "9CwqmC_w2wyg",
    "outputId": "1d2d2d50-4adf-4088-c7fc-8115f2a60f07"
   },
   "outputs": [],
   "source": [
    "y_prob = classifier.predict_proba(X_test)\n",
    "y_prob"
   ]
  },
  {
   "cell_type": "code",
   "execution_count": null,
   "metadata": {
    "colab": {
     "base_uri": "https://localhost:8080/",
     "height": 137
    },
    "colab_type": "code",
    "id": "zFBaG4tp2u99",
    "outputId": "bd7098d0-e637-4798-fa8d-9b23eaf832b4"
   },
   "outputs": [],
   "source": [
    "y_pred = classifier.predict(X_test)\n",
    "y_pred"
   ]
  },
  {
   "cell_type": "markdown",
   "metadata": {
    "colab_type": "text",
    "id": "IusW8zgExjea"
   },
   "source": [
    "###<a name='a7'></a>  Ocena modelu"
   ]
  },
  {
   "cell_type": "code",
   "execution_count": null,
   "metadata": {
    "colab": {
     "base_uri": "https://localhost:8080/",
     "height": 302
    },
    "colab_type": "code",
    "id": "1cL8cMp72zl2",
    "outputId": "1eb0b1df-a09c-40f5-fbc6-e4b58492c77a"
   },
   "outputs": [],
   "source": [
    "from sklearn.metrics import confusion_matrix\n",
    "from sklearn.metrics import accuracy_score\n",
    "from mlxtend.plotting import plot_confusion_matrix\n",
    "import seaborn as sns\n",
    "sns.set()\n",
    "\n",
    "cm = confusion_matrix(y_test, y_pred)\n",
    "plot_confusion_matrix(cm)\n",
    "\n",
    "acc = accuracy_score(y_test, y_pred)\n",
    "print(f'Accuracy: {acc}')"
   ]
  },
  {
   "cell_type": "code",
   "execution_count": null,
   "metadata": {
    "colab": {
     "base_uri": "https://localhost:8080/",
     "height": 417
    },
    "colab_type": "code",
    "id": "2SkN3JJtyDPR",
    "outputId": "5e418c69-0d4e-43ed-f99b-86ec26a2ec6d"
   },
   "outputs": [],
   "source": [
    "def plot_confusion_matrix(cm):\n",
    "    # Binary classification\n",
    "    cm = cm[::-1]\n",
    "    cm = pd.DataFrame(cm, columns=['pred_0', 'pred_1'], index=['true_1', 'true_0'])\n",
    "\n",
    "    fig = ff.create_annotated_heatmap(z=cm.values, x=list(cm.columns), y=list(cm.index), \n",
    "                                      colorscale='ice', showscale=True, reversescale=True)\n",
    "    fig.update_layout(width=400, height=400, title=f'Confusion Matrix, Accuracy: {acc:.4f}', font_size=16)\n",
    "    fig.show()\n",
    "\n",
    "plot_confusion_matrix(cm)"
   ]
  },
  {
   "cell_type": "code",
   "execution_count": null,
   "metadata": {
    "colab": {
     "base_uri": "https://localhost:8080/",
     "height": 171
    },
    "colab_type": "code",
    "id": "xkKRIFi8xxvh",
    "outputId": "cbeb37e0-b0c5-46dd-8fd9-a6097e3ee41c"
   },
   "outputs": [],
   "source": [
    "from sklearn.metrics import classification_report\n",
    "\n",
    "print(classification_report(y_test, y_pred, target_names=data.target_names))"
   ]
  },
  {
   "cell_type": "code",
   "execution_count": null,
   "metadata": {
    "colab": {},
    "colab_type": "code",
    "id": "z0xnwe4Mr_-m"
   },
   "outputs": [],
   "source": []
  }
 ],
 "metadata": {
  "accelerator": "GPU",
  "colab": {
   "include_colab_link": true,
   "name": "06_regresja_logistyczna.ipynb",
   "provenance": []
  },
  "kernelspec": {
   "display_name": "Python 3 (ipykernel)",
   "language": "python",
   "name": "python3"
  },
  "language_info": {
   "codemirror_mode": {
    "name": "ipython",
    "version": 3
   },
   "file_extension": ".py",
   "mimetype": "text/x-python",
   "name": "python",
   "nbconvert_exporter": "python",
   "pygments_lexer": "ipython3",
   "version": "3.9.13"
  },
  "toc": {
   "base_numbering": 1,
   "nav_menu": {},
   "number_sections": true,
   "sideBar": true,
   "skip_h1_title": false,
   "title_cell": "Table of Contents",
   "title_sidebar": "Contents",
   "toc_cell": false,
   "toc_position": {},
   "toc_section_display": true,
   "toc_window_display": false
  }
 },
 "nbformat": 4,
 "nbformat_minor": 1
}
