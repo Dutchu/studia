{
 "cells": [
  {
   "cell_type": "markdown",
   "metadata": {
    "colab_type": "text",
    "id": "view-in-github"
   },
   "source": [
    "<a href=\"https://colab.research.google.com/github/krakowiakpawel9/data-science-bootcamp/blob/master/06_uczenie_maszynowe/05_regresja_wielomianowa.ipynb\" target=\"_parent\"><img src=\"https://colab.research.google.com/assets/colab-badge.svg\" alt=\"Open In Colab\"/></a>"
   ]
  },
  {
   "cell_type": "markdown",
   "metadata": {
    "colab_type": "text",
    "id": "DMhW0dCGKKOE"
   },
   "source": [
    "* @author: krakowiakpawel9@gmail.com  \n",
    "* @site: e-smartdata.org"
   ]
  },
  {
   "cell_type": "markdown",
   "metadata": {
    "colab_type": "text",
    "id": "QMwZ7ve8NXSN"
   },
   "source": [
    "### scikit-learn\n",
    "Strona biblioteki: [https://scikit-learn.org](https://scikit-learn.org)  \n",
    "\n",
    "Dokumentacja/User Guide: [https://scikit-learn.org/stable/user_guide.html](https://scikit-learn.org/stable/user_guide.html)\n",
    "\n",
    "Dokumentacja API: [https://scikit-learn.org/stable/modules/classes.html](https://scikit-learn.org/stable/modules/classes.html)\n",
    "\n",
    "Podstawowa biblioteka do uczenia maszynowego w języku Python.\n",
    "\n",
    "Aby zainstalować bibliotekę scikit-learn, użyj polecenia poniżej:\n",
    "```\n",
    "pip install scikit-learn\n",
    "```\n",
    "\n",
    "### Spis treści:\n",
    "1. [Polynomial Regression - Regresja Wielomianowa](#a1)\n",
    "2. [Ekstrakcja cech wielomianowych - stopień 2](#a2)\n",
    "3. [Dopasowanie modelu](#a3)\n",
    "4. [Ekstrakcja cech wielomianowych - stopień 3](#a4)\n",
    "5. [Dopasowanie modelu](#a5)"
   ]
  },
  {
   "cell_type": "code",
   "execution_count": null,
   "metadata": {
    "colab": {
     "base_uri": "https://localhost:8080/",
     "height": 34
    },
    "colab_type": "code",
    "id": "do5ULTJPN0St",
    "outputId": "9a958b94-44fd-4e95-e5fb-1fa573327c2f"
   },
   "outputs": [],
   "source": [
    "import sklearn\n",
    "sklearn.__version__"
   ]
  },
  {
   "cell_type": "markdown",
   "metadata": {
    "colab_type": "text",
    "id": "m6t9_XjVn6nC"
   },
   "source": [
    "### <a name='a1'></a> Polynomial Regression - Regresja Wielomianowa\n",
    "Powszechnym wzorcem stosowanym w uczeniu maszynowym jest użycie modeli liniowych wytrenowanych na nieliniowych funkcjach danych. Podejscie to utrzymuje szybkie działanie metod liniowych i zarazem umożliwia stosowanie metod liniowych dla znacznie szerszego zakresu danych.\n",
    "\n",
    "Przykładowo, prosta regresja liniowa może zostać zastosowana przez skonstruowanie cech wielomianowych do modelów nieliniowych.\n",
    "\n",
    "Rozważmy model regresji liniowej:\n",
    "$$\\hat{y}(w, x) = w_0 + w_1 x_1 + w_2 x_2$$\n",
    "Dodając cechy wileomianowe otrzymujemy:\n",
    "$$\\hat{y}(w, x) = w_0 + w_1 x_1 + w_2 x_2 + w_3 x_1 x_2 + w_4 x_1^2 + w_5 x_2^2$$\n",
    "Wyobraźmy sobie teraz nastepujące podstawienie:\n",
    "$$z = [1, x_1, x_2, x_1 x_2, x_1^2, x_2^2]$$\n",
    "Wrzucając to z powrotem do naszego modelu dotrzymujemy prosty model liniowy:\n",
    "$$\\hat{y}(w, z) = w_0 + w_1 z_1 + w_2 z_2 + w_3 z_3 + w_4 z_4 + w_5 z_5$$\n",
    "\n",
    "To implikuje fakt, iż nasz model regresji wielomianowej znajduje się w klasie modeli liniowych i może być rozwiązany za pomocą tych samych technik. \n",
    "\n",
    "### Rozważmy model regresji liniowej: $\\hat{y}(w,x)=w_0+w_1x_1$\n"
   ]
  },
  {
   "cell_type": "code",
   "execution_count": null,
   "metadata": {
    "colab": {
     "base_uri": "https://localhost:8080/",
     "height": 268
    },
    "colab_type": "code",
    "id": "hkcj5Yb_VhrK",
    "outputId": "8b5a092b-9d24-4118-cf02-e47b0e6ef296"
   },
   "outputs": [],
   "source": [
    "import numpy as np\n",
    "import matplotlib.pyplot as plt\n",
    "import seaborn as sns\n",
    "sns.set()\n",
    "\n",
    "np.random.seed(0)\n",
    "X = np.arange(-10, 10, 0.5)\n",
    "noise = 80 * np.random.randn(40)\n",
    "y = -X**3 + 10*X**2 - 2*X + 3 + noise\n",
    "X = X.reshape(40, 1)\n",
    "_ = plt.scatter(X, y)"
   ]
  },
  {
   "cell_type": "code",
   "execution_count": null,
   "metadata": {
    "colab": {
     "base_uri": "https://localhost:8080/",
     "height": 268
    },
    "colab_type": "code",
    "id": "I3e2ln52FaBn",
    "outputId": "e1675d30-535f-4ae8-93fc-863108abec57"
   },
   "outputs": [],
   "source": [
    "from sklearn.linear_model import LinearRegression\n",
    "\n",
    "regressor = LinearRegression()\n",
    "regressor.fit(X, y)\n",
    "y_pred = regressor.predict(X)\n",
    "\n",
    "plt.scatter(X, y)\n",
    "_ = plt.plot(X, y_pred, c='red')"
   ]
  },
  {
   "cell_type": "code",
   "execution_count": null,
   "metadata": {
    "colab": {
     "base_uri": "https://localhost:8080/",
     "height": 34
    },
    "colab_type": "code",
    "id": "u-NJxTVMF9WQ",
    "outputId": "e0478f83-45b7-4c11-9f90-9c3e8c290b8a"
   },
   "outputs": [],
   "source": [
    "from sklearn.metrics import r2_score\n",
    "\n",
    "r2_score(y, y_pred)"
   ]
  },
  {
   "cell_type": "markdown",
   "metadata": {
    "colab_type": "text",
    "id": "HiBChJPbGJaW"
   },
   "source": [
    "Model jest niedouczony (underfitting). Potrzebujemy zwiekszyć złozoność modelu do naszego problemu.\n",
    "\n",
    "Rozważmy model regresji liniowej:\n",
    "$$\\hat{y}(w, x) = w_0 + w_1 x_1$$\n",
    "Dodając cechy wielomianowe otrzymujemy:\n",
    "$$\\hat{y}(w, x) = w_0 + w_1 x_1 +w_2x_1^2 $$\n",
    "Wyobraźmy sobie teraz nastepujące podstawienie:\n",
    "$$z = [1, x_1, x_1^2]$$\n",
    "Wrzucając to z powrotem do naszego modelu otrzymujemy prosty model liniowy:\n",
    "$$\\hat{y}(w, z) = w_0 + w_1 z_1 + w_2 z_2$$"
   ]
  },
  {
   "cell_type": "markdown",
   "metadata": {
    "colab_type": "text",
    "id": "DUfA_V18P8_q"
   },
   "source": [
    "###  <a name='a2'></a> Ekstrakcja cech wielomianowych - stopień 2"
   ]
  },
  {
   "cell_type": "code",
   "execution_count": null,
   "metadata": {
    "colab": {
     "base_uri": "https://localhost:8080/",
     "height": 703
    },
    "colab_type": "code",
    "id": "uR-M0toazuiH",
    "outputId": "fcdad0c8-731d-479a-b635-b8cb0dcb642f"
   },
   "outputs": [],
   "source": [
    "from sklearn.preprocessing import PolynomialFeatures\n",
    "\n",
    "poly = PolynomialFeatures(degree=2)\n",
    "X_poly = poly.fit_transform(X)\n",
    "X_poly"
   ]
  },
  {
   "cell_type": "markdown",
   "metadata": {
    "colab_type": "text",
    "id": "fnK60kycQRMg"
   },
   "source": [
    "###  <a name='a3'></a> Dopasowanie modelu"
   ]
  },
  {
   "cell_type": "code",
   "execution_count": null,
   "metadata": {
    "colab": {
     "base_uri": "https://localhost:8080/",
     "height": 268
    },
    "colab_type": "code",
    "id": "cjfNBfGBwR2a",
    "outputId": "c0055690-ed0d-4bcb-fe93-7e83b9dfbb1d"
   },
   "outputs": [],
   "source": [
    "regressor_poly = LinearRegression()\n",
    "regressor_poly.fit(X_poly, y)\n",
    "\n",
    "y_pred = regressor_poly.predict(X_poly)\n",
    "\n",
    "plt.scatter(X, y)\n",
    "_ = plt.plot(X, y_pred, c='r')"
   ]
  },
  {
   "cell_type": "code",
   "execution_count": null,
   "metadata": {
    "colab": {
     "base_uri": "https://localhost:8080/",
     "height": 34
    },
    "colab_type": "code",
    "id": "51nd0N6FylLq",
    "outputId": "c16657fe-8d22-4d3e-aa3c-f026087ddb0c"
   },
   "outputs": [],
   "source": [
    "r2_score(y, y_pred)"
   ]
  },
  {
   "cell_type": "markdown",
   "metadata": {
    "colab_type": "text",
    "id": "0UEP3RwmRO5b"
   },
   "source": [
    "###  <a name='a4'></a> Ekstrakcja cech wielomianowych - stopień 3"
   ]
  },
  {
   "cell_type": "code",
   "execution_count": null,
   "metadata": {
    "colab": {
     "base_uri": "https://localhost:8080/",
     "height": 703
    },
    "colab_type": "code",
    "id": "bfB52p8bPz0K",
    "outputId": "e246e7a2-e8b1-43e0-bee1-9d20dbfb4644"
   },
   "outputs": [],
   "source": [
    "np.set_printoptions(suppress=True)\n",
    "\n",
    "poly = PolynomialFeatures(degree=3)\n",
    "X_poly = poly.fit_transform(X)\n",
    "X_poly"
   ]
  },
  {
   "cell_type": "markdown",
   "metadata": {
    "colab_type": "text",
    "id": "BOB19D4xRYQy"
   },
   "source": [
    "###  <a name='a5'></a> Dopasowanie modelu"
   ]
  },
  {
   "cell_type": "code",
   "execution_count": null,
   "metadata": {
    "colab": {
     "base_uri": "https://localhost:8080/",
     "height": 268
    },
    "colab_type": "code",
    "id": "MvCSaSLjQcem",
    "outputId": "933f4780-2820-47f1-db36-033c8a762e12"
   },
   "outputs": [],
   "source": [
    "regressor_poly_3 = LinearRegression()\n",
    "regressor_poly_3.fit(X_poly, y)\n",
    "\n",
    "y_pred = regressor_poly_3.predict(X_poly)\n",
    "\n",
    "plt.scatter(X, y)\n",
    "_ = plt.plot(X, y_pred, c='r')"
   ]
  },
  {
   "cell_type": "code",
   "execution_count": null,
   "metadata": {
    "colab": {
     "base_uri": "https://localhost:8080/",
     "height": 34
    },
    "colab_type": "code",
    "id": "TPndVZM9RDdy",
    "outputId": "02e51f21-005d-431c-b4ee-2e40d02f71a9"
   },
   "outputs": [],
   "source": [
    "r2_score(y, y_pred)"
   ]
  },
  {
   "cell_type": "code",
   "execution_count": null,
   "metadata": {
    "colab": {},
    "colab_type": "code",
    "id": "GsIapMeCo46G"
   },
   "outputs": [],
   "source": []
  }
 ],
 "metadata": {
  "accelerator": "GPU",
  "colab": {
   "include_colab_link": true,
   "name": "05_regresja_wielomianowa.ipynb",
   "provenance": []
  },
  "kernelspec": {
   "display_name": "Python 3 (ipykernel)",
   "language": "python",
   "name": "python3"
  },
  "language_info": {
   "codemirror_mode": {
    "name": "ipython",
    "version": 3
   },
   "file_extension": ".py",
   "mimetype": "text/x-python",
   "name": "python",
   "nbconvert_exporter": "python",
   "pygments_lexer": "ipython3",
   "version": "3.9.13"
  },
  "toc": {
   "base_numbering": 1,
   "nav_menu": {},
   "number_sections": true,
   "sideBar": true,
   "skip_h1_title": false,
   "title_cell": "Table of Contents",
   "title_sidebar": "Contents",
   "toc_cell": false,
   "toc_position": {},
   "toc_section_display": true,
   "toc_window_display": false
  }
 },
 "nbformat": 4,
 "nbformat_minor": 1
}
