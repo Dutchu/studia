{
 "cells": [
  {
   "cell_type": "markdown",
   "metadata": {},
   "source": [
    "# Pythagorean Theorem\n",
    "\\begin{equation}\n",
    "    c = \\sqrt{a^2 + b^2}\n",
    "\\end{equation}"
   ]
  },
  {
   "cell_type": "code",
   "execution_count": null,
   "metadata": {},
   "outputs": [],
   "source": [
    "import random, nltk\n",
    "random.seed(12347)\n",
    "\n",
    "nltk.download('names')"
   ]
  },
  {
   "cell_type": "code",
   "execution_count": null,
   "metadata": {},
   "outputs": [],
   "source": [
    "m_names = nltk.corpus.names.words('male.txt')\n",
    "f_names = nltk.corpus.names.words('female.txt')\n",
    "\n",
    "print(\"male: \", m_names[:5])\n",
    "print(\"female\", f_names[:5])"
   ]
  },
  {
   "cell_type": "code",
   "execution_count": null,
   "metadata": {},
   "outputs": [],
   "source": [
    "marked_names = [(name, \"male\") for name in m_names]\n",
    "marked_names += [(name, \"female\") for name in f_names]"
   ]
  },
  {
   "cell_type": "code",
   "execution_count": null,
   "metadata": {},
   "outputs": [],
   "source": [
    "random.shuffle(marked_names)\n",
    "print(marked_names[:5])"
   ]
  },
  {
   "cell_type": "code",
   "execution_count": null,
   "metadata": {},
   "outputs": [],
   "source": [
    "def get_characteristics(name):\n",
    "    name = name.lower()  # Convert name to lowercase for consistent comparison\n",
    "    letters = set(name)  # Get unique letters in the name\n",
    "\n",
    "    ## 2 ostatnie litery\n",
    "    ## 2 pierwsze litery\n",
    "    ## 5 ostatnich liter\n",
    "    male_letters = {'j', 'm', 'n', 'o', 'u', 's', 't', 'r', 'h'}  # Example male letters\n",
    "    female_letters = {'a', 'e', 'l', 'i', 'y'}  # Example female letters\n",
    "    vowels = {'a', 'e', 'i', 'o', 'u'}  # Vowel letters\n",
    "    consonant_clusters = {'th', 'ch', 'sh', 'ph', 'wh', 'gh', 'qu'}  # Example consonant clusters\n",
    "\n",
    "    male_count = sum(1 for letter in letters if letter in male_letters)\n",
    "    female_count = sum(1 for letter in letters if letter in female_letters)\n",
    "    vowel_count = sum(1 for letter in letters if letter in vowels)\n",
    "    consonant_cluster_count = sum(1 for cluster in consonant_clusters if cluster in name)\n",
    "\n",
    "    return {\n",
    "        'last_letter': name[-1],  # Last letter of the name\n",
    "        'male_count': male_count,  # Count of male letters\n",
    "        'female_count': female_count,  # Count of female letters\n",
    "        'vowel_count': vowel_count,  # Count of vowels\n",
    "        'consonant_cluster_count': consonant_cluster_count  # Count of consonant clusters\n",
    "    }"
   ]
  },
  {
   "cell_type": "code",
   "execution_count": null,
   "metadata": {},
   "outputs": [],
   "source": [
    "char_list = [(get_characteristics(name), sex) for (name, sex) in marked_names]\n",
    "print(\"char list\", char_list[:5])"
   ]
  },
  {
   "cell_type": "code",
   "execution_count": null,
   "metadata": {},
   "outputs": [],
   "source": [
    "training_set, testing_set = char_list[1000:], char_list[:1000]\n",
    "training_set[:2]"
   ]
  },
  {
   "cell_type": "code",
   "execution_count": null,
   "metadata": {},
   "outputs": [],
   "source": [
    "marked_names[:2]"
   ]
  },
  {
   "cell_type": "markdown",
   "metadata": {},
   "source": [
    "## Naiwny klasyfikator bayesowski"
   ]
  },
  {
   "cell_type": "code",
   "execution_count": null,
   "metadata": {},
   "outputs": [],
   "source": [
    "bayes_classificator = nltk.NaiveBayesClassifier.train(training_set)"
   ]
  },
  {
   "cell_type": "code",
   "execution_count": null,
   "metadata": {},
   "outputs": [],
   "source": [
    "print(bayes_classificator.classify(get_characteristics('Bartlomiej')))"
   ]
  },
  {
   "cell_type": "markdown",
   "metadata": {},
   "source": [
    "## Ocena jakości klasyfikatora"
   ]
  },
  {
   "cell_type": "code",
   "execution_count": null,
   "metadata": {},
   "outputs": [],
   "source": [
    "print(nltk.classify.accuracy(bayes_classificator, testing_set))"
   ]
  },
  {
   "cell_type": "code",
   "execution_count": null,
   "metadata": {},
   "outputs": [],
   "source": [
    "bayes_classificator.show_most_informative_features(10)"
   ]
  },
  {
   "cell_type": "markdown",
   "metadata": {},
   "source": [
    "## Confussion Matrix"
   ]
  },
  {
   "cell_type": "code",
   "execution_count": null,
   "metadata": {},
   "outputs": [],
   "source": []
  }
 ],
 "metadata": {
  "kernelspec": {
   "display_name": "Python 3",
   "language": "python",
   "name": "python3"
  },
  "language_info": {
   "codemirror_mode": {
    "name": "ipython",
    "version": 2
   },
   "file_extension": ".py",
   "mimetype": "text/x-python",
   "name": "python",
   "nbconvert_exporter": "python",
   "pygments_lexer": "ipython2",
   "version": "2.7.6"
  }
 },
 "nbformat": 4,
 "nbformat_minor": 0
}
