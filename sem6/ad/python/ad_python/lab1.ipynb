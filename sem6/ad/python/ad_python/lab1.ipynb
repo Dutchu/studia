{
 "cells": [
  {
   "cell_type": "markdown",
   "source": [
    "# Pythagorean Theorem\n",
    "\\begin{equation}\n",
    "    c = \\sqrt{a^2 + b^2}\n",
    "\\end{equation}"
   ],
   "metadata": {
    "collapsed": false
   }
  },
  {
   "cell_type": "code",
   "execution_count": 3,
   "outputs": [
    {
     "name": "stderr",
     "output_type": "stream",
     "text": [
      "[nltk_data] Downloading package names to\n",
      "[nltk_data]     C:\\Users\\blasz\\AppData\\Roaming\\nltk_data...\n",
      "[nltk_data]   Package names is already up-to-date!\n"
     ]
    },
    {
     "data": {
      "text/plain": "True"
     },
     "execution_count": 3,
     "metadata": {},
     "output_type": "execute_result"
    }
   ],
   "source": [
    "import random, nltk\n",
    "random.seed(12347)\n",
    "\n",
    "nltk.download('names')"
   ],
   "metadata": {
    "collapsed": false
   }
  },
  {
   "cell_type": "code",
   "execution_count": 8,
   "outputs": [
    {
     "name": "stdout",
     "output_type": "stream",
     "text": [
      "male:  ['Aamir', 'Aaron', 'Abbey', 'Abbie', 'Abbot']\n",
      "female ['Abagael', 'Abagail', 'Abbe', 'Abbey', 'Abbi']\n"
     ]
    }
   ],
   "source": [
    "m_names = nltk.corpus.names.words('male.txt')\n",
    "f_names = nltk.corpus.names.words('female.txt')\n",
    "\n",
    "print(\"male: \", m_names[:5])\n",
    "print(\"female\", f_names[:5])"
   ],
   "metadata": {
    "collapsed": false
   }
  },
  {
   "cell_type": "code",
   "execution_count": 10,
   "outputs": [],
   "source": [
    "marked_names = [(name, \"male\") for name in m_names]\n",
    "marked_names += [(name, \"female\") for name in f_names]"
   ],
   "metadata": {
    "collapsed": false
   }
  },
  {
   "cell_type": "code",
   "execution_count": 11,
   "outputs": [
    {
     "name": "stdout",
     "output_type": "stream",
     "text": [
      "[('Shayne', 'male'), ('Marcellus', 'male'), ('Leora', 'female'), ('Adelaide', 'female'), ('Shelba', 'female')]\n"
     ]
    }
   ],
   "source": [
    "random.shuffle(marked_names)\n",
    "print(marked_names[:5])"
   ],
   "metadata": {
    "collapsed": false
   }
  },
  {
   "cell_type": "code",
   "execution_count": 74,
   "outputs": [],
   "source": [
    "def get_characteristics(name):\n",
    "    name = name.lower()  # Convert name to lowercase for consistent comparison\n",
    "    letters = set(name)  # Get unique letters in the name\n",
    "\n",
    "    ## 2 ostatnie litery\n",
    "    ## 2 pierwsze litery\n",
    "    ## 5 ostatnich liter\n",
    "    male_letters = {'j', 'm', 'n', 'o', 'u', 's', 't', 'r', 'h'}  # Example male letters\n",
    "    female_letters = {'a', 'e', 'l', 'i', 'y'}  # Example female letters\n",
    "    vowels = {'a', 'e', 'i', 'o', 'u'}  # Vowel letters\n",
    "    consonant_clusters = {'th', 'ch', 'sh', 'ph', 'wh', 'gh', 'qu'}  # Example consonant clusters\n",
    "\n",
    "    male_count = sum(1 for letter in letters if letter in male_letters)\n",
    "    female_count = sum(1 for letter in letters if letter in female_letters)\n",
    "    vowel_count = sum(1 for letter in letters if letter in vowels)\n",
    "    consonant_cluster_count = sum(1 for cluster in consonant_clusters if cluster in name)\n",
    "\n",
    "    return {\n",
    "        'last_letter': name[-1],  # Last letter of the name\n",
    "        'male_count': male_count,  # Count of male letters\n",
    "        'female_count': female_count,  # Count of female letters\n",
    "        'vowel_count': vowel_count,  # Count of vowels\n",
    "        'consonant_cluster_count': consonant_cluster_count  # Count of consonant clusters\n",
    "    }"
   ],
   "metadata": {
    "collapsed": false
   }
  },
  {
   "cell_type": "code",
   "execution_count": 73,
   "outputs": [
    {
     "name": "stdout",
     "output_type": "stream",
     "text": [
      "char list [({'last_letter': 'e', 'male_count': 3, 'female_count': 3, 'vowel_count': 2, 'consonant_cluster_count': 1}, 'male'), ({'last_letter': 's', 'male_count': 4, 'female_count': 3, 'vowel_count': 3, 'consonant_cluster_count': 0}, 'male'), ({'last_letter': 'a', 'male_count': 2, 'female_count': 3, 'vowel_count': 3, 'consonant_cluster_count': 0}, 'female'), ({'last_letter': 'e', 'male_count': 0, 'female_count': 4, 'vowel_count': 3, 'consonant_cluster_count': 0}, 'female'), ({'last_letter': 'a', 'male_count': 2, 'female_count': 3, 'vowel_count': 2, 'consonant_cluster_count': 1}, 'female')]\n"
     ]
    }
   ],
   "source": [
    "char_list = [(get_characteristics(name), sex) for (name, sex) in marked_names]\n",
    "print(\"char list\", char_list[:5])"
   ],
   "metadata": {
    "collapsed": false
   }
  },
  {
   "cell_type": "code",
   "execution_count": 66,
   "outputs": [
    {
     "data": {
      "text/plain": "[({'last_letter': 'r',\n   'male_count': 0,\n   'female_count': 0,\n   'vowel_count': 2,\n   'consonant_cluster_count': 0},\n  'female'),\n ({'last_letter': 'l',\n   'male_count': 0,\n   'female_count': 0,\n   'vowel_count': 1,\n   'consonant_cluster_count': 0},\n  'female')]"
     },
     "execution_count": 66,
     "metadata": {},
     "output_type": "execute_result"
    }
   ],
   "source": [
    "training_set, testing_set = char_list[1000:], char_list[:1000]\n",
    "training_set[:2]"
   ],
   "metadata": {
    "collapsed": false
   }
  },
  {
   "cell_type": "code",
   "execution_count": 67,
   "outputs": [
    {
     "data": {
      "text/plain": "[('Shayne', 'male'), ('Marcellus', 'male')]"
     },
     "execution_count": 67,
     "metadata": {},
     "output_type": "execute_result"
    }
   ],
   "source": [
    "marked_names[:2]"
   ],
   "metadata": {
    "collapsed": false
   }
  },
  {
   "cell_type": "markdown",
   "source": [
    "## Naiwny klasyfikator bayesowski"
   ],
   "metadata": {
    "collapsed": false
   }
  },
  {
   "cell_type": "code",
   "execution_count": 68,
   "outputs": [],
   "source": [
    "bayes_classificator = nltk.NaiveBayesClassifier.train(training_set)"
   ],
   "metadata": {
    "collapsed": false
   }
  },
  {
   "cell_type": "code",
   "execution_count": 69,
   "outputs": [
    {
     "name": "stdout",
     "output_type": "stream",
     "text": [
      "male\n"
     ]
    }
   ],
   "source": [
    "print(bayes_classificator.classify(get_characteristics('Bartlomiej')))"
   ],
   "metadata": {
    "collapsed": false
   }
  },
  {
   "cell_type": "markdown",
   "source": [
    "## Ocena jakości klasyfikatora"
   ],
   "metadata": {
    "collapsed": false
   }
  },
  {
   "cell_type": "code",
   "execution_count": 70,
   "outputs": [
    {
     "name": "stdout",
     "output_type": "stream",
     "text": [
      "0.738\n"
     ]
    }
   ],
   "source": [
    "print(nltk.classify.accuracy(bayes_classificator, testing_set))"
   ],
   "metadata": {
    "collapsed": false
   }
  },
  {
   "cell_type": "code",
   "execution_count": 76,
   "outputs": [
    {
     "name": "stdout",
     "output_type": "stream",
     "text": [
      "Most Informative Features\n",
      "             last_letter = 'a'            female : male   =     33.1 : 1.0\n",
      "             last_letter = 'k'              male : female =     28.5 : 1.0\n",
      "             last_letter = 'f'              male : female =     13.3 : 1.0\n",
      "             last_letter = 'p'              male : female =     11.2 : 1.0\n",
      "             last_letter = 'd'              male : female =     10.1 : 1.0\n",
      "             last_letter = 'm'              male : female =     10.1 : 1.0\n",
      "             last_letter = 'v'              male : female =      9.9 : 1.0\n",
      "             last_letter = 'o'              male : female =      8.7 : 1.0\n",
      "             last_letter = 'r'              male : female =      6.2 : 1.0\n",
      "             last_letter = 'w'              male : female =      5.4 : 1.0\n"
     ]
    }
   ],
   "source": [
    "bayes_classificator.show_most_informative_features(10)"
   ],
   "metadata": {
    "collapsed": false
   }
  },
  {
   "cell_type": "markdown",
   "source": [
    "## Confussion Matrix"
   ],
   "metadata": {
    "collapsed": false
   }
  },
  {
   "cell_type": "code",
   "execution_count": null,
   "outputs": [],
   "source": [],
   "metadata": {
    "collapsed": false
   }
  }
 ],
 "metadata": {
  "kernelspec": {
   "display_name": "Python 3",
   "language": "python",
   "name": "python3"
  },
  "language_info": {
   "codemirror_mode": {
    "name": "ipython",
    "version": 2
   },
   "file_extension": ".py",
   "mimetype": "text/x-python",
   "name": "python",
   "nbconvert_exporter": "python",
   "pygments_lexer": "ipython2",
   "version": "2.7.6"
  }
 },
 "nbformat": 4,
 "nbformat_minor": 0
}
