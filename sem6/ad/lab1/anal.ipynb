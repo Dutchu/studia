{
 "cells": [
  {
   "cell_type": "markdown",
   "metadata": {},
   "source": [
    "### Moje równanie"
   ]
  },
  {
   "cell_type": "code",
   "execution_count": null,
   "metadata": {},
   "outputs": [],
   "source": [
    "import math\n",
    "a=5\n",
    "b=3\n",
    "c=math.sqrt(b**2+b**2)\n",
    "print(c)"
   ]
  },
  {
   "cell_type": "markdown",
   "metadata": {},
   "source": [
    "\\documentclass{article}\n",
    "\\usepackage{amsmath}\n",
    "\\begin{document}\n",
    "\\begin{equation}\n",
    "  kod =\n",
    "    \\begin{cases}\n",
    "      1 & \\text{if bank $i$ issues ABs at time $t$}\\\\\n",
    "      2 & \\text{if bank $i$ issues CBs at time $t$}\\\\\n",
    "      0 & \\text{otherwise}\n",
    "    \\end{cases}\n",
    "\\end{equation}\n",
    "\\end{document}"
   ]
  },
  {
   "cell_type": "markdown",
   "metadata": {},
   "source": []
  },
  {
   "cell_type": "code",
   "execution_count": null,
   "metadata": {},
   "outputs": [],
   "source": [
    "import random, nltk\n",
    "nltk.download('names')"
   ]
  },
  {
   "cell_type": "code",
   "execution_count": null,
   "metadata": {},
   "outputs": [],
   "source": [
    "male_names = nltk.corpus.names.words('male.txt')\n",
    "female_names = nltk.corpus.names.words('female.txt')\n",
    "print(male_names[:5])\n",
    "print(female_names[:5])"
   ]
  },
  {
   "cell_type": "code",
   "execution_count": null,
   "metadata": {},
   "outputs": [],
   "source": [
    "marked_names = [(name, 'm') for name in male_names]\n",
    "marked_names += [(name, 'k') for name in female_names]\n",
    "print(marked_names[:10])"
   ]
  },
  {
   "cell_type": "code",
   "execution_count": null,
   "metadata": {},
   "outputs": [],
   "source": [
    "random.seed(12347)\n",
    "random.shuffle(marked_names)\n",
    "print(marked_names[:10])"
   ]
  },
  {
   "cell_type": "code",
   "execution_count": null,
   "metadata": {},
   "outputs": [],
   "source": [
    "import string\n",
    "def get_traits(name):\n",
    "    return {\n",
    "        'Last letter': name[-1],\n",
    "        # 'Name length': len(name),\n",
    "        '2l' : name[-2:],\n",
    "        '2f' : name[:2],\n",
    "        'name' : name\n",
    "        # 'a' : name.count('a')\n",
    "    }\n",
    "\n",
    "traits_set = [(get_traits(name), sex) for (name, sex) in marked_names]\n",
    "print(traits_set[:10])"
   ]
  },
  {
   "cell_type": "code",
   "execution_count": null,
   "metadata": {},
   "outputs": [],
   "source": [
    "training_set, testing_set = traits_set[1000:], traits_set[:1000]\n",
    "print(testing_set[:2])\n",
    "print(marked_names[:2])"
   ]
  },
  {
   "cell_type": "code",
   "execution_count": null,
   "metadata": {},
   "outputs": [],
   "source": [
    "bayes = nltk.NaiveBayesClassifier.train(training_set)\n",
    "print(bayes.classify(get_traits('Bartek')))"
   ]
  },
  {
   "cell_type": "code",
   "execution_count": null,
   "metadata": {},
   "outputs": [],
   "source": [
    "print(nltk.classify.accuracy(bayes, testing_set))"
   ]
  },
  {
   "cell_type": "code",
   "execution_count": null,
   "metadata": {},
   "outputs": [],
   "source": [
    "bayes.show_most_informative_features(10)"
   ]
  },
  {
   "cell_type": "code",
   "execution_count": null,
   "metadata": {},
   "outputs": [],
   "source": []
  }
 ],
 "metadata": {
  "kernelspec": {
   "display_name": "Python 3 (ipykernel)",
   "language": "python",
   "name": "python3"
  },
  "language_info": {
   "codemirror_mode": {
    "name": "ipython",
    "version": 3
   },
   "file_extension": ".py",
   "mimetype": "text/x-python",
   "name": "python",
   "nbconvert_exporter": "python",
   "pygments_lexer": "ipython3",
   "version": "3.8.16"
  }
 },
 "nbformat": 4,
 "nbformat_minor": 1
}
