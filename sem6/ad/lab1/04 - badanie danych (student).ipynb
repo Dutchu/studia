{
 "cells": [
  {
   "cell_type": "markdown",
   "metadata": {},
   "source": [
    "# Badanie danych"
   ]
  },
  {
   "cell_type": "markdown",
   "metadata": {},
   "source": [
    "## Ilość danych"
   ]
  },
  {
   "cell_type": "code",
   "execution_count": null,
   "metadata": {
    "code_folding": [
     3,
     6
    ]
   },
   "outputs": [],
   "source": [
    "import matplotlib.pyplot as plt\n",
    "import numpy as np\n",
    "import pandas as pd\n",
    "import seaborn as sns\n",
    "from sklearn.experimental import (\n",
    "    enable_iterative_imputer,\n",
    ")\n",
    "from sklearn import (\n",
    "    ensemble,\n",
    "    impute,\n",
    "    model_selection,    \n",
    "    preprocessing,\n",
    "    tree,\n",
    ")\n",
    "\n",
    "df = pd.read_excel('titanic3.xls',sheet_name='dataset')\n",
    "orig_df = df"
   ]
  },
  {
   "cell_type": "code",
   "execution_count": null,
   "metadata": {},
   "outputs": [],
   "source": [
    "df.shape"
   ]
  },
  {
   "cell_type": "markdown",
   "metadata": {},
   "source": [
    "W naszym przykładzie zbiór składa się z 1309 wierszy i 14 kolumn danych."
   ]
  },
  {
   "cell_type": "markdown",
   "metadata": {},
   "source": [
    "## Statystyki podsumowujące"
   ]
  },
  {
   "cell_type": "code",
   "execution_count": null,
   "metadata": {},
   "outputs": [],
   "source": [
    "df.describe().iloc[:, [0, -1]]"
   ]
  },
  {
   "cell_type": "markdown",
   "metadata": {},
   "source": [
    "Poniższy kod wyświetla zawartości komórek znajdujących się w drugim i piątym wierszu oraz w trzech ostatnich kolumnach:"
   ]
  },
  {
   "cell_type": "code",
   "execution_count": null,
   "metadata": {},
   "outputs": [],
   "source": [
    "df.iloc[[1, 4], -3:]"
   ]
  },
  {
   "cell_type": "markdown",
   "metadata": {},
   "source": [
    "Atrybut loc pozwala wyświetlać zawartość wierszy i kolumn o podanych\n",
    "nazwach, a nie indeksach. Poniższy kod prezentuje te same dane co poprzednio:"
   ]
  },
  {
   "cell_type": "code",
   "execution_count": null,
   "metadata": {},
   "outputs": [],
   "source": [
    "df.loc[[677, 864], \"body\":]"
   ]
  },
  {
   "cell_type": "markdown",
   "metadata": {},
   "source": [
    "## Histogram"
   ]
  },
  {
   "cell_type": "code",
   "execution_count": null,
   "metadata": {},
   "outputs": [],
   "source": [
    "fig, ax = plt.subplots(figsize=(6, 4))\n",
    "df.fare.plot(kind=\"hist\", ax=ax)\n",
    "ax.set_ylabel(\"Częstość\")\n",
    "ax.set_xlabel(\"Cena biletu\")\n",
    "ax.set_title(\"Histogram utworzony za pomocą biblioteki pandas\")"
   ]
  },
  {
   "cell_type": "code",
   "execution_count": null,
   "metadata": {},
   "outputs": [],
   "source": [
    "fig, ax = plt.subplots(figsize=(6, 4))\n",
    "ax = sns.distplot(df.fare,)\n",
    "ax.set_ylabel(\"Częstość\")\n",
    "ax.set_xlabel(\"Cena biletu\")\n",
    "ax.set_title(\"Histogram utworzony za pomocą biblioteki seaborn\")"
   ]
  },
  {
   "cell_type": "code",
   "execution_count": null,
   "metadata": {
    "code_folding": [
     2,
     34,
     45
    ]
   },
   "outputs": [],
   "source": [
    "def tweak_titanic(df):\n",
    "    df = df.drop(\n",
    "        columns=[\n",
    "            \"name\",\n",
    "            \"ticket\",\n",
    "            \"home.dest\",\n",
    "            \"boat\",\n",
    "            \"body\",\n",
    "            \"cabin\",\n",
    "        ]\n",
    "    ).pipe(pd.get_dummies, drop_first=True)\n",
    "    return df\n",
    "\n",
    "def get_train_test_X_y(\n",
    "    df, y_col, size=0.3, std_cols=None\n",
    "):\n",
    "    y = df[y_col]\n",
    "    X = df.drop(columns=y_col)\n",
    "    X_train, X_test, y_train, y_test = model_selection.train_test_split(\n",
    "        X, y, test_size=size, random_state=42\n",
    "    )\n",
    "    cols = X.columns\n",
    "    num_cols = [\n",
    "        \"pclass\",\n",
    "        \"age\",\n",
    "        \"sibsp\",\n",
    "        \"parch\",\n",
    "        \"fare\",\n",
    "    ]\n",
    "    fi = impute.IterativeImputer()\n",
    "    fitted = fi.fit_transform(X_train[num_cols])\n",
    "    X_train = X_train.assign(**{c:fitted[:,i] for i, c in enumerate(num_cols)})\n",
    "    test_fit = fi.transform(X_test[num_cols])\n",
    "    X_test = X_test.assign(**{c:test_fit[:,i] for i, c in enumerate(num_cols)})\n",
    "    if std_cols:\n",
    "        std = preprocessing.StandardScaler()\n",
    "        fitted = std.fit_transform(X_train[std_cols])\n",
    "        X_train = X_train.assign(**{c:fitted[:,i] for i, c in enumerate(std_cols)})\n",
    "        test_fit = std.transform(X_test[std_cols])\n",
    "        X_test = X_test.assign(**{c:test_fit[:,i] for i, c in enumerate(std_cols)})\n",
    "\n",
    "    return X_train, X_test, y_train, y_test\n",
    "\n",
    "ti_df = tweak_titanic(orig_df)\n",
    "std_cols = \"pclass,age,sibsp,fare\".split(\",\")\n",
    "X_train, X_test, y_train, y_test = get_train_test_X_y(\n",
    "    ti_df, \"survived\", std_cols=std_cols\n",
    ")\n",
    "\n",
    "X = pd.concat([X_train, X_test])\n",
    "y = pd.concat([y_train, y_test])"
   ]
  },
  {
   "cell_type": "code",
   "execution_count": null,
   "metadata": {
    "lines_to_next_cell": 2
   },
   "outputs": [],
   "source": [
    "fig, ax = plt.subplots(figsize=(8, 6))\n",
    "mask = y_train == 1\n",
    "ax = sns.distplot(X_train[mask].fare,  label='przeżyli')\n",
    "ax = sns.distplot(X_train[~mask].fare, label='zginęli')\n",
    "ax.set_title(\"Porównanie rozkładów osób, które przeżyły i nie przeżyły katastrofy.\")\n",
    "ax.set_ylabel(\"Częstość\")\n",
    "ax.set_xlabel(\"Cena biletu\")\n",
    "ax.set_xlim(-1.5, 1.5)\n",
    "ax.legend()"
   ]
  },
  {
   "cell_type": "markdown",
   "metadata": {},
   "source": [
    "## Wykres punktowy"
   ]
  },
  {
   "cell_type": "code",
   "execution_count": null,
   "metadata": {
    "lines_to_next_cell": 2
   },
   "outputs": [],
   "source": [
    "fig, ax = plt.subplots(figsize=(6, 4))\n",
    "df.plot.scatter(\n",
    "    x=\"age\", y=\"fare\", ax=ax, alpha=0.3\n",
    ")\n",
    "plt.xlabel(\"Wiek\")\n",
    "plt.ylabel(\"Cena biletu\")\n",
    "plt.title(\"Wykres punktowy utworzony za pomocą biblioteki pandas\")\n",
    "plt.grid(True)"
   ]
  },
  {
   "cell_type": "code",
   "execution_count": null,
   "metadata": {},
   "outputs": [],
   "source": [
    "fig, ax = plt.subplots(figsize=(6, 4))\n",
    "# kolorowanie według x\n",
    "df.plot.scatter(\n",
    "    x=\"age\", y=\"fare\", ax=ax, alpha=0.3, c=\"age\"\n",
    ")\n",
    "plt.xlabel(\"Wiek\")\n",
    "plt.ylabel(\"Cena biletu\")\n",
    "plt.title(\"Wykres punktowy utworzony za pomocą biblioteki pandas\")\n",
    "plt.grid(True)"
   ]
  },
  {
   "cell_type": "code",
   "execution_count": null,
   "metadata": {},
   "outputs": [],
   "source": [
    "X.age.corr(X.fare)"
   ]
  },
  {
   "cell_type": "code",
   "execution_count": null,
   "metadata": {},
   "outputs": [],
   "source": [
    "df.age.corr(df.fare)"
   ]
  },
  {
   "cell_type": "markdown",
   "metadata": {},
   "source": [
    "## Wykres łączony"
   ]
  },
  {
   "cell_type": "code",
   "execution_count": null,
   "metadata": {},
   "outputs": [],
   "source": [
    "from yellowbrick.features import (\n",
    "    JointPlotVisualizer,\n",
    ")"
   ]
  },
  {
   "cell_type": "code",
   "execution_count": null,
   "metadata": {
    "code_folding": []
   },
   "outputs": [],
   "source": [
    "fig, ax = plt.subplots(figsize=(6, 6))\n",
    "jpv = JointPlotVisualizer(\n",
    "    feature=\"age\", target=\"fare\", correlation='pearson', kind='scatter', hist=True,  alpha=0.65,\n",
    ")\n",
    "jpv.fit(X[\"age\"], X[\"fare\"])\n",
    "jpv.poof()\n",
    "\n",
    "# correlationstr, default: ‘pearson’: ‘pearson’, ‘covariance’, ‘spearman’, ‘kendalltau’.\n",
    "\n",
    "# Wykres łączony utworzony za pomocą biblioteki Yellowbrick\n",
    "# Argumenty X i y metody fit zawierają kolumny danych.\n",
    "# Zazwyczaj symbolem X oznacza się strukturę DataFrame, a nie serię danych."
   ]
  },
  {
   "cell_type": "code",
   "execution_count": null,
   "metadata": {
    "lines_to_next_cell": 2
   },
   "outputs": [],
   "source": [
    "from seaborn import jointplot\n",
    "new_df = X.copy()\n",
    "new_df[\"target\"] = y\n",
    "p = jointplot(\n",
    "    \"age\", \"fare\", data=new_df, kind=\"reg\"\n",
    ")"
   ]
  },
  {
   "cell_type": "markdown",
   "metadata": {},
   "source": [
    "## Macierz wykresów"
   ]
  },
  {
   "cell_type": "code",
   "execution_count": null,
   "metadata": {
    "lines_to_next_cell": 2
   },
   "outputs": [],
   "source": [
    "from seaborn import pairplot\n",
    "new_df = X.copy()\n",
    "new_df[\"target\"] = y\n",
    "vars = [\"pclass\", \"age\", \"fare\"]\n",
    "p = pairplot(\n",
    "    new_df, vars=vars, hue=\"target\", kind=\"reg\"\n",
    ")"
   ]
  },
  {
   "cell_type": "markdown",
   "metadata": {},
   "source": [
    "## Wykresy pudełkowy i skrzypcowy"
   ]
  },
  {
   "cell_type": "code",
   "execution_count": null,
   "metadata": {
    "lines_to_next_cell": 2
   },
   "outputs": [],
   "source": [
    "from seaborn import boxplot\n",
    "fig, ax = plt.subplots(figsize=(8, 6))\n",
    "new_df = X.copy()\n",
    "new_df[\"target\"] = y\n",
    "boxplot(x=\"target\", y=\"age\", data=new_df)"
   ]
  },
  {
   "cell_type": "code",
   "execution_count": null,
   "metadata": {
    "lines_to_next_cell": 2
   },
   "outputs": [],
   "source": [
    "from seaborn import violinplot\n",
    "fig, ax = plt.subplots(figsize=(8, 6))\n",
    "new_df = X.copy()\n",
    "new_df[\"target\"] = y\n",
    "violinplot(\n",
    "    x=\"target\", y=\"sex_male\", data=new_df\n",
    ")"
   ]
  },
  {
   "cell_type": "markdown",
   "metadata": {},
   "source": [
    "## Porównywanie dwóch cech porządkowych"
   ]
  },
  {
   "cell_type": "code",
   "execution_count": null,
   "metadata": {},
   "outputs": [],
   "source": [
    "fig, ax = plt.subplots(figsize=(8, 6))\n",
    "(\n",
    "    X.assign(\n",
    "        age_bin=pd.qcut(\n",
    "            X.age, q=10, labels=False\n",
    "        ),\n",
    "        class_bin=pd.cut(\n",
    "            X.pclass, bins=3, labels=False\n",
    "        ),\n",
    "    )\n",
    "    .groupby([\"age_bin\", \"class_bin\"])\n",
    "    .size()\n",
    "    .unstack()\n",
    "    .pipe(lambda df: df.div(df.sum(1), axis=0))\n",
    "    .plot.bar(\n",
    "        stacked=True,\n",
    "        width=1,\n",
    "        ax=ax,\n",
    "        cmap=\"viridis\",\n",
    "    )\n",
    "    .legend(bbox_to_anchor=(1, 1))\n",
    ")"
   ]
  },
  {
   "cell_type": "markdown",
   "metadata": {},
   "source": [
    "## Korelacja"
   ]
  },
  {
   "cell_type": "code",
   "execution_count": null,
   "metadata": {
    "lines_to_next_cell": 2
   },
   "outputs": [],
   "source": [
    "from yellowbrick.features import Rank2D\n",
    "fig, ax = plt.subplots(figsize=(6, 6))\n",
    "pcv = Rank2D(\n",
    "    features=X.columns, algorithm=\"pearson\"\n",
    ")\n",
    "pcv.fit(X, y)\n",
    "pcv.transform(X)\n",
    "pcv.poof()"
   ]
  },
  {
   "cell_type": "code",
   "execution_count": null,
   "metadata": {
    "lines_to_next_cell": 2
   },
   "outputs": [],
   "source": [
    "from seaborn import heatmap\n",
    "fig, ax = plt.subplots(figsize=(8, 8))\n",
    "ax = heatmap(\n",
    "    X.corr(),\n",
    "    fmt=\".2f\",\n",
    "    annot=True,\n",
    "    ax=ax,\n",
    "    cmap=\"RdBu_r\",\n",
    "    vmin=-1,\n",
    "    vmax=1,\n",
    ")"
   ]
  },
  {
   "cell_type": "code",
   "execution_count": null,
   "metadata": {},
   "outputs": [],
   "source": [
    "X.corr().iloc[:, :2]"
   ]
  },
  {
   "cell_type": "code",
   "execution_count": null,
   "metadata": {
    "lines_to_next_cell": 2
   },
   "outputs": [],
   "source": [
    "def correlated_columns(df, threshold=0.95):\n",
    "    return (\n",
    "        df.corr()\n",
    "        .pipe(\n",
    "            lambda df1: pd.DataFrame(\n",
    "                np.tril(df1, k=-1),\n",
    "                columns=df.columns,\n",
    "                index=df.columns,\n",
    "            )\n",
    "        )\n",
    "        .stack()\n",
    "        .rename(\"pearson\")\n",
    "        .pipe(\n",
    "            lambda s: s[\n",
    "                s.abs() > threshold\n",
    "            ].reset_index()\n",
    "        )\n",
    "        .query(\"level_0 not in level_1\")\n",
    "    )\n",
    "correlated_columns(X)"
   ]
  },
  {
   "cell_type": "code",
   "execution_count": null,
   "metadata": {
    "lines_to_next_cell": 2
   },
   "outputs": [],
   "source": [
    "c_df = correlated_columns(agg_df.select_dtypes('number'))\n",
    "c_df.style.format({\"pearson\": \"{:.2f}\"})"
   ]
  },
  {
   "cell_type": "markdown",
   "metadata": {},
   "source": [
    "## Wykres RadViz"
   ]
  },
  {
   "cell_type": "markdown",
   "metadata": {},
   "source": [
    "Wykres RadViz ma postać koła, w którego wnętrzu znajdują się punkty reprezentujące próbki danych, a na obrzeżach cechy.\n",
    "\n",
    "Wartości są znormalizowane. Można sobie wyobrazić, że każdy punkt jest\n",
    "połączony za pomocą sprężynek z cechami, do których jest przyciągany. \n",
    "\n",
    "Jest to jeden ze sposobów wizualizowania odrębności cech. Wykres można uzyskać za pomocą biblioteki Yellowbrick i następującego kodu:"
   ]
  },
  {
   "cell_type": "code",
   "execution_count": null,
   "metadata": {
    "lines_to_next_cell": 2
   },
   "outputs": [],
   "source": [
    "from yellowbrick.features import RadViz\n",
    "fig, ax = plt.subplots(figsize=(6, 6))\n",
    "rv = RadViz(\n",
    "    classes=[\"died\", \"survived\"],\n",
    "    features=X.columns,\n",
    ")\n",
    "rv.fit(X, y)\n",
    "_ = rv.transform(X)\n",
    "rv.poof()"
   ]
  },
  {
   "cell_type": "code",
   "execution_count": null,
   "metadata": {
    "lines_to_next_cell": 2
   },
   "outputs": [],
   "source": [
    "from pandas.plotting import radviz\n",
    "fig, ax = plt.subplots(figsize=(6, 6))\n",
    "new_df = X.copy()\n",
    "new_df[\"target\"] = y\n",
    "radviz(\n",
    "    new_df, \"target\", ax=ax, colormap=\"PiYG\"\n",
    ")"
   ]
  },
  {
   "cell_type": "markdown",
   "metadata": {},
   "source": [
    "## Wykres współrzędnych równoległych"
   ]
  },
  {
   "cell_type": "code",
   "execution_count": null,
   "metadata": {
    "lines_to_next_cell": 2
   },
   "outputs": [],
   "source": [
    "from yellowbrick.features import (\n",
    "    ParallelCoordinates,\n",
    ")\n",
    "fig, ax = plt.subplots(figsize=(6, 4))\n",
    "pc = ParallelCoordinates(\n",
    "    classes=[\"died\", \"survived\"],\n",
    "    features=X.columns,\n",
    ")\n",
    "pc.fit(X, y)\n",
    "pc.transform(X)\n",
    "ax.set_xticklabels(\n",
    "    ax.get_xticklabels(), rotation=45\n",
    ")\n",
    "pc.poof()"
   ]
  },
  {
   "cell_type": "code",
   "execution_count": null,
   "metadata": {},
   "outputs": [],
   "source": [
    "from pandas.plotting import (\n",
    "    parallel_coordinates,\n",
    ")\n",
    "fig, ax = plt.subplots(figsize=(6, 4))\n",
    "new_df = X.copy()\n",
    "new_df[\"target\"] = y\n",
    "parallel_coordinates(\n",
    "    new_df,\n",
    "    \"target\",\n",
    "    ax=ax,\n",
    "    colormap=\"viridis\",\n",
    "    alpha=0.5,\n",
    ")\n",
    "ax.set_xticklabels(\n",
    "    ax.get_xticklabels(), rotation=45\n",
    ")"
   ]
  }
 ],
 "metadata": {
  "jupytext": {
   "formats": "ipynb,py:light"
  },
  "kernelspec": {
   "display_name": "Python 3",
   "language": "python",
   "name": "python3"
  },
  "language_info": {
   "codemirror_mode": {
    "name": "ipython",
    "version": 3
   },
   "file_extension": ".py",
   "mimetype": "text/x-python",
   "name": "python",
   "nbconvert_exporter": "python",
   "pygments_lexer": "ipython3",
   "version": "3.8.8"
  },
  "toc": {
   "base_numbering": 1,
   "nav_menu": {},
   "number_sections": true,
   "sideBar": true,
   "skip_h1_title": false,
   "title_cell": "Table of Contents",
   "title_sidebar": "Contents",
   "toc_cell": false,
   "toc_position": {},
   "toc_section_display": true,
   "toc_window_display": false
  }
 },
 "nbformat": 4,
 "nbformat_minor": 2
}
