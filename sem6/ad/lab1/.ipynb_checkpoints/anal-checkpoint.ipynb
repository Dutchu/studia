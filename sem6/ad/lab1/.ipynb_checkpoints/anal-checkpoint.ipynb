{
 "cells": [
  {
   "cell_type": "markdown",
   "metadata": {},
   "source": [
    "### Moje równanie"
   ]
  },
  {
   "cell_type": "code",
   "execution_count": 217,
   "metadata": {},
   "outputs": [
    {
     "name": "stdout",
     "output_type": "stream",
     "text": [
      "4.242640687119285\n"
     ]
    }
   ],
   "source": [
    "import math\n",
    "a=5\n",
    "b=3\n",
    "c=math.sqrt(b**2+b**2)\n",
    "print(c)"
   ]
  },
  {
   "cell_type": "markdown",
   "metadata": {},
   "source": [
    "\\documentclass{article}\n",
    "\\usepackage{amsmath}\n",
    "\\begin{document}\n",
    "\\begin{equation}\n",
    "  kod =\n",
    "    \\begin{cases}\n",
    "      1 & \\text{if bank $i$ issues ABs at time $t$}\\\\\n",
    "      2 & \\text{if bank $i$ issues CBs at time $t$}\\\\\n",
    "      0 & \\text{otherwise}\n",
    "    \\end{cases}\n",
    "\\end{equation}\n",
    "\\end{document}"
   ]
  },
  {
   "cell_type": "markdown",
   "metadata": {},
   "source": []
  },
  {
   "cell_type": "code",
   "execution_count": 218,
   "metadata": {},
   "outputs": [
    {
     "name": "stderr",
     "output_type": "stream",
     "text": [
      "[nltk_data] Downloading package names to\n",
      "[nltk_data]     C:\\Users\\blasz\\AppData\\Roaming\\nltk_data...\n",
      "[nltk_data]   Package names is already up-to-date!\n"
     ]
    },
    {
     "data": {
      "text/plain": [
       "True"
      ]
     },
     "execution_count": 218,
     "metadata": {},
     "output_type": "execute_result"
    }
   ],
   "source": [
    "import random, nltk\n",
    "nltk.download('names')"
   ]
  },
  {
   "cell_type": "code",
   "execution_count": 219,
   "metadata": {},
   "outputs": [
    {
     "name": "stdout",
     "output_type": "stream",
     "text": [
      "['Aamir', 'Aaron', 'Abbey', 'Abbie', 'Abbot']\n",
      "['Abagael', 'Abagail', 'Abbe', 'Abbey', 'Abbi']\n"
     ]
    }
   ],
   "source": [
    "male_names = nltk.corpus.names.words('male.txt')\n",
    "female_names = nltk.corpus.names.words('female.txt')\n",
    "print(male_names[:5])\n",
    "print(female_names[:5])"
   ]
  },
  {
   "cell_type": "code",
   "execution_count": 220,
   "metadata": {},
   "outputs": [
    {
     "name": "stdout",
     "output_type": "stream",
     "text": [
      "[('Aamir', 'm'), ('Aaron', 'm'), ('Abbey', 'm'), ('Abbie', 'm'), ('Abbot', 'm'), ('Abbott', 'm'), ('Abby', 'm'), ('Abdel', 'm'), ('Abdul', 'm'), ('Abdulkarim', 'm')]\n"
     ]
    }
   ],
   "source": [
    "marked_names = [(name, 'm') for name in male_names]\n",
    "marked_names += [(name, 'k') for name in female_names]\n",
    "print(marked_names[:10])"
   ]
  },
  {
   "cell_type": "code",
   "execution_count": 221,
   "metadata": {},
   "outputs": [
    {
     "name": "stdout",
     "output_type": "stream",
     "text": [
      "[('Maurene', 'k'), ('Hollyanne', 'k'), ('Adrian', 'k'), ('Raphael', 'm'), ('Vitoria', 'k'), ('Stephana', 'k'), ('Leo', 'm'), ('Kyla', 'k'), ('Ashli', 'k'), ('Nelson', 'm')]\n"
     ]
    }
   ],
   "source": [
    "random.seed(12347)\n",
    "random.shuffle(marked_names)\n",
    "print(marked_names[:10])"
   ]
  },
  {
   "cell_type": "code",
   "execution_count": 222,
   "metadata": {},
   "outputs": [
    {
     "name": "stdout",
     "output_type": "stream",
     "text": [
      "[({'Last letter': 'e', '2l': 'ne', '2f': 'Ma', 'name': 'Maurene'}, 'k'), ({'Last letter': 'e', '2l': 'ne', '2f': 'Ho', 'name': 'Hollyanne'}, 'k'), ({'Last letter': 'n', '2l': 'an', '2f': 'Ad', 'name': 'Adrian'}, 'k'), ({'Last letter': 'l', '2l': 'el', '2f': 'Ra', 'name': 'Raphael'}, 'm'), ({'Last letter': 'a', '2l': 'ia', '2f': 'Vi', 'name': 'Vitoria'}, 'k'), ({'Last letter': 'a', '2l': 'na', '2f': 'St', 'name': 'Stephana'}, 'k'), ({'Last letter': 'o', '2l': 'eo', '2f': 'Le', 'name': 'Leo'}, 'm'), ({'Last letter': 'a', '2l': 'la', '2f': 'Ky', 'name': 'Kyla'}, 'k'), ({'Last letter': 'i', '2l': 'li', '2f': 'As', 'name': 'Ashli'}, 'k'), ({'Last letter': 'n', '2l': 'on', '2f': 'Ne', 'name': 'Nelson'}, 'm')]\n"
     ]
    }
   ],
   "source": [
    "import string\n",
    "def get_traits(name):\n",
    "    return {\n",
    "        'Last letter': name[-1],\n",
    "        # 'Name length': len(name),\n",
    "        '2l' : name[-2:],\n",
    "        '2f' : name[:2],\n",
    "        'name' : name\n",
    "        # 'a' : name.count('a')\n",
    "    }\n",
    "\n",
    "traits_set = [(get_traits(name), sex) for (name, sex) in marked_names]\n",
    "print(traits_set[:10])"
   ]
  },
  {
   "cell_type": "code",
   "execution_count": 223,
   "metadata": {},
   "outputs": [
    {
     "name": "stdout",
     "output_type": "stream",
     "text": [
      "[({'Last letter': 'e', '2l': 'ne', '2f': 'Ma', 'name': 'Maurene'}, 'k'), ({'Last letter': 'e', '2l': 'ne', '2f': 'Ho', 'name': 'Hollyanne'}, 'k')]\n",
      "[('Maurene', 'k'), ('Hollyanne', 'k')]\n"
     ]
    }
   ],
   "source": [
    "training_set, testing_set = traits_set[1000:], traits_set[:1000]\n",
    "print(testing_set[:2])\n",
    "print(marked_names[:2])"
   ]
  },
  {
   "cell_type": "code",
   "execution_count": 224,
   "metadata": {},
   "outputs": [
    {
     "name": "stdout",
     "output_type": "stream",
     "text": [
      "m\n"
     ]
    }
   ],
   "source": [
    "bayes = nltk.NaiveBayesClassifier.train(training_set)\n",
    "print(bayes.classify(get_traits('Bartek')))"
   ]
  },
  {
   "cell_type": "code",
   "execution_count": 225,
   "metadata": {},
   "outputs": [
    {
     "name": "stdout",
     "output_type": "stream",
     "text": [
      "0.776\n"
     ]
    }
   ],
   "source": [
    "print(nltk.classify.accuracy(bayes, testing_set))"
   ]
  },
  {
   "cell_type": "code",
   "execution_count": 226,
   "metadata": {},
   "outputs": [
    {
     "name": "stdout",
     "output_type": "stream",
     "text": [
      "Most Informative Features\n",
      "                      2l = 'na'                k : m      =    157.8 : 1.0\n",
      "                      2l = 'ia'                k : m      =     88.1 : 1.0\n",
      "                      2l = 'la'                k : m      =     71.9 : 1.0\n",
      "                      2l = 'ta'                k : m      =     41.7 : 1.0\n",
      "             Last letter = 'a'                 k : m      =     41.1 : 1.0\n",
      "                      2l = 'sa'                k : m      =     34.5 : 1.0\n",
      "             Last letter = 'k'                 m : k      =     29.6 : 1.0\n",
      "                      2l = 'us'                m : k      =     26.7 : 1.0\n",
      "                      2l = 'ra'                k : m      =     25.7 : 1.0\n",
      "                      2l = 'rd'                m : k      =     22.6 : 1.0\n"
     ]
    }
   ],
   "source": [
    "bayes.show_most_informative_features(10)"
   ]
  },
  {
   "cell_type": "code",
   "execution_count": 226,
   "metadata": {},
   "outputs": [],
   "source": []
  }
 ],
 "metadata": {
  "kernelspec": {
   "display_name": "Python 3 (ipykernel)",
   "language": "python",
   "name": "python3"
  },
  "language_info": {
   "codemirror_mode": {
    "name": "ipython",
    "version": 3
   },
   "file_extension": ".py",
   "mimetype": "text/x-python",
   "name": "python",
   "nbconvert_exporter": "python",
   "pygments_lexer": "ipython3",
   "version": "3.8.16"
  }
 },
 "nbformat": 4,
 "nbformat_minor": 1
}
