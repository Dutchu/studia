{
 "cells": [
  {
   "cell_type": "code",
   "execution_count": null,
   "metadata": {},
   "outputs": [],
   "source": [
    "from Crypto.Hash import MD5\n",
    "from sympy import randprime\n",
    "import ctypes"
   ]
  },
  {
   "cell_type": "code",
   "execution_count": null,
   "metadata": {},
   "outputs": [],
   "source": [
    "#Nadawca (p,q) - para kluczy randprime N>=P*Q, Fi = (P-1)(Q-1), e=65537, D=odwrotnością modularną w arytmetyce Fi d=pow(e,-1,Fi),\n",
    "#Ma do przesłania wiadomość tekstową 'w', wiadomość nie będzie obchodzić, żeby była tajna\n",
    "#Chcemy dodstać podpis wiadomości\n",
    "#Zdefiniować hash z wiadomości MD5 z wiadomości, 128 bitowy hash dla dowolnej wiadomości\n",
    "#hash podnosimy do potęgi d, modulo N (deszyfrowanie hashu - tak jakby)\n",
    "\n",
    "#Odbiorca (e, N)\n",
    "#Podniesie sobie ten szyfr hashu e modulo N\n",
    "#Może też policzyć sobie hash"
   ]
  },
  {
   "cell_type": "code",
   "execution_count": null,
   "metadata": {},
   "outputs": [],
   "source": [
    "P = randprime(pow(2,64), pow(2,65))\n",
    "Q = randprime(pow(2,64), pow(2,65))\n",
    "N = P*Q\n",
    "Fi = (P-1)*(Q-1)\n",
    "E = 65537\n",
    "D = pow(E, -1, Fi)\n",
    "W = \"Widzew\"\n",
    "W_bytes = W.encode()\n",
    "_hash = MD5.new()\n",
    "W_uint8_arr = (ctypes.c_uint8 * len(W_bytes)).from_buffer_copy(W_bytes)\n",
    "_hash.update(W_bytes)\n",
    "W_md5_bytes = _hash.digest()\n",
    "W_md5_hex = _hash.hexdigest()\n",
    "\n",
    "print(W_md5_bytes)\n",
    "print(W_md5_hex)"
   ]
  },
  {
   "cell_type": "code",
   "execution_count": null,
   "metadata": {},
   "outputs": [],
   "source": [
    "W_md5_int = int.from_bytes(W_md5_bytes, byteorder='big')\n",
    "signature = pow(W_md5_int, D, N)\n",
    "\n",
    "signed_message = f\"{signature}{W_md5_int}\"\n",
    "signed_message_bytes = signed_message.encode()\n",
    "\n",
    "print(W_md5_int)\n",
    "print(signature)\n",
    "print(signed_message_bytes)"
   ]
  },
  {
   "cell_type": "code",
   "execution_count": null,
   "metadata": {},
   "outputs": [],
   "source": [
    "def sign_message(message, D, N):\n",
    "    # Calculate the hash of the message\n",
    "    message_hash = int(hashlib.md5(message.encode()).hexdigest(), 16)\n",
    "\n",
    "    # Generate the signature\n",
    "    signature = pow(message_hash, D, N)\n",
    "\n",
    "    # Convert signature to bytes\n",
    "    signature_bytes = signature.to_bytes((signature.bit_length() + 7) // 8, 'big')\n",
    "\n",
    "    # Convert message to bytes\n",
    "    message_bytes = message.encode()\n",
    "\n",
    "    # Combine the signature and message bytes\n",
    "    combined_message = signature_bytes + message_bytes\n",
    "\n",
    "    return combined_message"
   ]
  },
  {
   "cell_type": "code",
   "execution_count": null,
   "metadata": {},
   "outputs": [],
   "source": [
    "def encrypt(message):\n",
    "    W_bytes = message.encode()\n",
    "    _hash = MD5.new()\n",
    "    W_uint8_arr = (ctypes.c_uint8 * len(W_bytes)).from_buffer_copy(W_bytes)\n",
    "    _hash.update(W_bytes)\n",
    "    W_md5_bytes = _hash.digest()\n",
    "    W_md5_hex = _hash.hexdigest()\n",
    "\n",
    "    print(W_md5_bytes)\n",
    "    print(W_md5_hex)\n",
    "    W_md5_int = int.from_bytes(W_md5_bytes, byteorder='big')"
   ]
  },
  {
   "cell_type": "code",
   "execution_count": null,
   "metadata": {},
   "outputs": [],
   "source": [
    "def verify_signature(combined_message, pub_key, N):\n",
    "    # Split the combined message into signature and message\n",
    "    signature_bytes = combined_message[:128]\n",
    "    message_bytes = combined_message[128:]\n",
    "\n",
    "    # Convert signature bytes back to int\n",
    "    signature = int.from_bytes(signature_bytes, 'big')\n",
    "\n",
    "    # Calculate the hash of the message\n",
    "    message_hash = int(hashlib.md5(message_bytes).hexdigest(), 16)\n",
    "\n",
    "    # Decrypt the signature using the public key\n",
    "    decrypted_signature = pow(signature, pub_key, N)\n",
    "\n",
    "    # Compare the decrypted signature with the hash of the message\n",
    "    if decrypted_signature == message_hash:\n",
    "        print(\"Signature is valid.\")\n",
    "    else:\n",
    "        print(\"Signature is not valid.\")"
   ]
  },
  {
   "cell_type": "code",
   "execution_count": null,
   "metadata": {},
   "outputs": [],
   "source": [
    "def verify_signature(_signature, _e, _n, message):\n",
    "    # Decrypt the signature using the public key\n",
    "    decrypted_signature = pow(signature, _e, N)\n",
    "\n",
    "    # Hash the message\n",
    "    mb = message.encode()\n",
    "    h = MD5.new()\n",
    "    h.update(mb)\n",
    "    hmb = _hash.digest()\n",
    "\n",
    "    # Compare the decrypted signature with the hash of the message\n",
    "    if decrypted_signature == hmb:\n",
    "        print(\"Signature is valid.\")\n",
    "    else:\n",
    "        print(\"Signature is not valid.\")"
   ]
  },
  {
   "cell_type": "code",
   "execution_count": null,
   "metadata": {},
   "outputs": [],
   "source": [
    "#Deszyfrowanie - odbiorca\n",
    "#Spojrzeć na podpis, odszyfrować podpis e modulo N i porównujemy zgodność tych wyników deszyfrowania i podpisu\n",
    "decrypted = pow(signature, E, N)\n",
    "#Liczymy hash z wiadomości i deszyfrujemy hash z wiadomości żeby sprawdzić, czy te dwie rzeczy się pokrywają\n",
    "\n",
    "#odszyfrowany digested hash\n",
    "print(decrypted)"
   ]
  },
  {
   "cell_type": "markdown",
   "metadata": {},
   "source": []
  },
  {
   "cell_type": "code",
   "execution_count": null,
   "metadata": {},
   "outputs": [],
   "source": [
    "#Szyfrowanie podpisu 128 bitów i wiadomości w jednej częśći\n",
    "#Przesunięcie bitowe i OR\n",
    "message, signature = signed_message.split(':')\n",
    "decrypted = pow(int(signature), E, N)\n",
    "print(decrypted)"
   ]
  }
 ],
 "metadata": {
  "kernelspec": {
   "display_name": "Python 3",
   "language": "python",
   "name": "python3"
  },
  "language_info": {
   "codemirror_mode": {
    "name": "ipython",
    "version": 2
   },
   "file_extension": ".py",
   "mimetype": "text/x-python",
   "name": "python",
   "nbconvert_exporter": "python",
   "pygments_lexer": "ipython2",
   "version": "2.7.6"
  }
 },
 "nbformat": 4,
 "nbformat_minor": 0
}
