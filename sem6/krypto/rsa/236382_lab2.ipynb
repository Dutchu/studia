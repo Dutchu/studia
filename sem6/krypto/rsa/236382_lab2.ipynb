{
 "cells": [
  {
   "cell_type": "code",
   "execution_count": null,
   "metadata": {},
   "outputs": [],
   "source": [
    "from sympy import randprime\n",
    "\n",
    "P = randprime(pow(2,16), pow(2,17))\n",
    "Q = randprime(pow(2,16), pow(2,17))\n",
    "N = P*Q\n",
    "Fi = (P-1) * (Q-1)\n",
    "e = 65537\n",
    "d = 0\n",
    "D = 0\n",
    "cheats = 1\n",
    "\n",
    "print(P, Q, N, Fi, e)"
   ]
  },
  {
   "cell_type": "code",
   "execution_count": null,
   "metadata": {},
   "outputs": [],
   "source": [
    "##algorytm euklidesa do NWD\n",
    "def find_nwd(a, b):\n",
    "    if b > 0:\n",
    "        return find_nwd(b, a%b)\n",
    "    else:\n",
    "        return a\n",
    "\n",
    "nwd = find_nwd(e, Fi)\n",
    "print('nwd = ' + str(nwd))"
   ]
  },
  {
   "cell_type": "code",
   "execution_count": null,
   "metadata": {},
   "outputs": [],
   "source": [
    "if nwd != 1:\n",
    "    raise Exception('NWD error')\n",
    "\n",
    "print('Fi = ' + str(Fi))"
   ]
  },
  {
   "cell_type": "code",
   "execution_count": null,
   "metadata": {},
   "outputs": [],
   "source": [
    "##Odwróony algos Euklidesa for finding\n",
    "if cheats:\n",
    "    D = pow(e, -1, Fi)\n",
    "    print(D)\n"
   ]
  },
  {
   "cell_type": "code",
   "execution_count": null,
   "metadata": {},
   "outputs": [],
   "source": [
    "##e musi być względnie pierwsze z Fi\n",
    "if not cheats:\n",
    "    for i in range(2, 100000000):\n",
    "        nwd = find_nwd(i,Fi)\n",
    "        if nwd == 1:\n",
    "            e = i\n",
    "            break\n",
    "\n",
    "    print(\"e = \" + str(e))"
   ]
  },
  {
   "cell_type": "code",
   "execution_count": null,
   "metadata": {},
   "outputs": [],
   "source": [
    "if not cheats:\n",
    "    for i in range(1, Fi-1):\n",
    "        if pow(i,e,Fi) == 1:\n",
    "            d = i\n",
    "\n",
    "    print('d = ' + str(d))"
   ]
  },
  {
   "cell_type": "code",
   "execution_count": null,
   "metadata": {},
   "outputs": [],
   "source": [
    "x = 1000000\n",
    "y = pow(x,e,N)\n",
    "print(y)"
   ]
  },
  {
   "cell_type": "code",
   "execution_count": null,
   "metadata": {},
   "outputs": [],
   "source": [
    "de_x = (y**d)%N\n",
    "if cheats:\n",
    "    de_x = pow(y, D, N)\n",
    "print(de_x)"
   ]
  }
 ],
 "metadata": {
  "kernelspec": {
   "display_name": "Python 3",
   "language": "python",
   "name": "python3"
  },
  "language_info": {
   "codemirror_mode": {
    "name": "ipython",
    "version": 2
   },
   "file_extension": ".py",
   "mimetype": "text/x-python",
   "name": "python",
   "nbconvert_exporter": "python",
   "pygments_lexer": "ipython2",
   "version": "2.7.6"
  }
 },
 "nbformat": 4,
 "nbformat_minor": 0
}
