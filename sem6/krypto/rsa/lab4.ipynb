{
 "cells": [
  {
   "cell_type": "markdown",
   "metadata": {},
   "source": []
  },
  {
   "cell_type": "code",
   "execution_count": null,
   "metadata": {},
   "outputs": [],
   "source": [
    "\n",
    "\"\"\"\n",
    "I\n",
    "WYbieramy P\n",
    "Ustalamy zakres liczb przez które będziemy dzielić P. Jeżeli znajdzie się dzielnik, wtedy P jest nie ejst pierwsza, a takto jest prawdopodobieństwo że jest pierwsza\n",
    "P % [1,2,3,...,97,98,99] ?= 0\n",
    "\"\"\"\n",
    "\n",
    "P = 97\n",
    "r = 0\n",
    "for i in range(2, 97):\n",
    "    if P % i != 0:\n",
    "        r = i\n",
    "\n",
    "\n"
   ]
  },
  {
   "cell_type": "code",
   "execution_count": null,
   "metadata": {},
   "outputs": [],
   "source": [
    "\"\"\"\n",
    "II - Test M-R (P,k)\n",
    "(P-1)%2^r = 0\n",
    "Szukamy takiego d, że\n",
    "(P-1)=d*r^2\n",
    "\n",
    "TEST\n",
    "Wybieramy losową liczbę a należączą do zbioru [2 ... P-2]\n",
    "Twierdzenie Fermata:\n",
    "Definijemy sobie x = a^d mod(P)\n",
    "x=1 v x = P-1 => true\n",
    "for 0:r-1\n",
    "    x = x*x mod(P)\n",
    "    if x = 1\n",
    "        return false\n",
    "    if x=P-1\n",
    "        return true\n",
    "\n",
    "cały test powtarzamy k razy dla różnych liczb P\n",
    "\"\"\"\n",
    "test = False\n",
    "P = 11\n",
    "r = 0\n",
    "d = 0\n",
    "k = 0\n",
    "a = 0\n",
    "for i in range(2,97):\n",
    "    #największe r!\n",
    "    if (P-1) % (2**r) == 0:\n",
    "        r = i\n",
    "print(r)\n",
    "# P - 1 / 16 = d\n",
    "d = (P-1) // (2**r)\n",
    "\n",
    "for a in range(0, r - 1):\n",
    "    x = (a**d) % P\n",
    "    if x == 1 or x == P-1:\n",
    "        test = True\n",
    "        break\n",
    "    for i in range(1,r-1):\n",
    "        x = (x*x) % P\n",
    "        if x == 1:\n",
    "            test = False\n",
    "            break\n",
    "        if x == P - 1:\n",
    "            test = True\n",
    "            break\n",
    "\n",
    "print(f'test for P={P}: {test}')\n"
   ]
  },
  {
   "cell_type": "code",
   "execution_count": null,
   "metadata": {},
   "outputs": [],
   "source": []
  }
 ],
 "metadata": {
  "kernelspec": {
   "display_name": "Python 3",
   "language": "python",
   "name": "python3"
  },
  "language_info": {
   "codemirror_mode": {
    "name": "ipython",
    "version": 2
   },
   "file_extension": ".py",
   "mimetype": "text/x-python",
   "name": "python",
   "nbconvert_exporter": "python",
   "pygments_lexer": "ipython2",
   "version": "2.7.6"
  }
 },
 "nbformat": 4,
 "nbformat_minor": 0
}
