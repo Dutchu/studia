{
 "cells": [
  {
   "cell_type": "code",
   "execution_count": 1,
   "outputs": [
    {
     "name": "stdout",
     "output_type": "stream",
     "text": [
      "81131 79451 6445939081 6445778500 65537\n"
     ]
    }
   ],
   "source": [
    "from sympy import randprime\n",
    "\n",
    "P = randprime(pow(2,16), pow(2,17))\n",
    "Q = randprime(pow(2,16), pow(2,17))\n",
    "N = P*Q\n",
    "Fi = (P-1) * (Q-1)\n",
    "e = 65537\n",
    "d = 0\n",
    "D = 0\n",
    "cheats = 1\n",
    "\n",
    "print(P, Q, N, Fi, e)"
   ],
   "metadata": {
    "collapsed": false
   }
  },
  {
   "cell_type": "code",
   "execution_count": 2,
   "outputs": [
    {
     "name": "stdout",
     "output_type": "stream",
     "text": [
      "nwd = 1\n"
     ]
    }
   ],
   "source": [
    "##algorytm euklidesa do NWD\n",
    "def find_nwd(a, b):\n",
    "    if b > 0:\n",
    "        return find_nwd(b, a%b)\n",
    "    else:\n",
    "        return a\n",
    "\n",
    "nwd = find_nwd(e, Fi)\n",
    "print('nwd = ' + str(nwd))"
   ],
   "metadata": {
    "collapsed": false
   }
  },
  {
   "cell_type": "code",
   "execution_count": 3,
   "outputs": [
    {
     "name": "stdout",
     "output_type": "stream",
     "text": [
      "Fi = 6445778500\n"
     ]
    }
   ],
   "source": [
    "if nwd != 1:\n",
    "    raise Exception('NWD error')\n",
    "\n",
    "print('Fi = ' + str(Fi))"
   ],
   "metadata": {
    "collapsed": false
   }
  },
  {
   "cell_type": "code",
   "execution_count": 4,
   "outputs": [
    {
     "name": "stdout",
     "output_type": "stream",
     "text": [
      "583529973\n"
     ]
    }
   ],
   "source": [
    "##Odwróony algos Euklidesa for finding\n",
    "if cheats:\n",
    "    D = pow(e, -1, Fi)\n",
    "    print(D)\n"
   ],
   "metadata": {
    "collapsed": false
   }
  },
  {
   "cell_type": "code",
   "execution_count": 5,
   "outputs": [],
   "source": [
    "##e musi być względnie pierwsze z Fi\n",
    "if not cheats:\n",
    "    for i in range(2, 100000000):\n",
    "        nwd = find_nwd(i,Fi)\n",
    "        if nwd == 1:\n",
    "            e = i\n",
    "            break\n",
    "\n",
    "    print(\"e = \" + str(e))"
   ],
   "metadata": {
    "collapsed": false
   }
  },
  {
   "cell_type": "code",
   "execution_count": 6,
   "outputs": [],
   "source": [
    "if not cheats:\n",
    "    for i in range(1, Fi-1):\n",
    "        if pow(i,e,Fi) == 1:\n",
    "            d = i\n",
    "\n",
    "    print('d = ' + str(d))"
   ],
   "metadata": {
    "collapsed": false
   }
  },
  {
   "cell_type": "code",
   "execution_count": 7,
   "outputs": [
    {
     "name": "stdout",
     "output_type": "stream",
     "text": [
      "3938446403\n"
     ]
    }
   ],
   "source": [
    "x = 1000000\n",
    "y = pow(x,e,N)\n",
    "print(y)"
   ],
   "metadata": {
    "collapsed": false
   }
  },
  {
   "cell_type": "code",
   "execution_count": 8,
   "outputs": [
    {
     "name": "stdout",
     "output_type": "stream",
     "text": [
      "1000000\n"
     ]
    }
   ],
   "source": [
    "de_x = (y**d)%N\n",
    "if cheats:\n",
    "    de_x = pow(y, D, N)\n",
    "print(de_x)"
   ],
   "metadata": {
    "collapsed": false
   }
  }
 ],
 "metadata": {
  "kernelspec": {
   "display_name": "Python 3",
   "language": "python",
   "name": "python3"
  },
  "language_info": {
   "codemirror_mode": {
    "name": "ipython",
    "version": 2
   },
   "file_extension": ".py",
   "mimetype": "text/x-python",
   "name": "python",
   "nbconvert_exporter": "python",
   "pygments_lexer": "ipython2",
   "version": "2.7.6"
  }
 },
 "nbformat": 4,
 "nbformat_minor": 0
}
