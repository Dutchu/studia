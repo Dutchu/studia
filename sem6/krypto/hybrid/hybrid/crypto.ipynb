{
 "cells": [
  {
   "cell_type": "code",
   "execution_count": 122,
   "metadata": {
    "collapsed": true
   },
   "outputs": [],
   "source": [
    "from Crypto.Cipher import AES\n",
    "from Crypto.Util.Padding import pad\n",
    "from Crypto.Util.Padding import unpad\n",
    "from Crypto.Random import get_random_bytes\n",
    "from sympy import randprime"
   ]
  },
  {
   "cell_type": "code",
   "execution_count": 123,
   "outputs": [
    {
     "name": "stdout",
     "output_type": "stream",
     "text": [
      "P: 30400720939726580239196672764046771443 Q: 23811013565199919472578333434626785591 N: 723871978687686845562844154989572065658716388559828487064889984452542677813 Fi: 723871978687686845562844154989572065604504654054901987353114978253869120780 D: 198582393225596560666102736813670387224062578013230432131798132261566945733\n"
     ]
    }
   ],
   "source": [
    "#1. krok - odbiorca RSA\n",
    "P = randprime(pow(2, 124), pow(2, 125))\n",
    "Q = randprime(pow(2, 124), pow(2, 125))\n",
    "N = P*Q\n",
    "Fi = (P-1)*(Q-1)\n",
    "E = 65537\n",
    "D = pow(E, -1, Fi)\n",
    "print(\"P:\", str(P), \"Q:\", str(Q), \"N:\", str(N), \"Fi:\", str(Fi), \"D:\", str(D))"
   ],
   "metadata": {
    "collapsed": false
   }
  },
  {
   "cell_type": "code",
   "execution_count": 124,
   "outputs": [],
   "source": [
    "#2. krok - nadawca\n",
    "# Dostaje TYLKO: E,N\n",
    "#Szyfruje kluczem pub RSA od odbiorcy wiadomość"
   ],
   "metadata": {
    "collapsed": false
   }
  },
  {
   "cell_type": "code",
   "execution_count": 125,
   "outputs": [],
   "source": [
    "# 3. NADAWCA szyfrowanie wiadomośći przez  AES szyfrowanie wiadomości\n",
    "W = b\"XDDD\"\n",
    "KL = get_random_bytes(32)\n",
    "nonce = get_random_bytes(12)\n",
    "CIPHER = AES.new(KL, AES.MODE_EAX)\n",
    "nonce = CIPHER.nonce\n",
    "#electronic code book - najprostrzy tryb kodowania\n",
    "KRYPTO = CIPHER.encrypt(pad(W, 16))\n",
    "\n",
    "# W2 = unpad(CIPHER.decrypt(KRYPTO), 16)\n",
    "# print(W2)"
   ],
   "metadata": {
    "collapsed": false
   }
  },
  {
   "cell_type": "code",
   "execution_count": 126,
   "outputs": [
    {
     "name": "stdout",
     "output_type": "stream",
     "text": [
      "KL_TAJNY:  671543140029822849879952352807845162621453916099339879810344673434128107475\n",
      "KRYPTOGRAM WIADOMOŚĆI:  b'\\xdbi\\xccAe\\x16\\xe7\\\\\\x18\\\\\\xd7#\"46`'\n"
     ]
    }
   ],
   "source": [
    "#4. SZYFROWANIE KLUCZA AES\n",
    "KL_TAJNY = pow(int.from_bytes(KL, \"big\"),E,N)\n",
    "#wiadomość szyfrowana AES (kryptogram) i klucz AES zaszyfrowany RSA jest wysyłane do odbiorcy\n",
    "print(\"KL_TAJNY: \", str(KL_TAJNY))\n",
    "print(\"KRYPTOGRAM WIADOMOŚĆI: \", str(KRYPTO))"
   ],
   "metadata": {
    "collapsed": false
   }
  },
  {
   "cell_type": "code",
   "execution_count": 127,
   "outputs": [
    {
     "name": "stdout",
     "output_type": "stream",
     "text": [
      "<class 'int'>\n"
     ]
    }
   ],
   "source": [
    "KL_ODSZ = pow(KL_TAJNY, D, N)\n",
    "print(type(KL_ODSZ))\n",
    "CIPHER = AES.new(KL_ODSZ.to_bytes(32, \"big\"), AES.MODE_EAX, nonce=nonce)"
   ],
   "metadata": {
    "collapsed": false
   }
  },
  {
   "cell_type": "code",
   "execution_count": 128,
   "outputs": [
    {
     "name": "stdout",
     "output_type": "stream",
     "text": [
      "b'Q\\x85\"\\x87\\x81\\xd4|4\\xb0\\xb3I\\xa6D\\xc7\\xf0>'\n"
     ]
    }
   ],
   "source": [
    "#5. ODBIORCA deszyfruje klucz AES swoim kluczem prywatnym. Potem deszyfruje wiadomość kluczem\n",
    "\n",
    "W2 = unpad(CIPHER.decrypt(KRYPTO))\n",
    "print(W2)"
   ],
   "metadata": {
    "collapsed": false
   }
  }
 ],
 "metadata": {
  "kernelspec": {
   "display_name": "Python 3",
   "language": "python",
   "name": "python3"
  },
  "language_info": {
   "codemirror_mode": {
    "name": "ipython",
    "version": 2
   },
   "file_extension": ".py",
   "mimetype": "text/x-python",
   "name": "python",
   "nbconvert_exporter": "python",
   "pygments_lexer": "ipython2",
   "version": "2.7.6"
  }
 },
 "nbformat": 4,
 "nbformat_minor": 0
}
