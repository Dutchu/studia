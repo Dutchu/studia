{
 "cells": [
  {
   "cell_type": "code",
   "execution_count": null,
   "metadata": {},
   "outputs": [],
   "source": [
    "import numpy as np\n",
    "import matplotlib.pyplot as plt\n",
    "import imageio.v2 as imageio\n",
    "from skimage import data, util, filters, color, measure, morphology, feature, segmentation, transform\n",
    "from scipy import ndimage"
   ]
  },
  {
   "cell_type": "markdown",
   "source": [
    "## Zadanie 1: Segmentacja poprzez progowanie"
   ],
   "metadata": {
    "collapsed": false
   }
  },
  {
   "cell_type": "code",
   "execution_count": null,
   "metadata": {},
   "outputs": [],
   "source": [
    "brain_path = 'brain_tumor.png'\n",
    "brain_image = imageio.imread(brain_path)\n",
    "brain_image_u8 = util.img_as_ubyte(brain_image)\n",
    "\n",
    "# Krok wstępny: Wyświetlenie wszystkich dostępnych progów\n",
    "fig, ax = filters.try_all_threshold(brain_image_u8, figsize=(12, 10), verbose=False)\n",
    "plt.suptitle(\"Porównanie automatycznych metod progowania\")\n",
    "plt.show()\n",
    "\n",
    "plt.figure(figsize=(6, 6))\n",
    "plt.imshow(brain_image_u8, cmap='gray')\n",
    "plt.title(\"Oryginalny obraz\")\n",
    "plt.axis('off')\n",
    "plt.show()"
   ]
  },
  {
   "cell_type": "markdown",
   "source": [
    "### Polecenie 1: Automatyczne progowanie w celu uwidocznienia mózgu"
   ],
   "metadata": {
    "collapsed": false
   }
  },
  {
   "cell_type": "code",
   "execution_count": null,
   "outputs": [],
   "source": [
    "thresh_brain = filters.threshold_minimum(brain_image_u8)\n",
    "brain_binary = brain_image_u8 > thresh_brain\n",
    "\n",
    "plt.figure(figsize=(6, 6))\n",
    "plt.imshow(brain_binary, cmap='gray')\n",
    "plt.title(\"Polecenie 1: Maska mózgu (próg Minimum)\")\n",
    "plt.axis('off')\n",
    "plt.show()"
   ],
   "metadata": {
    "collapsed": false
   }
  },
  {
   "cell_type": "markdown",
   "source": [
    "### Polecenie 2: Segmentacja i zliczenie obiektów"
   ],
   "metadata": {
    "collapsed": false
   }
  },
  {
   "cell_type": "code",
   "execution_count": null,
   "outputs": [],
   "source": [
    "\n",
    "brain_labeled, brain_num_labels = measure.label(brain_binary, return_num=True)\n",
    "print(f\"Polecenie 2: Znaleziono {brain_num_labels} segmentów dla całego mózgu.\")\n",
    "plt.figure(figsize=(6, 6))\n",
    "plt.imshow(brain_labeled, cmap='cool')\n",
    "plt.title(\"Polecenie 2: Posegmentowany obraz mózgu\")\n",
    "plt.axis('off')\n",
    "plt.show()\n"
   ],
   "metadata": {
    "collapsed": false
   }
  },
  {
   "cell_type": "markdown",
   "source": [
    "### Polecenie 3: Znalezienie największego segmentu (mózgu)"
   ],
   "metadata": {
    "collapsed": false
   }
  },
  {
   "cell_type": "code",
   "execution_count": null,
   "outputs": [],
   "source": [
    "brain_props = measure.regionprops(brain_labeled)\n",
    "# Znajdź obiekt o największej powierzchni, ignorując tło (label 0)\n",
    "brain_areas = [prop.area for prop in brain_props]\n",
    "largest_brain_component_index = np.argmax(brain_areas)\n",
    "largest_brain_prop = brain_props[largest_brain_component_index]\n",
    "\n",
    "brain_mask = (brain_labeled == largest_brain_prop.label)\n",
    "brain_area = largest_brain_prop.area\n",
    "print(f\"Polecenie 3: Pole powierzchni mózgu wynosi: {brain_area} pikseli.\")\n",
    "\n",
    "plt.figure(figsize=(6, 6))\n",
    "plt.imshow(brain_mask, cmap='gray')\n",
    "plt.title(f\"Polecenie 3: Maska największego segmentu (mózgu)\")\n",
    "plt.axis('off')\n",
    "plt.show()"
   ],
   "metadata": {
    "collapsed": false
   }
  },
  {
   "cell_type": "markdown",
   "source": [
    "### Polecenie 4: Segmentacja guza"
   ],
   "metadata": {
    "collapsed": false
   }
  },
  {
   "cell_type": "code",
   "execution_count": null,
   "outputs": [],
   "source": [
    "thresh_tumor = filters.threshold_yen(brain_image_u8)\n",
    "tumor_binary = brain_image_u8 > thresh_tumor\n",
    "tumor_labeled, tumor_num_labels = measure.label(tumor_binary, return_num=True)\n",
    "tumor_props = measure.regionprops(tumor_labeled)\n",
    "\n",
    "# Założenie, że guz jest największym obiektem po progowaniu Yen\n",
    "tumor_areas = [prop.area for prop in tumor_props]\n",
    "largest_tumor_component_index = np.argmax(tumor_areas)\n",
    "largest_tumor_prop = tumor_props[largest_tumor_component_index]\n",
    "\n",
    "tumor_mask = (tumor_labeled == largest_tumor_prop.label)\n",
    "tumor_area = largest_tumor_prop.area\n",
    "print(f\"Polecenie 4: Pole powierzchni guza wynosi: {tumor_area} pikseli.\")\n",
    "\n",
    "fig4, axes4 = plt.subplots(1, 3, figsize=(18, 6))\n",
    "\n",
    "axes4[0].imshow(tumor_binary, cmap='gray')\n",
    "axes4[0].set_title(\"1. Obraz binarny po progowaniu\")\n",
    "axes4[0].axis('off')\n",
    "\n",
    "axes4[1].imshow(color.label2rgb(tumor_labeled, bg_label=0))\n",
    "axes4[1].set_title(\"2. Wszystkie znalezione etykiety\")\n",
    "axes4[1].axis('off')\n",
    "\n",
    "axes4[2].imshow(tumor_mask, cmap='gray')\n",
    "axes4[2].set_title(\"3. Maska największego regionu (guz)\")\n",
    "axes4[2].axis('off')\n",
    "\n",
    "plt.suptitle(\"Polecenie 4: Kroki segmentacji guza\")\n",
    "plt.tight_layout()\n",
    "plt.show()\n"
   ],
   "metadata": {
    "collapsed": false
   }
  },
  {
   "cell_type": "markdown",
   "source": [
    "### Polecenie 5: Złożenie obrazów i obliczenie proporcji"
   ],
   "metadata": {
    "collapsed": false
   }
  },
  {
   "cell_type": "code",
   "execution_count": null,
   "outputs": [],
   "source": [
    "proportion = (tumor_area / brain_area) * 100\n",
    "print(f\"Polecenie 5: Guz zajmuje {proportion:.2f}% powierzchni całego mózgu.\")\n",
    "\n",
    "plt.figure(figsize=(6, 6))\n",
    "\n",
    "overlay_image = color.gray2rgb(util.img_as_float(brain_image_u8))\n",
    "brain_overlay = np.ma.masked_where(brain_mask == 0, brain_mask)\n",
    "tumor_overlay = np.ma.masked_where(tumor_mask == 0, tumor_mask)\n",
    "plt.imshow(overlay_image)\n",
    "plt.imshow(brain_overlay, cmap='cool', alpha=0.4)\n",
    "plt.imshow(tumor_overlay, cmap='autumn', alpha=0.8)\n",
    "plt.title(\"Złożenie: Mózg i Guz\")\n",
    "plt.show()"
   ],
   "metadata": {
    "collapsed": false
   }
  },
  {
   "cell_type": "markdown",
   "source": [
    "## Zadanie 2: Segmentacja poprzez detekcję krawędzi"
   ],
   "metadata": {
    "collapsed": false
   }
  },
  {
   "cell_type": "code",
   "execution_count": null,
   "outputs": [],
   "source": [
    "url_bolts = 'bolts.jpg'\n",
    "bolts_image_color = imageio.imread(url_bolts)"
   ],
   "metadata": {
    "collapsed": false
   }
  },
  {
   "cell_type": "markdown",
   "source": [
    "### Polecenie 1: Przetwarzanie wstępne i detekcja krawędzi"
   ],
   "metadata": {
    "collapsed": false
   }
  },
  {
   "cell_type": "code",
   "execution_count": null,
   "outputs": [],
   "source": [
    "bolts_resized = transform.resize(bolts_image_color, (bolts_image_color.shape[0] // 3, bolts_image_color.shape[1] // 3), anti_aliasing=True)\n",
    "bolts_gray = color.rgb2gray(bolts_resized)\n",
    "bolts_blurred = filters.gaussian(bolts_gray, sigma=1.2)\n",
    "bolts_canny = feature.canny(bolts_gray, sigma=1.5)\n",
    "\n",
    "fig_p1, axes_p1 = plt.subplots(1, 2, figsize=(12, 6))\n",
    "axes_p1[0].imshow(bolts_resized)\n",
    "axes_p1[0].set_title(\"Oryginał (zmniejszony)\")\n",
    "axes_p1[0].axis('off')\n",
    "axes_p1[1].imshow(bolts_canny, cmap='gray')\n",
    "axes_p1[1].set_title(\"Detekcja krawędzi (Canny)\")\n",
    "axes_p1[1].axis('off')\n",
    "plt.suptitle(\"Polecenie 1: Wyniki\")\n",
    "plt.show()"
   ],
   "metadata": {
    "collapsed": false
   }
  },
  {
   "cell_type": "markdown",
   "source": [
    "### Polecenie 2: Operacje morfologiczne"
   ],
   "metadata": {
    "collapsed": false
   }
  },
  {
   "cell_type": "code",
   "execution_count": null,
   "outputs": [],
   "source": [
    "bolts_cleared = segmentation.clear_border(bolts_canny)\n",
    "selem = morphology.disk(10)\n",
    "bolts_closed = morphology.binary_closing(bolts_cleared, selem)\n",
    "bolts_cleaned = morphology.remove_small_objects(bolts_closed, min_size=100)\n",
    "# bolts_filled = ndimage.binary_fill_holes(bolts_closed)\n",
    "\n",
    "fig_p2, axes_p2 = plt.subplots(1, 3, figsize=(18, 6))\n",
    "axes_p2[0].imshow(bolts_cleared, cmap='gray')\n",
    "axes_p2[0].set_title(\"1. Usunięcie artefaktów z brzegów\")\n",
    "axes_p2[0].axis('off')\n",
    "axes_p2[1].imshow(bolts_closed, cmap='gray')\n",
    "axes_p2[1].set_title(\"2. Po operacji zamknięcia\")\n",
    "axes_p2[1].axis('off')\n",
    "axes_p2[2].imshow(bolts_cleaned, cmap='gray')\n",
    "axes_p2[2].set_title(\"3. Po usunięciu małych obiektów\")\n",
    "axes_p2[2].axis('off')\n",
    "plt.suptitle(\"Polecenie 2: Wyniki\")\n",
    "plt.show()"
   ],
   "metadata": {
    "collapsed": false
   }
  },
  {
   "cell_type": "markdown",
   "source": [
    "### Polecenie 3: Finalna segmentacja"
   ],
   "metadata": {
    "collapsed": false
   }
  },
  {
   "cell_type": "code",
   "execution_count": null,
   "outputs": [],
   "source": [
    "bolts_labeled = measure.label(bolts_cleaned)\n",
    "\n",
    "plt.figure(figsize=(8, 8))\n",
    "plt.imshow(color.label2rgb(bolts_labeled, bg_label=0))\n",
    "plt.title(\"Polecenie 3: Finalna segmentacja (etykiety)\")\n",
    "plt.axis('off')\n",
    "plt.show()"
   ],
   "metadata": {
    "collapsed": false
   }
  },
  {
   "cell_type": "markdown",
   "source": [
    "## Zadanie 3: Segmentacja na podstawie kształtu"
   ],
   "metadata": {
    "collapsed": false
   }
  },
  {
   "cell_type": "code",
   "execution_count": null,
   "outputs": [],
   "source": [
    "url_planes = 'planes.png'\n",
    "\n",
    "planes_image_rgba = imageio.imread(url_planes)\n",
    "\n",
    "# Konwersja z RGBA do RGB, a następnie do skali szarości\n",
    "planes_rgb = color.rgba2rgb(planes_image_rgba)\n",
    "planes_gray = color.rgb2gray(planes_rgb)\n",
    "\n",
    "# Progowanie binarne, aby oddzielić obiekty (czarne) od tła (białe)\n",
    "planes_binary = planes_gray < 0.5\n",
    "\n",
    "# Usunięcie ewentualnych połączeń między obiektami za pomocą operacji otwarcia\n",
    "selem_planes = morphology.disk(1)\n",
    "planes_binary_cleaned = morphology.binary_opening(planes_binary, selem_planes)\n",
    "\n",
    "# Segmentacja obiektów na oczyszczonym obrazie binarnym\n",
    "planes_labeled = measure.label(planes_binary_cleaned)\n",
    "planes_props = measure.regionprops(planes_labeled)\n",
    "\n",
    "# Tworzenie obrazu wyjściowego do rysowania\n",
    "fig3, ax3 = plt.subplots(1, 1, figsize=(8, 8))\n",
    "ax3.imshow(planes_image_rgba)\n",
    "\n",
    "print(\"Analiza właściwości obiektów:\")\n",
    "print(f\"{'Label':<5} | {'Solidity':<15} | {'Eccentricity':<15}\")\n",
    "print(\"-\" * 50)\n",
    "\n",
    "# Iteracja po znalezionych obiektach\n",
    "for prop in planes_props:\n",
    "    euler_num = prop.euler_number\n",
    "    print(f\"{prop.label:<5} | {euler_num:<15.4f}\")\n",
    "\n",
    "    # Dodanie numeru etykiety na obrazie\n",
    "    y, x = prop.centroid\n",
    "    ax3.text(x, y, str(prop.label), color='cyan', fontsize=12, ha='center', va='center')\n",
    "\n",
    "    # Kryterium klasyfikacji: samoloty mają niską zwięzłość (solidity)\n",
    "    if euler_num > 0:\n",
    "        # Rysowanie prostokąta otaczającego\n",
    "        minr, minc, maxr, maxc = prop.bbox\n",
    "        rect = plt.Rectangle((minc, minr), maxc - minc, maxr - minr,\n",
    "                             fill=False, edgecolor='red', linewidth=2)\n",
    "        ax3.add_patch(rect)\n",
    "\n",
    "ax3.set_title(\"Zidentyfikowane samoloty (czerwone ramki) i etykiety obiektów\")\n",
    "ax3.axis('off')\n",
    "plt.show()"
   ],
   "metadata": {
    "collapsed": false
   }
  }
 ],
 "metadata": {
  "kernelspec": {
   "display_name": "Python 3",
   "language": "python",
   "name": "python3"
  },
  "language_info": {
   "codemirror_mode": {
    "name": "ipython",
    "version": 2
   },
   "file_extension": ".py",
   "mimetype": "text/x-python",
   "name": "python",
   "nbconvert_exporter": "python",
   "pygments_lexer": "ipython2",
   "version": "2.7.6"
  }
 },
 "nbformat": 4,
 "nbformat_minor": 0
}
