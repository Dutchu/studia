{
 "cells": [
  {
   "cell_type": "code",
   "execution_count": null,
   "metadata": {},
   "outputs": [],
   "source": [
    "import numpy as np\n",
    "\n",
    "from PIL import Image, ImageDraw, ImageFilter, ImageFont\n",
    "from skimage import data, img_as_float\n",
    "from skimage import exposure\n",
    "from skimage import io\n",
    "from skimage.transform import rescale, resize\n",
    "from skimage.color import rgb2gray\n",
    "import matplotlib.pyplot as plt\n",
    "\n",
    "img = data.camera()\n",
    "moon = data.moon()"
   ]
  },
  {
   "cell_type": "markdown",
   "metadata": {},
   "source": []
  },
  {
   "cell_type": "code",
   "execution_count": null,
   "metadata": {},
   "outputs": [],
   "source": [
    "arr = np.array(img)\n",
    "img2=arr // 32\n",
    "his=np.zeros(8, dtype=np.uint64)\n",
    "val, cnt = unique_rows = np.unique(img2.flatten(), return_counts=True)\n",
    "his[val]=cnt\n",
    "print(his)"
   ]
  },
  {
   "cell_type": "code",
   "execution_count": null,
   "metadata": {},
   "outputs": [],
   "source": [
    "from collections import Counter\n",
    "\n",
    "Counter(np.array(img).flatten())\n",
    "\n",
    "plt.axes"
   ]
  },
  {
   "cell_type": "code",
   "execution_count": null,
   "metadata": {},
   "outputs": [],
   "source": [
    "def plot_img_and_hist(image, axes, bins=256):\n",
    "    \"\"\"Plot an image along with its histogram and cumulative histogram.\n",
    "\n",
    "    \"\"\"\n",
    "    image = img_as_float(image)\n",
    "    ax_img, ax_hist = axes\n",
    "    ax_cdf = ax_hist.twinx()\n",
    "\n",
    "    # Display image\n",
    "    ax_img.imshow(image, cmap=plt.cm.gray)\n",
    "    ax_img.set_axis_off()\n",
    "\n",
    "    # Display histogram\n",
    "    ax_hist.hist(image.ravel(), bins=bins, histtype='step', color='black')\n",
    "    ax_hist.ticklabel_format(axis='y', style='scientific', scilimits=(0, 0))\n",
    "    ax_hist.set_xlabel('Pixel intensity')\n",
    "    ax_hist.set_xlim(0, 1)\n",
    "    ax_hist.set_yticks([])\n",
    "\n",
    "    # Display cumulative distribution\n",
    "    img_cdf, bins = exposure.cumulative_distribution(image, bins)\n",
    "    ax_cdf.plot(bins, img_cdf, 'r')\n",
    "    ax_cdf.set_yticks([])\n",
    "\n",
    "    return ax_img, ax_hist, ax_cdf"
   ]
  },
  {
   "cell_type": "code",
   "execution_count": null,
   "metadata": {},
   "outputs": [],
   "source": [
    "# Load an example image\n",
    "img = data.moon()\n",
    "\n",
    "# Contrast stretching\n",
    "p2, p98 = np.percentile(img, (2, 98))\n",
    "img_rescale = exposure.rescale_intensity(img, in_range=(p2, p98))\n",
    "\n",
    "\n",
    "\n",
    "# Display results\n",
    "fig = plt.figure(figsize=(4, 1))\n",
    "axes = np.zeros((2, 4), dtype=object)\n",
    "axes[0, 0] = fig.add_subplot(2, 4, 1)\n",
    "for i in range(1, 4):\n",
    "    axes[0, i] = fig.add_subplot(2, 4, 1+i, sharex=axes[0,0], sharey=axes[0,0])\n",
    "for i in range(0, 4):\n",
    "    axes[1, i] = fig.add_subplot(2, 4, 5+i)\n",
    "\n",
    "ax_img, ax_hist, ax_cdf = plot_img_and_hist(img, axes[:, 0])\n",
    "ax_img.set_title('Low contrast image')\n",
    "\n",
    "y_min, y_max = ax_hist.get_ylim()\n",
    "ax_hist.set_ylabel('Number of pixels')\n",
    "ax_hist.set_yticks(np.linspace(0, y_max, 5))\n",
    "\n",
    "ax_img, ax_hist, ax_cdf = plot_img_and_hist(img_rescale, axes[:, 1])\n",
    "ax_img.set_title('Contrast stretching')\n",
    "\n",
    "\n",
    "ax_cdf.set_ylabel('Fraction of total intensity')\n",
    "ax_cdf.set_yticks(np.linspace(0, 1, 5))\n",
    "\n",
    "# prevent overlap of y-axis labels\n",
    "fig.tight_layout()\n",
    "plt.show()"
   ]
  },
  {
   "cell_type": "code",
   "execution_count": null,
   "metadata": {},
   "outputs": [],
   "source": []
  }
 ],
 "metadata": {
  "kernelspec": {
   "display_name": "Python 3",
   "language": "python",
   "name": "python3"
  },
  "language_info": {
   "codemirror_mode": {
    "name": "ipython",
    "version": 2
   },
   "file_extension": ".py",
   "mimetype": "text/x-python",
   "name": "python",
   "nbconvert_exporter": "python",
   "pygments_lexer": "ipython2",
   "version": "2.7.6"
  }
 },
 "nbformat": 4,
 "nbformat_minor": 0
}
