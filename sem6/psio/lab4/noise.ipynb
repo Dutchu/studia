{
 "cells": [
  {
   "cell_type": "code",
   "execution_count": null,
   "metadata": {},
   "outputs": [],
   "source": [
    "import scipy.ndimage\n",
    "import skimage\n",
    "\n",
    "from skimage.filters import threshold_otsu as th_otsu\n",
    "from skimage.filters import threshold_minimum as th_minimum\n",
    "from skimage.filters import try_all_threshold\n",
    "import skimage.measure as measure\n",
    "from skimage.filters import threshold_yen as th_yen\n",
    "import skimage as ski\n",
    "import numpy as np\n",
    "import matplotlib.pyplot as plt\n",
    "import os\n",
    "filename = os.path.join(os.getcwd(), 'brain_tumor.png')\n",
    "from skimage import io, img_as_ubyte, color\n",
    "img = io.imread(filename)\n",
    "percent = 5\n",
    "img_path = os.path.join(os.getcwd(), 'brain_tumor.bmp')\n",
    "brain = io.imread(img_path)\n",
    "# brain_gray = color.rgb2gray(brain)\n",
    "# brain_gray_uint8 = img_as_ubyte(brain_gray)\n",
    "# brain = img_as_ubyte(brain)"
   ]
  },
  {
   "cell_type": "code",
   "execution_count": null,
   "metadata": {},
   "outputs": [],
   "source": [
    "# skimage.img_as_ubyte(skimage.util.random_noise(img,'s&p', percent=5/100))\n",
    "fig, ax = try_all_threshold(brain, figsize=(10, 8), verbose=False)\n",
    "plt.show()"
   ]
  },
  {
   "cell_type": "code",
   "execution_count": null,
   "metadata": {},
   "outputs": [],
   "source": [
    "#region props\n",
    "#skiage.measure\n",
    "# skimage.measure.label(brain)\n",
    "\n",
    "# Progowanie obrazu\n",
    "threshold = th_minimum(brain)\n",
    "binary_image = brain > threshold\n",
    "\n",
    "# Segmentacja obrazu binarnego\n",
    "labeled_image, num_labels = skimage.measure.label(binary_image, background=0, return_num=True)\n",
    "\n",
    "# Wyświetlenie wyników\n",
    "plt.figure(figsize=(10, 5))\n",
    "\n",
    "# Wyświetlenie oryginalnego obrazu\n",
    "plt.subplot(1, 2, 1)\n",
    "plt.imshow(brain, cmap='gray')\n",
    "plt.title('Oryginalny obraz')\n",
    "\n",
    "# Wyświetlenie zsegmentowanego obrazu\n",
    "plt.subplot(1, 2, 2)\n",
    "plt.imshow(labeled_image, cmap='nipy_spectral')\n",
    "plt.title(f'Segmentacja: {num_labels} segmentów')\n",
    "plt.colorbar(label='Numer segmentu')\n",
    "plt.show()"
   ]
  },
  {
   "cell_type": "code",
   "execution_count": null,
   "metadata": {},
   "outputs": [],
   "source": [
    "##scipy\n",
    "# import scipy\n",
    "# result = scipy.ndimage.gaussian_filter(img, sigma=2)"
   ]
  },
  {
   "cell_type": "code",
   "execution_count": null,
   "metadata": {},
   "outputs": [],
   "source": [
    "# Obliczenie regionprops dla poszczególnych segmentów\n",
    "props = skimage.measure.regionprops(labeled_image)\n",
    "\n",
    "# Znalezienie segmentu z największym polem powierzchni\n",
    "max_area = 0\n",
    "max_area_label = 0\n",
    "for prop in props:\n",
    "    if prop.area > max_area:\n",
    "        max_area = prop.area\n",
    "        max_area_label = prop.label\n",
    "\n",
    "# Usunięcie pozostałych obiektów\n",
    "binary_image_selected = labeled_image == max_area_label\n",
    "\n",
    "cleared_brain = ski.morphology.remove_small_objects(binary_image_selected, min_size=600, connectivity=2)#connectivity????\n",
    "\n",
    "# Wytnij oryginalny obraz przy użyciu maski\n",
    "segmented_image = brain.copy()\n",
    "segmented_image[~cleared_brain] = 0  # Ustawienie na zero wartości pikseli, które nie należą do wybranego segmentu\n",
    "\n",
    "# Wyświetlenie oryginalnego obrazu z wyciętym segmentem\n",
    "plt.figure(figsize=(10, 5))\n",
    "plt.imshow(segmented_image)\n",
    "plt.title('Oryginalny obraz z wyciętym segmentem')\n",
    "plt.axis('off')\n",
    "plt.show()\n",
    "\n",
    "# Wyświetlenie obrazu wybranego segmentu\n",
    "plt.figure(figsize=(10, 5))\n",
    "plt.imshow(binary_image_selected, cmap='gray')\n",
    "plt.title(f'Wybrany segment (pole powierzchni: {max_area})')\n",
    "plt.axis('off')\n",
    "plt.show()"
   ]
  },
  {
   "cell_type": "code",
   "execution_count": null,
   "metadata": {},
   "outputs": [],
   "source": [
    "brain_th = th_minimum(brain)\n",
    "brain_area = brain > brain_th\n",
    "brain_area = scipy.ndimage.binary_fill_holes(brain_area)\n",
    "brain_l, lb_num = skimage.measure.label(brain_area, return_num=True)\n",
    "\n",
    "\n",
    "\n",
    "plt.figure(figsize=(20,20))\n",
    "plt.subplot(231)\n",
    "plt.title(\"brain TH\")\n",
    "plt.imshow(brain, cmap=\"gray\")\n",
    "plt.subplot\n",
    "\n",
    "\n",
    "brain_props = skimage.measure.regionprops(brain_l)\n",
    "areas = [b_prop.area for b_prop in brain_props]\n",
    "max_index = np.argmax(areas)\n",
    "seg_brain = (brain_l==brain_props[max_index].label)\n",
    "\n",
    "ca_props = skimage.measure.regionprops(brain_l)"
   ]
  },
  {
   "cell_type": "code",
   "execution_count": null,
   "metadata": {},
   "outputs": [],
   "source": [
    "brain_th = th_minimum(brain)\n",
    "brain_area = brain > brain_th\n",
    "brain_area = scipy.ndimage.binary_fill_holes(brain_area)\n",
    "brain_l, lb_num = skimage.measure.label(brain_area, return_num=True)\n",
    "\n",
    "# Extract the brain segment\n",
    "props = measure.regionprops(brain_l)\n",
    "areas = [prop.area for prop in props]\n",
    "max_index = np.argmax(areas)\n",
    "seg_brain = (brain_l == props[max_index].label)\n",
    "\n",
    "segmented_image[~seg_brain] = 0\n",
    "\n",
    "# Extract the smaller object inside the brain\n",
    "smaller_object = None\n",
    "for prop in props:\n",
    "    if prop.label != props[max_index].label:\n",
    "        smaller_object = prop\n",
    "        break\n",
    "\n",
    "# Calculate the proportion between the brain and the smaller object\n",
    "proportion = props[max_index-1].area / props[max_index].area\n",
    "\n",
    "print(\"Proportion between brain and the smaller object in brain:\", proportion)\n",
    "# Plot the original image with both objects highlighted\n",
    "plt.figure(figsize=(10, 5))\n",
    "\n",
    "plt.subplot(1, 2, 1)\n",
    "plt.imshow(brain, cmap='gray')\n",
    "plt.title('Original Image')\n",
    "plt.axis('off')\n",
    "\n",
    "plt.subplot(1, 2, 2)\n",
    "plt.imshow(brain, cmap='gray')\n",
    "plt.imshow(segmented_image, alpha=0.5, cmap='Reds')\n",
    "plt.imshow(brain_l == smaller_object.label, alpha=0.5, cmap='Blues')\n",
    "plt.title('Brain and Smaller Object')\n",
    "plt.axis('off')\n",
    "\n",
    "plt.show()"
   ]
  },
  {
   "cell_type": "markdown",
   "metadata": {},
   "source": []
  },
  {
   "cell_type": "code",
   "execution_count": null,
   "metadata": {},
   "outputs": [],
   "source": [
    "fig, axes = plt.subplots(ncols=2, figsize=(10, 3))\n",
    "ax = axes.ravel()\n",
    "ax[0] = plt.subplot(1, 2,1)\n",
    "ax[1] = plt.subplot(1, 2, 2, sharex=ax[0], sharey=ax[0])\n",
    "\n",
    "ax[0].imshow(img)\n",
    "ax[1].imshow(result)"
   ]
  },
  {
   "cell_type": "code",
   "execution_count": null,
   "metadata": {},
   "outputs": [],
   "source": [
    "from skimage import data\n",
    "coins = data.coins\n",
    "print(type(coins))\n",
    "plt.imshow(coins, cmap='gray')\n",
    "plt.axis('off')  # Turn off axis\n",
    "plt.show()\n"
   ]
  },
  {
   "cell_type": "code",
   "execution_count": null,
   "metadata": {},
   "outputs": [],
   "source": []
  },
  {
   "cell_type": "code",
   "execution_count": null,
   "metadata": {},
   "outputs": [],
   "source": []
  }
 ],
 "metadata": {
  "kernelspec": {
   "display_name": "Python 3",
   "language": "python",
   "name": "python3"
  },
  "language_info": {
   "codemirror_mode": {
    "name": "ipython",
    "version": 2
   },
   "file_extension": ".py",
   "mimetype": "text/x-python",
   "name": "python",
   "nbconvert_exporter": "python",
   "pygments_lexer": "ipython2",
   "version": "2.7.6"
  }
 },
 "nbformat": 4,
 "nbformat_minor": 0
}
