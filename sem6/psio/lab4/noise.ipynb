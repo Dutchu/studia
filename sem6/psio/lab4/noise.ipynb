{
 "cells": [
  {
   "cell_type": "markdown",
   "metadata": {},
   "source": [
    "## ZADANIE 1 - Zaszumianie obrazów i NMSE\n",
    "- Wczytujemy obraz w skali szarości (skimage.data.camera).\n",
    "- Generujemy szumy: sól i pieprz (5%, 10%, 20%), Gaussa (sigma=0.05, 0.08, 0.1), jednostajny (h=+/-10, +/-20, +/-40).\n",
    "- Dla każdego zaszumienia obliczamy NMSE względem oryginału."
   ]
  },
  {
   "cell_type": "code",
   "execution_count": null,
   "outputs": [],
   "source": [
    "import numpy as np\n",
    "import matplotlib.pyplot as plt\n",
    "import skimage.filters as filters\n",
    "from skimage import data, util\n",
    "from scipy.ndimage import median_filter\n",
    "from skimage.util import random_noise\n",
    "from skimage.filters import rank\n",
    "from skimage.morphology import disk, square"
   ],
   "metadata": {
    "collapsed": false
   }
  },
  {
   "cell_type": "code",
   "execution_count": null,
   "outputs": [],
   "source": [
    "def calculate_nmse(original_img, processed_img):\n",
    "    \"\"\"\n",
    "    Oblicza znormalizowany błąd średniokwadratowy (NMSE) między dwoma obrazami.\n",
    "    Wzór: NMSE = suma((oryginał - zaszumiony)^2) / suma(oryginał^2)\n",
    "    \"\"\"\n",
    "    # Konwersja obrazów do float64 dla precyzji obliczeń\n",
    "    f = original_img.astype(np.float64)\n",
    "    fe = processed_img.astype(np.float64)\n",
    "\n",
    "    # Obliczenie licznika (suma kwadratów różnic)\n",
    "    numerator = np.sum(np.square(f - fe))\n",
    "\n",
    "    # Obliczenie mianownika (suma kwadratów pikseli oryginału)\n",
    "    denominator = np.sum(np.square(f))\n",
    "\n",
    "    # Unikanie dzielenia przez zero\n",
    "    if denominator == 0:\n",
    "        return 0.0\n",
    "\n",
    "    return numerator / denominator"
   ],
   "metadata": {
    "collapsed": false
   }
  },
  {
   "cell_type": "markdown",
   "source": [
    "## Funkcje generujące szum"
   ],
   "metadata": {
    "collapsed": false
   }
  },
  {
   "cell_type": "code",
   "execution_count": null,
   "outputs": [],
   "source": [
    "def add_salt_and_pepper_noise(image, amount_percent):\n",
    "    \"\"\"Dodaje szum typu \"sól i pieprz\" do obrazu.\"\"\"\n",
    "    # random_noise działa na obrazach float w zakresie [0, 1]\n",
    "    noisy_float = random_noise(image, mode='s&p', amount=amount_percent / 100.0)\n",
    "    # Konwersja z powrotem do uint8 [0, 255]\n",
    "    return util.img_as_ubyte(noisy_float)\n",
    "\n",
    "def add_gaussian_noise(image, sigma):\n",
    "    \"\"\"Dodaje szum Gaussa do obrazu.\"\"\"\n",
    "    # Parametr 'var' to sigma^2\n",
    "    noisy_float = random_noise(image, mode='gaussian', var=sigma**2)\n",
    "    return util.img_as_ubyte(noisy_float)\n",
    "\n",
    "def add_uniform_noise(image, h):\n",
    "    \"\"\"Dodaje szum jednostajny z przedziału [-h, +h] do obrazu.\"\"\"\n",
    "    # Stworzenie maski szumu o wymiarach obrazu\n",
    "    noise_mask = np.random.uniform(-h, h, image.shape)\n",
    "\n",
    "    # Dodanie maski do obrazu\n",
    "    noisy_image = image.astype(np.float64) + noise_mask\n",
    "\n",
    "    # Przycięcie wartości do zakresu [0, 255] i konwersja do uint8\n",
    "    noisy_image_clipped = np.clip(noisy_image, 0, 255)\n",
    "\n",
    "    return noisy_image_clipped.astype(np.uint8)"
   ],
   "metadata": {
    "collapsed": false
   }
  },
  {
   "cell_type": "code",
   "execution_count": null,
   "outputs": [],
   "source": [
    "# 1. Wczytanie obrazu w skali szarości\n",
    "original_image = data.camera()\n",
    "\n",
    "# 2. Zdefiniowanie parametrów szumu\n",
    "sp_levels = [5, 10, 20]\n",
    "gauss_sigmas = [0.05, 0.08, 0.1]\n",
    "uniform_h_ranges = [10, 20, 40]\n",
    "\n",
    "results = []\n",
    "\n",
    "# 3. Zastosowanie szumu \"sól i pieprz\" i obliczenie NMSE\n",
    "for p in sp_levels:\n",
    "    noisy_img = add_salt_and_pepper_noise(original_image, p)\n",
    "    nmse_val = calculate_nmse(original_image, noisy_img)\n",
    "    results.append(('Sól i pieprz', f'{p}%', nmse_val, noisy_img))\n",
    "\n",
    "# 4. Zastosowanie szumu Gaussa i obliczenie NMSE\n",
    "for s in gauss_sigmas:\n",
    "    noisy_img = add_gaussian_noise(original_image, s)\n",
    "    nmse_val = calculate_nmse(original_image, noisy_img)\n",
    "    results.append(('Gaussa', f's={s}', nmse_val, noisy_img))\n",
    "\n",
    "# 5. Zastosowanie szumu jednostajnego i obliczenie NMSE\n",
    "for h in uniform_h_ranges:\n",
    "    noisy_img = add_uniform_noise(original_image, h)\n",
    "    nmse_val = calculate_nmse(original_image, noisy_img)\n",
    "    results.append(('Jednostajny', f'+/-{h}', nmse_val, noisy_img))\n",
    "\n",
    "# 6. Wyświetlenie wyników w formie tabeli\n",
    "print(\"--- Wyniki Zaszumiania i NMSE ---\")\n",
    "print(f\"{'Rodzaj szumu':<15} | {'Parametr':<10} | {'NMSE':<20}\")\n",
    "print(\"-\" * 50)\n",
    "for name, param, nmse, _ in results:\n",
    "    print(f\"{name:<15} | {param:<10} | {nmse:.6f}\")\n",
    "\n",
    "# 7. Wizualizacja obrazu oryginalnego i przykładów szumów\n",
    "fig, axes = plt.subplots(1, 4, figsize=(20, 5))\n",
    "ax = axes.ravel()\n",
    "\n",
    "ax[0].imshow(original_image, cmap='gray')\n",
    "ax[0].set_title(\"Oryginalny obraz\")\n",
    "ax[0].axis('off')\n",
    "\n",
    "ax[1].imshow(results[0][3], cmap='gray')\n",
    "ax[1].set_title(f\"{results[0][0]} ({results[0][1]})\")\n",
    "ax[1].axis('off')\n",
    "\n",
    "ax[2].imshow(results[3][3], cmap='gray')\n",
    "ax[2].set_title(f\"{results[3][0]} ({results[3][1]})\")\n",
    "ax[2].axis('off')\n",
    "\n",
    "ax[3].imshow(results[6][3], cmap='gray')\n",
    "ax[3].set_title(f\"{results[6][0]} ({results[6][1]})\")\n",
    "ax[3].axis('off')\n",
    "\n",
    "plt.tight_layout()\n",
    "plt.show()"
   ],
   "metadata": {
    "collapsed": false
   }
  },
  {
   "cell_type": "markdown",
   "metadata": {},
   "source": [
    "## ZADANIE 2 - Usuwanie szumu i wybór najlepszego filtru\n",
    "Dla każdego zaszumionego obrazu testujemy filtry: medianowy (disk(1), disk(2), square(3)),\n",
    "rank.mean (disk(1), disk(2), square(3)) oraz Gaussa (sigma in {0.5, 0.8, 1.0}).\n",
    "Wybieramy filtr o najmniejszym NMSE(oryg, odszum)."
   ]
  },
  {
   "cell_type": "code",
   "execution_count": null,
   "outputs": [],
   "source": [
    "\n",
    "# Definicja siatki filtrów do przetestowania\n",
    "filter_grid = [\n",
    "    ('medianowy', {'fp': disk(1)}, \"disk(1)\"),\n",
    "    ('medianowy', {'fp': disk(2)}, \"disk(2)\"),\n",
    "    ('medianowy', {'fp': square(3)}, \"square(3)\"),\n",
    "    ('uśredniający', {'fp': disk(1)}, \"disk(1)\"),\n",
    "    ('uśredniający', {'fp': disk(2)}, \"disk(2)\"),\n",
    "    ('uśredniający', {'fp': square(3)}, \"square(3)\"),\n",
    "    ('Gaussa', {'sigma': 0.5}, \"sigma=0.5\"),\n",
    "    ('Gaussa', {'sigma': 0.8}, \"sigma=0.8\"),\n",
    "    ('Gaussa', {'sigma': 1.0}, \"sigma=1.0\"),\n",
    "]\n",
    "\n",
    "summary = []\n",
    "\n",
    "# Iteracja po każdym zaszumionym obrazie z zadania 1\n",
    "for kind, param_noisy_str, nmse_noisy, noisy_img in results:\n",
    "    best_nmse = float('inf')\n",
    "    best_filter_name = None\n",
    "    best_filter_params_str = None\n",
    "\n",
    "    # Testowanie każdego filtra na danym zaszumionym obrazie\n",
    "    for name, params_dict, params_str in filter_grid:\n",
    "        if name == 'medianowy':\n",
    "            denoised_img = filters.median(noisy_img, footprint=params_dict['fp'])\n",
    "        elif name == 'uśredniający':\n",
    "            denoised_img = rank.mean(noisy_img, footprint=params_dict['fp'])\n",
    "        else:  # 'Gaussa'\n",
    "            denoised_float = filters.gaussian(noisy_img, sigma=params_dict['sigma'])\n",
    "            denoised_img = util.img_as_ubyte(denoised_float)\n",
    "\n",
    "        current_nmse = calculate_nmse(original_image, denoised_img)\n",
    "\n",
    "        if current_nmse < best_nmse:\n",
    "            best_nmse = current_nmse\n",
    "            best_filter_name = name\n",
    "            best_filter_params_str = params_str\n",
    "\n",
    "    summary.append((kind, param_noisy_str, nmse_noisy, best_nmse, best_filter_name, best_filter_params_str))\n",
    "\n",
    "# Wyświetlenie tabeli z wynikami zadania 2\n",
    "print(\"\\n--- ZADANIE 2: Podsumowanie Odszumiania ---\")\n",
    "header = f\"{'Rodzaj szumu':<15} | {'Parametr':<10} | {'NMSE (zaszum.)':<15} | {'NMSE (odszum.)':<15} | {'Najlepszy filtr':<15} | {'Parametry'}\"\n",
    "print(header)\n",
    "print(\"-\" * len(header))\n",
    "for kind, param, n_noisy, n_best, fname, fpar in summary:\n",
    "    print(f\"{kind:<15} | {param:<10} | {n_noisy:<15.6f} | {n_best:<15.6f} | {fname:<15} | {fpar}\")\n",
    "\n",
    "# Wizualizacja przykładu: oryginał, zaszumiony i najlepszy odszumiony\n",
    "if summary:\n",
    "    # Wybór pierwszego przypadku do wizualizacji\n",
    "    kind, param_noisy_str, _, _, best_filter_name, best_filter_params_str = summary[0]\n",
    "    noisy_img_to_show = results[0][3]\n",
    "\n",
    "    # Ponowne zastosowanie najlepszego filtra\n",
    "    best_filter_info = next(f for f in filter_grid if f[0] == best_filter_name and f[2] == best_filter_params_str)\n",
    "    name, params_dict, _ = best_filter_info\n",
    "\n",
    "    if name == 'medianowy':\n",
    "        denoised_to_show = filters.median(noisy_img_to_show, footprint=params_dict['fp'])\n",
    "    elif name == 'uśredniający':\n",
    "        denoised_to_show = rank.mean(noisy_img_to_show, footprint=params_dict['fp'])\n",
    "    else: # 'Gaussa'\n",
    "        denoised_float = filters.gaussian(noisy_img_to_show, sigma=params_dict['sigma'])\n",
    "        denoised_to_show = util.img_as_ubyte(denoised_float)\n",
    "\n",
    "    fig, axes = plt.subplots(1, 3, figsize=(18, 6))\n",
    "    axes[0].imshow(original_image, cmap='gray')\n",
    "    axes[0].set_title(\"Oryginalny obraz\")\n",
    "    axes[0].axis('off')\n",
    "\n",
    "    axes[1].imshow(noisy_img_to_show, cmap='gray')\n",
    "    axes[1].set_title(f\"Zaszumiony: {kind} ({param_noisy_str})\")\n",
    "    axes[1].axis('off')\n",
    "\n",
    "    axes[2].imshow(denoised_to_show, cmap='gray')\n",
    "    axes[2].set_title(f\"Najlepsze odszumienie: {best_filter_name} ({best_filter_params_str})\")\n",
    "    axes[2].axis('off')\n",
    "\n",
    "    plt.tight_layout()\n",
    "    plt.show()\n"
   ],
   "metadata": {
    "collapsed": false
   }
  },
  {
   "cell_type": "markdown",
   "source": [
    "## # ZADANIE 3: Szum impulsowy dla obrazu barwnego"
   ],
   "metadata": {
    "collapsed": false
   }
  },
  {
   "cell_type": "code",
   "execution_count": null,
   "outputs": [],
   "source": [
    "def add_impulse_noise(image, p):\n",
    "\n",
    "    noisy_image = image.copy()\n",
    "    height, width, _ = noisy_image.shape\n",
    "\n",
    "    # Obliczenie liczby pikseli do zmiany\n",
    "    num_pixels_to_noise = int(height * width * p / 100)\n",
    "\n",
    "    for _ in range(num_pixels_to_noise):\n",
    "        # Losowanie współrzędnych piksela\n",
    "        y = np.random.randint(0, height)\n",
    "        x = np.random.randint(0, width)\n",
    "\n",
    "        # Losowanie nowych wartości R, G, B\n",
    "        R = np.random.randint(0, 256)\n",
    "        G = np.random.randint(0, 256)\n",
    "        B = np.random.randint(0, 256)\n",
    "\n",
    "        # Ustawienie nowego koloru piksela\n",
    "        noisy_image[y, x] = [R, G, B]\n",
    "\n",
    "    return noisy_image\n",
    "\n",
    "# Wczytanie obrazu barwnego\n",
    "color_image_original = data.chelsea()\n",
    "\n",
    "# Poziom zaszumienia\n",
    "noise_percent = 3\n",
    "\n",
    "# Dodanie szumu impulsowego\n",
    "noisy_color_image = add_impulse_noise(color_image_original, noise_percent)\n",
    "\n",
    "# Wizualizacja\n",
    "print(f\"\\n--- ZADANIE 3: Szum impulsowy ({noise_percent}%) ---\")\n",
    "fig, axes = plt.subplots(1, 2, figsize=(12, 6))\n",
    "axes[0].imshow(color_image_original)\n",
    "axes[0].set_title(\"Oryginalny obraz barwny\")\n",
    "axes[0].axis('off')\n",
    "\n",
    "axes[1].imshow(noisy_color_image)\n",
    "axes[1].set_title(f\"Obraz zaszumiony ({noise_percent}%)\")\n",
    "axes[1].axis('off')\n",
    "\n",
    "plt.tight_layout()\n",
    "plt.show()\n"
   ],
   "metadata": {
    "collapsed": false
   }
  },
  {
   "cell_type": "markdown",
   "source": [
    "# ZADANIE 4: NMSE dla obrazów kolorowych"
   ],
   "metadata": {
    "collapsed": false
   }
  },
  {
   "cell_type": "code",
   "execution_count": null,
   "outputs": [],
   "source": [
    "nmse_color_val = calculate_nmse(color_image_original, noisy_color_image)\n",
    "\n",
    "print(f\"Obliczona wartość NMSE dla obrazu barwnego (szum {noise_percent}%): {nmse_color_val:.6f}\")"
   ],
   "metadata": {
    "collapsed": false
   }
  },
  {
   "cell_type": "markdown",
   "source": [
    "## ZADANIE 5: Implementacja Wektorowego Filtru Medianowego (VMF)"
   ],
   "metadata": {
    "collapsed": false
   }
  },
  {
   "cell_type": "code",
   "execution_count": null,
   "outputs": [],
   "source": [
    "def manhattan_distance(p1, p2):\n",
    "    \"\"\"Oblicza odległość w metryce miejskiej między dwoma wektorami kolorów.\"\"\"\n",
    "    return np.sum(np.abs(p1.astype(np.float64) - p2.astype(np.float64)))\n",
    "\n",
    "def vector_median_filter(image):\n",
    "    \"\"\"\n",
    "    Implementuje wektorowy filtr medianowy (VMF) z maską krzyżową 3x3.\n",
    "    \"\"\"\n",
    "    # Obraz z dopełnieniem krawędzi w celu obsługi pikseli brzegowych\n",
    "    padded_image = np.pad(image, ((1, 1), (1, 1), (0, 0)), mode='edge')\n",
    "    output_image = np.copy(image)\n",
    "    height, width, _ = image.shape\n",
    "\n",
    "    # Iteracja przez każdy piksel oryginalnego obrazu\n",
    "    for y in range(height):\n",
    "        for x in range(width):\n",
    "            # Współrzędne w obrazie z dopełnieniem\n",
    "            py, px = y + 1, x + 1\n",
    "\n",
    "            # Pobranie pikseli z maski krzyżowej\n",
    "            p0 = padded_image[py, px]      # Centralny\n",
    "            p1 = padded_image[py - 1, px]  # Górny\n",
    "            p2 = padded_image[py + 1, px]  # Dolny\n",
    "            p3 = padded_image[py, px - 1]  # Lewy\n",
    "            p4 = padded_image[py, px + 1]  # Prawy\n",
    "\n",
    "            mask_pixels = [p0, p1, p2, p3, p4]\n",
    "\n",
    "            min_sum_dist = float('inf')\n",
    "            vector_median = p0\n",
    "\n",
    "            # Dla każdego piksela w masce, oblicz sumę jego odległości od pozostałych\n",
    "            for pi in mask_pixels:\n",
    "                current_sum_dist = 0\n",
    "                for pj in mask_pixels:\n",
    "                    current_sum_dist += manhattan_distance(pi, pj)\n",
    "\n",
    "                # Jeśli znaleziona suma jest mniejsza, aktualizuj medianę wektorową\n",
    "                if current_sum_dist < min_sum_dist:\n",
    "                    min_sum_dist = current_sum_dist\n",
    "                    vector_median = pi\n",
    "\n",
    "            output_image[y, x] = vector_median\n",
    "\n",
    "    return output_image"
   ],
   "metadata": {
    "collapsed": false
   }
  },
  {
   "cell_type": "markdown",
   "source": [
    "## Porównanie filtrów"
   ],
   "metadata": {
    "collapsed": false
   }
  },
  {
   "cell_type": "code",
   "execution_count": null,
   "outputs": [],
   "source": [
    "# Wczytanie obrazu\n",
    "color_image_original = data.chelsea()\n",
    "\n",
    "# Poziomy szumu do przetestowania\n",
    "noise_levels = [2, 5, 10]\n",
    "results_summary = []\n",
    "\n",
    "print(\"--- ZADANIE 5: Porównanie Filtru Medianowego i VMF ---\")\n",
    "print(\"Obliczenia w toku...\")\n",
    "\n",
    "# Pętla po różnych poziomach szumu\n",
    "for p in noise_levels:\n",
    "    # 1. Zaszumianie obrazu\n",
    "    noisy_image = add_impulse_noise(color_image_original, p)\n",
    "    nmse_noisy = calculate_nmse(color_image_original, noisy_image)\n",
    "\n",
    "    # 2. Odszumianie standardowym filtrem medianowym\n",
    "    # Filtr median_filter z scipy działa na każdym kanale osobno\n",
    "    denoised_standard_median = median_filter(noisy_image, size=(3, 3, 1))\n",
    "    nmse_standard_median = calculate_nmse(color_image_original, denoised_standard_median)\n",
    "\n",
    "    # 3. Odszumianie zaimplementowanym VMF\n",
    "    denoised_vmf = vector_median_filter(noisy_image)\n",
    "    nmse_vmf = calculate_nmse(color_image_original, denoised_vmf)\n",
    "\n",
    "    results_summary.append((p, nmse_noisy, nmse_standard_median, nmse_vmf))\n",
    "\n",
    "header = f\"{'Wielkość szumu':<18} | {'NMSE (zaszum.)':<18} | {'NMSE (mediana std.)':<22} | {'NMSE (VMF)'}\"\n",
    "print(\"\\n\" + header)\n",
    "print(\"-\" * len(header))\n",
    "for p, nmse_n, nmse_sm, nmse_v in results_summary:\n",
    "    print(f\"{f'impulsowy {p}%':<18} | {nmse_n:<18.6f} | {nmse_sm:<22.6f} | {nmse_v:.6f}\")\n",
    "\n",
    "# Wizualizacja dla ostatniego poziomu szumu (np. 10%)\n",
    "last_noise_level = noise_levels[-1]\n",
    "final_noisy_image = add_impulse_noise(color_image_original, last_noise_level)\n",
    "final_denoised_median = median_filter(final_noisy_image, size=(3, 3, 1))\n",
    "final_denoised_vmf = vector_median_filter(final_noisy_image)\n",
    "\n",
    "fig, axes = plt.subplots(1, 4, figsize=(20, 5))\n",
    "axes[0].imshow(color_image_original)\n",
    "axes[0].set_title(\"Oryginał\")\n",
    "axes[0].axis('off')\n",
    "\n",
    "axes[1].imshow(final_noisy_image)\n",
    "axes[1].set_title(f\"Szum impulsowy {last_noise_level}%\")\n",
    "axes[1].axis('off')\n",
    "\n",
    "axes[2].imshow(final_denoised_median)\n",
    "axes[2].set_title(\"Odszum. (mediana std.)\")\n",
    "axes[2].axis('off')\n",
    "\n",
    "axes[3].imshow(final_denoised_vmf)\n",
    "axes[3].set_title(\"Odszum. (VMF)\")\n",
    "axes[3].axis('off')\n",
    "\n",
    "plt.tight_layout()\n",
    "plt.show()"
   ],
   "metadata": {
    "collapsed": false
   }
  },
  {
   "cell_type": "markdown",
   "source": [],
   "metadata": {
    "collapsed": false
   }
  }
 ],
 "metadata": {
  "kernelspec": {
   "name": "psio",
   "language": "python",
   "display_name": "Python (psio)"
  },
  "language_info": {
   "codemirror_mode": {
    "name": "ipython",
    "version": 2
   },
   "file_extension": ".py",
   "mimetype": "text/x-python",
   "name": "python",
   "nbconvert_exporter": "python",
   "pygments_lexer": "ipython2",
   "version": "2.7.6"
  }
 },
 "nbformat": 4,
 "nbformat_minor": 0
}
