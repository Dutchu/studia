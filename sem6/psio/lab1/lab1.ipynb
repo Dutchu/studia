{
 "cells": [
  {
   "cell_type": "code",
   "execution_count": null,
   "metadata": {},
   "outputs": [],
   "source": [
    "#conda installation\n",
    "#C:\\Users\\blasz\\miniconda3\\envs\n",
    "\n",
    "path=\"C:\\\\Users\\\\blasz\\\\work\\\\studia\\\\sem6\\\\psio\\\\lab1\\\\obrazy\\\\lena.png\"\n",
    "\n",
    "import numpy as np\n",
    "from PIL import Image, ImageDraw, ImageFilter, ImageFont\n",
    "from skimage import data\n",
    "from skimage import io\n",
    "from skimage.transform import rescale, resize\n",
    "from skimage.color import rgb2gray\n",
    "import matplotlib.pyplot as plt"
   ]
  },
  {
   "cell_type": "code",
   "execution_count": null,
   "metadata": {},
   "outputs": [],
   "source": [
    "# Korzystając z biblioteki numpy przygotuj dowolną macierz o wymiarach MxN.\n",
    "#\n",
    "# W Pythonie, korzystając z pętli w Pythonie i rozszerzonego operatora zakresu, przygotuj formuły dla:\n",
    "#\n",
    "# lustrzanego odbicia obrazu w poziomie\n",
    "# lustrzanego odbicia obrazu w pionie\n",
    "# obrotu obrazu o 90° w prawo oraz 90° w lewo\n",
    "# obrót obrazu o 180°\n",
    "# rozszerzenia macierzy do kwadratu MxM (jeżeli M>N) - kolumny po lewej i prawej stronie są wyzerowane\n",
    "# wycięcia z macierzy kwadratu NxN (jeżeli M>N) - wycinamy środkową część macierzy\n",
    "# Wyniki zaprezentuj na wybranej macierzy numpy o wymiarach 9x5 printując jej zawartość w arkuszu Jupyter"
   ]
  },
  {
   "cell_type": "code",
   "execution_count": null,
   "metadata": {},
   "outputs": [],
   "source": [
    "#ZAD1\n",
    "\n",
    "img = io.imread(\"C:\\\\Users\\\\blasz\\\\work\\\\studia\\\\sem6\\\\psio\\\\lab1\\\\obrazy\\\\lena.png\")\n",
    "img2 = io.imread(\"C:\\\\Users\\\\blasz\\\\work\\\\studia\\\\sem6\\\\psio\\\\stinkbug.png\")[:,:,:3]\n",
    "#obrazki mają kanały\n",
    "\n",
    "print(img.shape)\n",
    "img_gray=rgb2gray(img)\n",
    "\n",
    "fig, ax = plt.subplots(figsize=(5,5))\n",
    "ax.imshow(img,cmap='gray')\n",
    "plt.axis('off')\n",
    "plt.show()\n",
    "# background = Image.new(\"RGBA\", img.size, (0, 0, 0, 0))\n",
    "# mask = Image.new(\"RGBA\", img.size, 0)\n",
    "# draw = ImageDraw.Draw(mask)\n",
    "#\n",
    "# draw.regular_polygon((150, 150, 200), 5, rotation=360, fill='green', outline=None)\n",
    "#\n",
    "# new_img = Image.composite(img, background, mask)\n",
    "#\n",
    "# new_img.show()\n",
    "#\n",
    "# base_img = Image.new(\"RGBA\", (4000, 4000))\n",
    "# base_img.paste(new_img, (300, 300), new_img)\n"
   ]
  },
  {
   "cell_type": "code",
   "execution_count": null,
   "metadata": {},
   "outputs": [],
   "source": [
    "img0=io.imread(\"C:\\\\Users\\\\blasz\\\\work\\\\studia\\\\sem6\\\\psio\\\\lab1\\\\obrazy\\\\lena.png\")\n",
    "img=rgb2gray(img0)\n",
    "print(img.shape)\n",
    "\n",
    "fig, ax = plt.subplots(2,2,figsize=(10,5),constrained_layout=True)\n",
    "\n",
    "#Negatyw\n",
    "ax[0].imshow(img0, cmap='gray')\n",
    "ax[0].set_xticks([]); ax[1].set_yticks([])\n",
    "ax[0].imshow(img, cmap='gray')\n",
    "ax[0].set_xticks([]); ax[1].set_yticks([])\n",
    "\n",
    "#Zwykły\n",
    "ax[3].imshow(img0, cmap='gray')\n",
    "ax[3].set_xticks([]); ax[1].set_yticks([])\n",
    "ax[4].imshow(img, cmap='gray')\n",
    "ax[4].set_xticks([]); ax[1].set_yticks([])\n",
    "plt.show()\n",
    "\n",
    "#4 tablice na punkty\n",
    "# fuknkcja liniowa opisująca przekątną\n",
    "# punkty po wyżej przekątnej itp.\n",
    "\n",
    "#(512, 512) uint8 ndarray\n",
    "# photo = data.camera()\n",
    "#\n",
    "# a = np.histogram(photo, density=True)\n",
    "# plt.hist(a, bins='auto')\n",
    "# plt.show()"
   ]
  },
  {
   "cell_type": "code",
   "execution_count": null,
   "metadata": {},
   "outputs": [],
   "source": [
    "import cv2\n",
    "import numpy as np\n",
    "\n",
    "#Ciągnij strumien/obraz przez cv ale nie wyświetlaj\n",
    "img = cv2.imread(path)\n",
    "img = cv2.cvtColor(img, cv2.COLOR_BGR2RGB)\n",
    "plt.imshow(img)\n",
    "#Zamienia płaszczyzny\n",
    "#Open cv odczytuje obraz w innej kolejności\n",
    "\n",
    "plt.title('LENA')\n",
    "plt.show()\n",
    "\n",
    "# from collections import Counter\n",
    "#\n",
    "# photo = data.camera()\n",
    "# a = np.array(photo)\n",
    "# for i in a:\n",
    "#     c = Counter(i)\n",
    "#     keys = list(c.keys())\n",
    "#     keys.sort()\n",
    "#     print(keys)\n",
    "#     for j in c:\n",
    "#         cc = Counter(j)\n",
    "        # cc.\n",
    "# a = np.histogram(photo, density=True)\n",
    "# print(a)\n",
    "# counter = Counter(a)\n",
    "# print(counter)"
   ]
  },
  {
   "cell_type": "code",
   "execution_count": null,
   "metadata": {},
   "outputs": [],
   "source": [
    "# from skimage import exposure\n",
    "#\n",
    "# img = Image.open(\"C:\\\\Users\\\\blasz\\\\work\\\\studia\\\\sem6\\\\psio\\\\stinkbug.png\")\n",
    "# img_arr = np.array(img)\n",
    "#\n",
    "# new_img = exposure.rescale_intensity(img_arr)\n",
    "# f, (ax0, ax1) = plt.subplots(1, 2, figsize=(10, 5))\n",
    "#\n",
    "# ax1.imshow(img)\n",
    "# ax1.set_title('Old image', fontsize=18)\n",
    "# ax1.axis('off')\n",
    "#\n",
    "# ax0.imshow(new_img)\n",
    "# ax0.set_title('New image', fontsize=18)\n",
    "# ax0.axis('off')"
   ]
  },
  {
   "cell_type": "code",
   "execution_count": null,
   "metadata": {},
   "outputs": [],
   "source": [
    "# new_img = exposure.equalize_adapthist(img, kernel_size=None, clip_limit=0.01, nbins=256)\n",
    "#\n",
    "# f, (ax0, ax1) = plt.subplots(1, 2, figsize=(10, 5))\n",
    "#\n",
    "# ax1.imshow(img)\n",
    "# ax1.set_title('Old image', fontsize=18)\n",
    "# ax1.axis('off')\n",
    "#\n",
    "# ax0.imshow(new_img)\n",
    "# ax0.set_title('New image', fontsize=18)\n",
    "# ax0.axis('off')"
   ]
  },
  {
   "cell_type": "code",
   "execution_count": null,
   "metadata": {},
   "outputs": [],
   "source": [
    "#od a do b z krokiem c w każdym kanale (3 kanały)\n",
    "\n",
    "rot_img = np.rot90(img, k=1, axes=(0, 1))\n",
    "\n",
    "plt.imshow(rot_img)\n",
    "plt.show()\n",
    "\n"
   ]
  },
  {
   "cell_type": "code",
   "execution_count": null,
   "metadata": {},
   "outputs": [],
   "source": [
    "\n",
    "w = np.size(img.width)\n",
    "h = np.size(img.height)\n",
    "p=(w-h)/2\n",
    "kadr_obrazu = img[:,p,p+h,:]\n",
    "#w-h/2\n",
    "\n",
    "sliced = np.array([img[50:200],img[50:200]])\n",
    "\n",
    "plt.imshow(sliced)\n",
    "plt.show()\n",
    "\n"
   ]
  },
  {
   "cell_type": "code",
   "execution_count": null,
   "metadata": {},
   "outputs": [],
   "source": [
    "#lab1\n",
    "#zmiana saturacji\n",
    "#cięcie obrazu\n",
    "\n",
    "#lab2\n",
    "#tworzenie histogramu\n",
    "#rozciąganie histogramu\n",
    "#wyrównywanie histogramu"
   ]
  }
 ],
 "metadata": {
  "kernelspec": {
   "display_name": "Python 3",
   "language": "python",
   "name": "python3"
  },
  "language_info": {
   "codemirror_mode": {
    "name": "ipython",
    "version": 2
   },
   "file_extension": ".py",
   "mimetype": "text/x-python",
   "name": "python",
   "nbconvert_exporter": "python",
   "pygments_lexer": "ipython2",
   "version": "2.7.6"
  }
 },
 "nbformat": 4,
 "nbformat_minor": 0
}
