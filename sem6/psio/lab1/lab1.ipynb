{
 "cells": [
  {
   "cell_type": "markdown",
   "metadata": {
    "collapsed": false
   },
   "source": [
    "## ZADANIE 1\n",
    "### Korzystając z biblioteki numpy przygotuj dowolną macierz o wymiarach MxN.\n",
    "### W Pythonie, korzystając z pętli w Pythonie i rozszerzonego operatora zakresu, przygotuj formuły dla:\n",
    "\n",
    "- lustrzanego odbicia obrazu w poziomie\n",
    "- lustrzanego odbicia obrazu w pionie\n",
    "- obrotu obrazu o 90° w prawo oraz 90° w lewo\n",
    "- obrót obrazu o 180°\n",
    "- rozszerzenia macierzy do kwadratu MxM (jeżeli M>N) - kolumny po lewej i prawej stronie są wyzerowane\n",
    "- wycięcia z macierzy kwadratu NxN (jeżeli M>N) - wycinamy środkową część macierzy"
   ]
  },
  {
   "cell_type": "markdown",
   "metadata": {
    "collapsed": false
   },
   "source": [
    "Metoda pomocnicza do określenia poprawności kształtu macierzy"
   ]
  },
  {
   "cell_type": "code",
   "execution_count": null,
   "metadata": {
    "collapsed": false
   },
   "outputs": [],
   "source": [
    "def get_shape(matrix):\n",
    "    rows = len(matrix)\n",
    "    if not rows:\n",
    "        return (0, 0)\n",
    "    cols = len(matrix[0])\n",
    "    if not all(len(row) == cols for row in matrix):\n",
    "        raise ValueError(\"Rows must have consistent lengths to represent a matrix.\")\n",
    "    return (rows, cols)\n",
    "\n",
    "\n",
    "arr1 = [[1, 2, 3], [4, 5, 6], [7, 8, 9]]\n",
    "print(get_shape(arr1))"
   ]
  },
  {
   "cell_type": "markdown",
   "metadata": {
    "collapsed": false
   },
   "source": [
    "### 1.1 lustrzanego odbicia obrazu w poziomie\n",
    "\n",
    "#### 1.1.ver1 pętla"
   ]
  },
  {
   "cell_type": "code",
   "execution_count": null,
   "metadata": {
    "collapsed": false
   },
   "outputs": [],
   "source": [
    "def x_rfct_for(matrix):\n",
    "    rows_num, cols_num = get_shape(matrix)\n",
    "    x_reflection = [[0 for _ in range(cols_num)] for _ in range(rows_num)]\n",
    "    for r in range(rows_num):\n",
    "        for c in range(cols_num):\n",
    "            x_reflection[r][c] = matrix[rows_num - 1 - r][c]\n",
    "    return x_reflection"
   ]
  },
  {
   "cell_type": "markdown",
   "metadata": {
    "collapsed": false
   },
   "source": [
    "#### 1.1.ver2 rozszerzony operator zakresu"
   ]
  },
  {
   "cell_type": "code",
   "execution_count": null,
   "metadata": {
    "collapsed": false
   },
   "outputs": [],
   "source": [
    "def x_rfct_ext(matrix):\n",
    "    x_reflection = []\n",
    "    for row in reversed(matrix):\n",
    "        x_reflection.append(row)\n",
    "    return x_reflection"
   ]
  },
  {
   "cell_type": "markdown",
   "metadata": {
    "collapsed": false
   },
   "source": [
    "### 1.2 lustrzanego odbicia obrazu w pionie\n",
    "\n",
    "#### 1.2.ver1 pętla"
   ]
  },
  {
   "cell_type": "code",
   "execution_count": null,
   "metadata": {
    "collapsed": false
   },
   "outputs": [],
   "source": [
    "def y_rfct_for(matrix):\n",
    "    rows_num, cols_num = get_shape(matrix)\n",
    "    y_reflection = [[0 for _ in range(cols_num)] for _ in range(rows_num)]\n",
    "    for r in range(rows_num):\n",
    "        for c in range(cols_num):\n",
    "            y_reflection[r][c] = matrix[r][cols_num - 1 - c]\n",
    "    return y_reflection"
   ]
  },
  {
   "cell_type": "markdown",
   "metadata": {
    "collapsed": false
   },
   "source": [
    "#### 1.2.ver2 rozszerzony operator zakresu"
   ]
  },
  {
   "cell_type": "code",
   "execution_count": null,
   "metadata": {
    "collapsed": false
   },
   "outputs": [],
   "source": [
    "def y_rfct_ext(matrix):\n",
    "    y_reflection = []\n",
    "    for row in matrix:\n",
    "        y_reflection.append(list(reversed(row)))\n",
    "    return y_reflection"
   ]
  },
  {
   "cell_type": "markdown",
   "metadata": {
    "collapsed": false
   },
   "source": [
    "### 1.3.1 obrotu obrazu o 90° w prawo oraz 90° w lewo"
   ]
  },
  {
   "cell_type": "code",
   "execution_count": null,
   "metadata": {
    "collapsed": false
   },
   "outputs": [],
   "source": [
    "def rot90_l(matrix):\n",
    "    rows_num, cols_num = get_shape(matrix)\n",
    "    rotated = [[0 for _ in range(rows_num)] for _ in range(cols_num)]\n",
    "    for r in range(rows_num):\n",
    "        for c in range(cols_num):\n",
    "            rotated[cols_num - 1 - c][r] = matrix[r][c]\n",
    "    return rotated"
   ]
  },
  {
   "cell_type": "markdown",
   "metadata": {
    "collapsed": false
   },
   "source": [
    "### 1.3.2 obrotu obrazu o 90° w prawo oraz 90° w prawo"
   ]
  },
  {
   "cell_type": "code",
   "execution_count": null,
   "metadata": {
    "collapsed": false
   },
   "outputs": [],
   "source": [
    "def rot90_r(matrix):\n",
    "    rows_num, cols_num = get_shape(matrix)\n",
    "    rotated = [[0 for _ in range(rows_num)] for _ in range(cols_num)]\n",
    "    for r in range(rows_num):\n",
    "        reversed_row = rows_num - 1 - r\n",
    "        for c in range(cols_num):\n",
    "            rotated[c][reversed_row] = matrix[r][c]\n",
    "    return rotated"
   ]
  },
  {
   "cell_type": "markdown",
   "metadata": {
    "collapsed": false
   },
   "source": [
    "### 1.4 obrót obrazu o 180°"
   ]
  },
  {
   "cell_type": "code",
   "execution_count": null,
   "metadata": {
    "collapsed": false
   },
   "outputs": [],
   "source": [
    "def rot180(matrix):\n",
    "    rows_num, cols_num = get_shape(matrix)\n",
    "    rotated = [[0 for _ in range(cols_num)] for _ in range(rows_num)]\n",
    "    for r in range(rows_num):\n",
    "        reversed_row = rows_num - 1 - r\n",
    "        for c in range(cols_num):\n",
    "            rotated[reversed_row][c] = matrix[r][cols_num - 1 - c]\n",
    "    return rotated"
   ]
  },
  {
   "cell_type": "markdown",
   "metadata": {
    "collapsed": false
   },
   "source": [
    "### 1.5 rozszerzenia macierzy do kwadratu MxM (jeżeli M>N) - kolumny po lewej i prawej stronie są wyzerowane"
   ]
  },
  {
   "cell_type": "code",
   "execution_count": null,
   "metadata": {
    "collapsed": false
   },
   "outputs": [],
   "source": [
    "def square0(matrix):\n",
    "    rows = len(matrix)\n",
    "    if not rows:\n",
    "        return []\n",
    "    cols = len(matrix[0])\n",
    "    if not all(len(row) == cols for row in matrix):\n",
    "        print(\"Error: Ilość kolumn i wierszy musi być powtarzalna.\")\n",
    "        return None\n",
    "\n",
    "    if rows == cols:\n",
    "        return matrix\n",
    "    elif rows > cols:\n",
    "        padding_left = (rows - cols) // 2\n",
    "        padding_right = rows - cols - padding_left\n",
    "        extended_matrix = [\n",
    "            ([0] * padding_left) + row + ([0] * padding_right)\n",
    "            for row in matrix\n",
    "        ]\n",
    "        return extended_matrix\n",
    "    else:\n",
    "        print(\"Error: Liczba wierszy (M) musi być większa od liczby kolumn (N).\")\n",
    "        return None"
   ]
  },
  {
   "cell_type": "markdown",
   "metadata": {
    "collapsed": false
   },
   "source": [
    "### 1.6 wycięcia z macierzy kwadratu NxN (jeżeli M>N) - wycinamy środkową część macierzy"
   ]
  },
  {
   "cell_type": "code",
   "execution_count": null,
   "metadata": {
    "collapsed": false
   },
   "outputs": [],
   "source": [
    "def extract(matrix, target_size):\n",
    "    rows_num, cols_num = get_shape(matrix)\n",
    "\n",
    "    if target_size >= rows_num:\n",
    "        print(\"Error: Target size (M) must be smaller than the matrix size (N).\")\n",
    "        return None\n",
    "\n",
    "    start_row = (rows_num - target_size) // 2\n",
    "    start_col = (cols_num - target_size) // 2\n",
    "\n",
    "    middle_square = [\n",
    "        row[start_col: start_col + target_size]\n",
    "        for row in matrix[start_row: start_row + target_size]\n",
    "    ]\n",
    "\n",
    "    return middle_square"
   ]
  },
  {
   "cell_type": "markdown",
   "metadata": {
    "collapsed": false
   },
   "source": [
    "## Wyniki zaprezentuj na wybranej macierzy numpy o wymiarach 9x5 printując jej zawartość w arkuszu Jupyter"
   ]
  },
  {
   "cell_type": "code",
   "execution_count": null,
   "metadata": {
    "collapsed": false
   },
   "outputs": [],
   "source": [
    "matrix = [\n",
    "    [1, 2, 3, 4, 5],\n",
    "    [6, 7, 8, 9, 10],\n",
    "    [11, 12, 13, 14, 15],\n",
    "    [16, 17, 18, 19, 20],\n",
    "    [21, 22, 23, 24, 25],\n",
    "    [26, 27, 28, 29, 30],\n",
    "    [31, 32, 33, 34, 35],\n",
    "    [36, 37, 38, 39, 40],\n",
    "    [41, 42, 43, 44, 45]\n",
    "]\n",
    "m, n = get_shape(matrix)\n",
    "\n",
    "middle_3x3 = extract(matrix, 3)\n",
    "print(f\"Original Matrix {m}x{n}:\")\n",
    "for row in matrix:\n",
    "    print(row)\n",
    "\n",
    "print(f\"\\nlustrzanego odbicia obrazu w poziomie:\")\n",
    "for row in x_rfct_for(matrix):\n",
    "    print(row)\n",
    "\n",
    "print(f\"\\nlustrzanego odbicia obrazu w poziomie (rozszerzony operator zakresu):\")\n",
    "for row in x_rfct_ext(matrix):\n",
    "    print(row)\n",
    "\n",
    "print(f\"\\nlustrzanego odbicia obrazu w pionie:\")\n",
    "for row in y_rfct_for(matrix):\n",
    "    print(row)\n",
    "\n",
    "print(f\"\\nlustrzanego odbicia obrazu w pionie (rozszerzony operator zakresu):\")\n",
    "for row in y_rfct_for(matrix):\n",
    "    print(row)\n",
    "\n",
    "print(f\"\\nobrotu obrazu o 90° w lewo:\")\n",
    "for row in rot90_l(matrix):\n",
    "    print(row)\n",
    "\n",
    "print(f\"\\nobrotu obrazu o 90° w prawo:\")\n",
    "for row in rot90_r(matrix):\n",
    "    print(row)\n",
    "\n",
    "print(f\"\\nobrót obrazu o 180°:\")\n",
    "for row in rot180(matrix):\n",
    "    print(row)\n",
    "\n",
    "print(f\"\\nrozszerzenia macierzy do kwadratu MxM (jeżeli M>N) - kolumny po lewej i prawej stronie są wyzerowane:\")\n",
    "for row in square0(matrix):\n",
    "    print(row)\n",
    "\n",
    "z = 3\n",
    "print(f\"\\nwycięcia z macierzy kwadratu NxN (jeżeli M>N) - wycinamy środkową część macierzy dla kwadratu = {z}:\")\n",
    "for row in extract(matrix, z):\n",
    "    print(row)"
   ]
  },
  {
   "cell_type": "markdown",
   "metadata": {
    "collapsed": false
   },
   "source": [
    "## ZADANIE 2\n",
    "1. Wczytaj obraz LENA (do znalezienia w Sieci) i przekształć go do skali szarości.\n",
    "2. Przygotuj pusty obraz wynikowy, który będzie miał rozmiar 640x480 i wklej do niego obraz na środku\n",
    "\n",
    "Wykonaj na obrazie operacje z ćwiczenia 1 i zaprezentuj wyniki w postaci figur matplotlib w arkuszu Jupyter"
   ]
  },
  {
   "cell_type": "markdown",
   "metadata": {
    "collapsed": false
   },
   "source": [
    "### 2.1"
   ]
  },
  {
   "cell_type": "code",
   "execution_count": null,
   "metadata": {
    "collapsed": false
   },
   "outputs": [],
   "source": [
    "import matplotlib.pyplot as plt\n",
    "import numpy as np\n",
    "from skimage import io\n",
    "from skimage.color import rgb2gray\n",
    "\n",
    "lena_png = \"../resources/lena.png\"\n",
    "img = io.imread(lena_png)\n",
    "print(img.shape)\n",
    "lena_img = rgb2gray(img) if img.ndim == 3 else img"
   ]
  },
  {
   "cell_type": "markdown",
   "metadata": {
    "collapsed": false
   },
   "source": [
    "### 2.2"
   ]
  },
  {
   "cell_type": "code",
   "execution_count": null,
   "metadata": {
    "collapsed": false
   },
   "outputs": [],
   "source": [
    "col_size = 480\n",
    "row_size = 640\n",
    "lena_rows, lena_cols = get_shape(lena_img)\n",
    "result_img = np.full((row_size, col_size), 0, dtype=np.uint8)\n",
    "start_row = (row_size - lena_rows) // 2\n",
    "start_col = (col_size - lena_cols) // 2\n",
    "end_row = start_row + lena_rows\n",
    "end_col = start_col + lena_cols\n",
    "\n",
    "# Scale grayscale image to 0-255 and convert to uint8\n",
    "lena_img_scaled = (lena_img * 255).astype(np.uint8)\n",
    "lena_img_inverted = 255 - lena_img_scaled  # Invert the colors\n",
    "result_img[start_row:end_row, start_col:end_col] = lena_img_inverted\n",
    "\n",
    "fig, axes = plt.subplots(2, 4, figsize=(12, 8))\n",
    "axes = axes.flatten()\n",
    "\n",
    "# 1. Originał\n",
    "axes[0].imshow(result_img, cmap='gray')\n",
    "axes[0].set_title('Originał')\n",
    "axes[0].axis('off')\n",
    "\n",
    "# 1. Lustrzane odbicie obrazu w poziomie\n",
    "axes[1].imshow(x_rfct_ext(result_img), cmap='gray')\n",
    "axes[1].set_title('Przerzuć w poziomie')\n",
    "axes[1].axis('off')\n",
    "\n",
    "# 2. Lustrzane odbicie obrazu w pionie\n",
    "axes[2].imshow(y_rfct_for(result_img), cmap='gray')\n",
    "axes[2].set_title('Przerzuć w pionie')\n",
    "axes[2].axis('off')\n",
    "\n",
    "# 3. Obrót obrazu o 90° w prawo\n",
    "axes[3].imshow(rot90_r(result_img), cmap='gray')\n",
    "axes[3].set_title('Rotacja 90° prawo')\n",
    "axes[3].axis('off')\n",
    "\n",
    "# 4. Obrót obrazu o 90° w lewo\n",
    "axes[4].imshow(rot90_l(result_img), cmap='gray')\n",
    "axes[4].set_title('Rotacja 90° lewo')\n",
    "axes[4].axis('off')\n",
    "\n",
    "# 5. Obrót obrazu o 180°\n",
    "axes[5].imshow(rot180(result_img), cmap='gray')\n",
    "axes[5].set_title('Rotacja 180°')\n",
    "axes[5].axis('off')\n",
    "\n",
    "# 6. Rozszerzenia macierzy do kwadratu MxM (jeżeli M>N) - kolumny po lewej i prawej stronie są wyzerowane\n",
    "axes[6].imshow(square0(result_img.tolist()), cmap='gray')\n",
    "axes[6].set_title('Kwadrat')\n",
    "axes[6].axis('off')\n",
    "\n",
    "# 7. Wycięcie z macierzy kwadratu NxN (jeżeli M>N)\n",
    "axes[7].imshow(extract(result_img, 200), cmap='gray')\n",
    "axes[7].set_title('Wycięcie 200 px')\n",
    "axes[7].axis('off')\n",
    "\n",
    "plt.tight_layout()\n",
    "plt.show()"
   ]
  },
  {
   "cell_type": "markdown",
   "metadata": {
    "collapsed": false
   },
   "source": [
    "### 3. Puzzle – implementacja końcowa\n",
    "- Wczytuje barwny obraz prostokątny i kadruje do kwadratu (środek).\n",
    "- Koryguje bok tak, aby był podzielny przez `n`.\n",
    "- Dzieli na kafelki `n x n`, tasuje i składa w losową układankę."
   ]
  },
  {
   "cell_type": "code",
   "execution_count": null,
   "metadata": {},
   "outputs": [],
   "source": [
    "import numpy as np\n",
    "import matplotlib.pyplot as plt\n",
    "from skimage import io\n",
    "\n",
    "# Wczytaj obraz barwny (RGB)\n",
    "puzzle_path = '../resources/obraz_1.jpeg'\n",
    "orig = io.imread(puzzle_path)[:, :, :3]\n",
    "H, W = orig.shape[:2]\n",
    "\n",
    "# Kadrowanie do kwadratu względem krótszego boku (centrowanie)\n",
    "side = min(H, W)\n",
    "top = (H - side) // 2\n",
    "left = (W - side) // 2\n",
    "square = orig[top:top + side, left:left + side]\n",
    "\n",
    "# Liczba podziałów na bok (użytkownik może zmienić)\n",
    "n = 3\n",
    "\n",
    "# Korekta boku tak, aby był podzielny przez n\n",
    "adj_side = side - (side % n)\n",
    "trim = (side - adj_side) // 2\n",
    "if trim > 0:\n",
    "    square = square[trim:trim + adj_side, trim:trim + adj_side]\n",
    "\n",
    "tile = square.shape[0] // n  # rozmiar kafelka\n",
    "\n",
    "# Wytnij kafelki\n",
    "tiles = []\n",
    "for i in range(n):\n",
    "    for j in range(n):\n",
    "        tiles.append(square[i*tile:(i+1)*tile, j*tile:(j+1)*tile].copy())\n",
    "\n",
    "# Przetasuj kafelki\n",
    "perm = np.random.permutation(len(tiles))\n",
    "shuffled = [tiles[k] for k in perm]\n",
    "\n",
    "# Złóż obraz\n",
    "puzzled = np.zeros_like(square)\n",
    "k = 0\n",
    "for i in range(n):\n",
    "    for j in range(n):\n",
    "        puzzled[i*tile:(i+1)*tile, j*tile:(j+1)*tile] = shuffled[k]\n",
    "        k += 1\n",
    "\n",
    "# Prezentacja\n",
    "fig, axes = plt.subplots(1, 2, figsize=(8, 4))\n",
    "axes[0].imshow(square)\n",
    "axes[0].set_title(f'Kwadrat źródłowy (podział {n}x{n})')\n",
    "axes[0].axis('off')\n",
    "axes[1].imshow(puzzled)\n",
    "axes[1].set_title('Puzzle (przetasowane)')\n",
    "axes[1].axis('off')\n",
    "plt.tight_layout()\n",
    "plt.show()"
   ]
  },
  {
   "cell_type": "markdown",
   "metadata": {
    "collapsed": false
   },
   "source": [
    "### 4. Trójkąty (4 części) – losowe przestawienie\n",
    "Dzielimy obraz na cztery trójkąty za pomocą dwóch przekątnych (TL→BR i TR→BL).\n",
    "Aby trójkąty były przystające, najpierw kadrujemy obraz do kwadratu (jak w zad. 3),\n",
    "a następnie losowo zamieniamy miejscami te cztery trójkąty."
   ]
  },
  {
   "cell_type": "code",
   "execution_count": null,
   "metadata": {},
   "outputs": [],
   "source": [
    "import numpy as np\n",
    "import matplotlib.pyplot as plt\n",
    "from skimage import io\n",
    "\n",
    "# Wczytaj obraz i przytnij do kwadratu (jak w zad. 3)\n",
    "path = '../resources/obraz_1.jpeg'\n",
    "img = io.imread(path)[:, :, :3]\n",
    "H, W = img.shape[:2]\n",
    "S = min(H, W)\n",
    "r0 = (H - S) // 2; c0 = (W - S) // 2\n",
    "sq = img[r0:r0+S, c0:c0+S]\n",
    "\n",
    "# Maska czterech trójkątów wyznaczonych dwiema przekątnymi\n",
    "yy = (np.arange(S)[:, None] + 0.5) / S\n",
    "xx = (np.arange(S)[None, :] + 0.5) / S\n",
    "mask_top    = (yy < xx) & (yy < 1 - xx)\n",
    "mask_right  = (xx > yy) & (xx > 1 - yy)\n",
    "mask_bottom = (yy > xx) & (yy > 1 - xx)\n",
    "mask_left   = (xx < yy) & (xx < 1 - yy)\n",
    "masks = [mask_top, mask_right, mask_bottom, mask_left]\n",
    "\n",
    "# Wytnij cztery trójkąty jako osobne obrazy\n",
    "pieces = []\n",
    "for m in masks:\n",
    "    p = np.zeros_like(sq)\n",
    "    p[m] = sq[m]\n",
    "    pieces.append(p)\n",
    "\n",
    "# Losowa permutacja (który trójkąt trafia w które miejsce)\n",
    "perm = np.random.permutation(4)  # indeks docelowy -> źródło\n",
    "out = np.zeros_like(sq)\n",
    "for t in range(4):\n",
    "    s = perm[t]\n",
    "    k = (t - s) % 4  # rotacja potrzebna do dopasowania orientacji\n",
    "    moved = np.rot90(pieces[s], k=k)\n",
    "    out[masks[t]] = moved[masks[t]]\n",
    "\n",
    "# Prezentacja\n",
    "fig, axes = plt.subplots(1, 2, figsize=(8, 4))\n",
    "axes[0].imshow(sq)\n",
    "axes[0].set_title('Obraz przycięty do kwadratu')\n",
    "axes[0].axis('off')\n",
    "axes[1].imshow(out)\n",
    "axes[1].set_title('4 trójkąty – przetasowane')\n",
    "axes[1].axis('off')\n",
    "plt.tight_layout()\n",
    "plt.show()"
   ]
  }
 ],
 "metadata": {
  "kernelspec": {
   "display_name": "psioz",
   "language": "python",
   "name": "python3"
  },
  "language_info": {
   "codemirror_mode": {
    "name": "ipython",
    "version": 3
   },
   "file_extension": ".py",
   "mimetype": "text/x-python",
   "name": "python",
   "nbconvert_exporter": "python",
   "pygments_lexer": "ipython3",
   "version": "3.11.3"
  }
 },
 "nbformat": 4,
 "nbformat_minor": 0
}
