{
 "cells": [
  {
   "cell_type": "markdown",
   "source": [
    "## ZADANIE 1\n",
    "### Korzystając z biblioteki numpy przygotuj dowolną macierz o wymiarach MxN.\n",
    "### W Pythonie, korzystając z pętli w Pythonie i rozszerzonego operatora zakresu, przygotuj formuły dla:\n",
    "\n",
    "- lustrzanego odbicia obrazu w poziomie\n",
    "- lustrzanego odbicia obrazu w pionie\n",
    "- obrotu obrazu o 90° w prawo oraz 90° w lewo\n",
    "- obrót obrazu o 180°\n",
    "- rozszerzenia macierzy do kwadratu MxM (jeżeli M>N) - kolumny po lewej i prawej stronie są wyzerowane\n",
    "- wycięcia z macierzy kwadratu NxN (jeżeli M>N) - wycinamy środkową część macierzy"
   ],
   "metadata": {
    "collapsed": false
   }
  },
  {
   "cell_type": "markdown",
   "source": [
    "Metoda pomocnicza do określenia poprawności kształtu macierzy"
   ],
   "metadata": {
    "collapsed": false
   }
  },
  {
   "cell_type": "code",
   "execution_count": null,
   "outputs": [],
   "source": [
    "def get_shape(matrix):\n",
    "    rows = len(matrix)\n",
    "    if not rows:\n",
    "        return (0, 0)\n",
    "    cols = len(matrix[0])\n",
    "    if not all(len(row) == cols for row in matrix):\n",
    "        raise ValueError(\"Rows must have consistent lengths to represent a matrix.\")\n",
    "    return (rows, cols)\n",
    "\n",
    "\n",
    "arr1 = [[1, 2, 3], [4, 5, 6], [7, 8, 9]]\n",
    "print(get_shape(arr1))"
   ],
   "metadata": {
    "collapsed": false
   }
  },
  {
   "cell_type": "markdown",
   "source": [
    "### 1.1 lustrzanego odbicia obrazu w poziomie\n",
    "\n",
    "#### 1.1.ver1 pętla"
   ],
   "metadata": {
    "collapsed": false
   }
  },
  {
   "cell_type": "code",
   "execution_count": null,
   "outputs": [],
   "source": [
    "def x_rfct_for(matrix):\n",
    "    rows_num, cols_num = get_shape(matrix)\n",
    "    x_reflection = [[0 for _ in range(cols_num)] for _ in range(rows_num)]\n",
    "    for r in range(rows_num):\n",
    "        for c in range(cols_num):\n",
    "            x_reflection[r][c] = matrix[rows_num - 1 - r][c]\n",
    "    return x_reflection"
   ],
   "metadata": {
    "collapsed": false
   }
  },
  {
   "cell_type": "markdown",
   "source": [
    "#### 1.1.ver2 rozszerzony operator zakresu"
   ],
   "metadata": {
    "collapsed": false
   }
  },
  {
   "cell_type": "code",
   "execution_count": null,
   "outputs": [],
   "source": [
    "def x_rfct_ext(matrix):\n",
    "    x_reflection = []\n",
    "    for row in reversed(matrix):\n",
    "        x_reflection.append(row)\n",
    "    return x_reflection"
   ],
   "metadata": {
    "collapsed": false
   }
  },
  {
   "cell_type": "markdown",
   "source": [
    "### 1.2 lustrzanego odbicia obrazu w pionie\n",
    "\n",
    "#### 1.2.ver1 pętla"
   ],
   "metadata": {
    "collapsed": false
   }
  },
  {
   "cell_type": "code",
   "execution_count": null,
   "outputs": [],
   "source": [
    "def y_rfct_for(matrix):\n",
    "    rows_num, cols_num = get_shape(matrix)\n",
    "    y_reflection = [[0 for _ in range(cols_num)] for _ in range(rows_num)]\n",
    "    for r in range(rows_num):\n",
    "        for c in range(cols_num):\n",
    "            y_reflection[r][c] = matrix[r][cols_num - 1 - c]\n",
    "    return y_reflection"
   ],
   "metadata": {
    "collapsed": false
   }
  },
  {
   "cell_type": "markdown",
   "source": [
    "#### 1.2.ver2 rozszerzony operator zakresu"
   ],
   "metadata": {
    "collapsed": false
   }
  },
  {
   "cell_type": "code",
   "execution_count": null,
   "outputs": [],
   "source": [
    "def y_rfct_ext(matrix):\n",
    "    y_reflection = []\n",
    "    for row in matrix:\n",
    "        y_reflection.append(list(reversed(row)))\n",
    "    return y_reflection"
   ],
   "metadata": {
    "collapsed": false
   }
  },
  {
   "cell_type": "markdown",
   "source": [
    "### 1.3.1 obrotu obrazu o 90° w prawo oraz 90° w lewo"
   ],
   "metadata": {
    "collapsed": false
   }
  },
  {
   "cell_type": "code",
   "execution_count": null,
   "outputs": [],
   "source": [
    "def rot90_l(matrix):\n",
    "    rows_num, cols_num = get_shape(matrix)\n",
    "    rotated = [[0 for _ in range(rows_num)] for _ in range(cols_num)]\n",
    "    for r in range(rows_num):\n",
    "        for c in range(cols_num):\n",
    "            rotated[cols_num - 1 - c][r] = matrix[r][c]\n",
    "    return rotated"
   ],
   "metadata": {
    "collapsed": false
   }
  },
  {
   "cell_type": "markdown",
   "source": [
    "### 1.3.2 obrotu obrazu o 90° w prawo oraz 90° w prawo"
   ],
   "metadata": {
    "collapsed": false
   }
  },
  {
   "cell_type": "code",
   "execution_count": null,
   "outputs": [],
   "source": [
    "def rot90_r(matrix):\n",
    "    rows_num, cols_num = get_shape(matrix)\n",
    "    rotated = [[0 for _ in range(rows_num)] for _ in range(cols_num)]\n",
    "    for r in range(rows_num):\n",
    "        reversed_row = rows_num - 1 - r\n",
    "        for c in range(cols_num):\n",
    "            rotated[c][reversed_row] = matrix[r][c]\n",
    "    return rotated"
   ],
   "metadata": {
    "collapsed": false
   }
  },
  {
   "cell_type": "markdown",
   "source": [
    "### 1.4 obrót obrazu o 180°"
   ],
   "metadata": {
    "collapsed": false
   }
  },
  {
   "cell_type": "code",
   "execution_count": null,
   "outputs": [],
   "source": [
    "def rot180(matrix):\n",
    "    rows_num, cols_num = get_shape(matrix)\n",
    "    rotated = [[0 for _ in range(cols_num)] for _ in range(rows_num)]\n",
    "    for r in range(rows_num):\n",
    "        reversed_row = rows_num - 1 - r\n",
    "        for c in range(cols_num):\n",
    "            rotated[reversed_row][c] = matrix[r][cols_num - 1 - c]\n",
    "    return rotated"
   ],
   "metadata": {
    "collapsed": false
   }
  },
  {
   "cell_type": "markdown",
   "source": [
    "### 1.5 rozszerzenia macierzy do kwadratu MxM (jeżeli M>N) - kolumny po lewej i prawej stronie są wyzerowane"
   ],
   "metadata": {
    "collapsed": false
   }
  },
  {
   "cell_type": "code",
   "execution_count": null,
   "outputs": [],
   "source": [
    "def square0(matrix):\n",
    "    rows = len(matrix)\n",
    "    if not rows:\n",
    "        return []\n",
    "    cols = len(matrix[0])\n",
    "    if not all(len(row) == cols for row in matrix):\n",
    "        print(\"Error: Ilość kolumn i wierszy musi być powtarzalna.\")\n",
    "        return None\n",
    "\n",
    "    if rows == cols:\n",
    "        return matrix\n",
    "    elif rows > cols:\n",
    "        padding_left = (rows - cols) // 2\n",
    "        padding_right = rows - cols - padding_left\n",
    "        extended_matrix = [\n",
    "            ([0] * padding_left) + row + ([0] * padding_right)\n",
    "            for row in matrix\n",
    "        ]\n",
    "        return extended_matrix\n",
    "    else:\n",
    "        print(\"Error: Liczba wierszy (M) musi być większa od liczby kolumn (N).\")\n",
    "        return None"
   ],
   "metadata": {
    "collapsed": false
   }
  },
  {
   "cell_type": "markdown",
   "source": [
    "### 1.6 wycięcia z macierzy kwadratu NxN (jeżeli M>N) - wycinamy środkową część macierzy"
   ],
   "metadata": {
    "collapsed": false
   }
  },
  {
   "cell_type": "code",
   "execution_count": null,
   "outputs": [],
   "source": [
    "def extract(matrix, target_size):\n",
    "    rows_num, cols_num = get_shape(matrix)\n",
    "\n",
    "    if target_size >= rows_num:\n",
    "        print(\"Error: Target size (M) must be smaller than the matrix size (N).\")\n",
    "        return None\n",
    "\n",
    "    start_row = (rows_num - target_size) // 2\n",
    "    start_col = (cols_num - target_size) // 2\n",
    "\n",
    "    middle_square = [\n",
    "        row[start_col: start_col + target_size]\n",
    "        for row in matrix[start_row: start_row + target_size]\n",
    "    ]\n",
    "\n",
    "    return middle_square"
   ],
   "metadata": {
    "collapsed": false
   }
  },
  {
   "cell_type": "markdown",
   "source": [
    "## Wyniki zaprezentuj na wybranej macierzy numpy o wymiarach 9x5 printując jej zawartość w arkuszu Jupyter"
   ],
   "metadata": {
    "collapsed": false
   }
  },
  {
   "cell_type": "code",
   "execution_count": null,
   "outputs": [],
   "source": [
    "matrix = [\n",
    "    [1, 2, 3, 4, 5],\n",
    "    [6, 7, 8, 9, 10],\n",
    "    [11, 12, 13, 14, 15],\n",
    "    [16, 17, 18, 19, 20],\n",
    "    [21, 22, 23, 24, 25],\n",
    "    [26, 27, 28, 29, 30],\n",
    "    [31, 32, 33, 34, 35],\n",
    "    [36, 37, 38, 39, 40],\n",
    "    [41, 42, 43, 44, 45]\n",
    "]\n",
    "m, n = get_shape(matrix)\n",
    "\n",
    "middle_3x3 = extract(matrix, 3)\n",
    "print(f\"Original Matrix {m}x{n}:\")\n",
    "for row in matrix:\n",
    "    print(row)\n",
    "\n",
    "print(f\"\\nlustrzanego odbicia obrazu w poziomie:\")\n",
    "for row in x_rfct_for(matrix):\n",
    "    print(row)\n",
    "\n",
    "print(f\"\\nlustrzanego odbicia obrazu w poziomie (rozszerzony operator zakresu):\")\n",
    "for row in x_rfct_ext(matrix):\n",
    "    print(row)\n",
    "\n",
    "print(f\"\\nlustrzanego odbicia obrazu w pionie:\")\n",
    "for row in y_rfct_for(matrix):\n",
    "    print(row)\n",
    "\n",
    "print(f\"\\nlustrzanego odbicia obrazu w pionie (rozszerzony operator zakresu):\")\n",
    "for row in y_rfct_for(matrix):\n",
    "    print(row)\n",
    "\n",
    "print(f\"\\nobrotu obrazu o 90° w lewo:\")\n",
    "for row in rot90_l(matrix):\n",
    "    print(row)\n",
    "\n",
    "print(f\"\\nobrotu obrazu o 90° w prawo:\")\n",
    "for row in rot90_r(matrix):\n",
    "    print(row)\n",
    "\n",
    "print(f\"\\nobrót obrazu o 180°:\")\n",
    "for row in rot180(matrix):\n",
    "    print(row)\n",
    "\n",
    "print(f\"\\nrozszerzenia macierzy do kwadratu MxM (jeżeli M>N) - kolumny po lewej i prawej stronie są wyzerowane:\")\n",
    "for row in square0(matrix):\n",
    "    print(row)\n",
    "\n",
    "z = 3\n",
    "print(f\"\\nwycięcia z macierzy kwadratu NxN (jeżeli M>N) - wycinamy środkową część macierzy dla kwadratu = {z}:\")\n",
    "for row in extract(matrix, z):\n",
    "    print(row)"
   ],
   "metadata": {
    "collapsed": false
   }
  },
  {
   "cell_type": "markdown",
   "source": [
    "## ZADANIE 2\n",
    "1. Wczytaj obraz LENA (do znalezienia w Sieci) i przekształć go do skali szarości.\n",
    "2. Przygotuj pusty obraz wynikowy, który będzie miał rozmiar 640x480 i wklej do niego obraz na środku\n",
    "\n",
    "Wykonaj na obrazie operacje z ćwiczenia 1 i zaprezentuj wyniki w postaci figur matplotlib w arkuszu Jupyter"
   ],
   "metadata": {
    "collapsed": false
   }
  },
  {
   "cell_type": "markdown",
   "source": [
    "### 2.1"
   ],
   "metadata": {
    "collapsed": false
   }
  },
  {
   "cell_type": "code",
   "execution_count": null,
   "outputs": [],
   "source": [
    "import matplotlib.pyplot as plt\n",
    "import numpy as np\n",
    "from skimage import io\n",
    "from skimage.color import rgb2gray\n",
    "\n",
    "lena_png = \"../resources/lena.png\"\n",
    "img = io.imread(lena_png)\n",
    "print(img.shape)\n",
    "lena_img = rgb2gray(img) if img.ndim == 3 else img"
   ],
   "metadata": {
    "collapsed": false
   }
  },
  {
   "cell_type": "markdown",
   "source": [
    "### 2.2"
   ],
   "metadata": {
    "collapsed": false
   }
  },
  {
   "cell_type": "code",
   "execution_count": null,
   "outputs": [],
   "source": [
    "col_size = 480\n",
    "row_size = 640\n",
    "lena_rows, lena_cols = get_shape(lena_img)\n",
    "result_img = np.full((row_size, col_size), 0, dtype=np.uint8)\n",
    "start_row = (row_size - lena_rows) // 2\n",
    "start_col = (col_size - lena_cols) // 2\n",
    "end_row = start_row + lena_rows\n",
    "end_col = start_col + lena_cols\n",
    "\n",
    "# Scale grayscale image to 0-255 and convert to uint8\n",
    "lena_img_scaled = (lena_img * 255).astype(np.uint8)\n",
    "lena_img_inverted = 255 - lena_img_scaled  # Invert the colors\n",
    "result_img[start_row:end_row, start_col:end_col] = lena_img_inverted\n",
    "\n",
    "fig, axes = plt.subplots(2, 4, figsize=(12, 8))\n",
    "axes = axes.flatten()\n",
    "\n",
    "# 1. Originał\n",
    "axes[0].imshow(result_img, cmap='gray')\n",
    "axes[0].set_title('Originał')\n",
    "axes[0].axis('off')\n",
    "\n",
    "# 1. Lustrzane odbicie obrazu w poziomie\n",
    "axes[1].imshow(x_rfct_ext(result_img), cmap='gray')\n",
    "axes[1].set_title('Przerzuć w poziomie')\n",
    "axes[1].axis('off')\n",
    "\n",
    "# 2. Lustrzane odbicie obrazu w pionie\n",
    "axes[2].imshow(y_rfct_for(result_img), cmap='gray')\n",
    "axes[2].set_title('Przerzuć w pionie')\n",
    "axes[2].axis('off')\n",
    "\n",
    "# 3. Obrót obrazu o 90° w prawo\n",
    "axes[3].imshow(rot90_r(result_img), cmap='gray')\n",
    "axes[3].set_title('Rotacja 90° prawo')\n",
    "axes[3].axis('off')\n",
    "\n",
    "# 4. Obrót obrazu o 90° w lewo\n",
    "axes[4].imshow(rot90_l(result_img), cmap='gray')\n",
    "axes[4].set_title('Rotacja 90° lewo')\n",
    "axes[4].axis('off')\n",
    "\n",
    "# 5. Obrót obrazu o 180°\n",
    "axes[5].imshow(rot180(result_img), cmap='gray')\n",
    "axes[5].set_title('Rotacja 180°')\n",
    "axes[5].axis('off')\n",
    "\n",
    "# 6. Rozszerzenia macierzy do kwadratu MxM (jeżeli M>N) - kolumny po lewej i prawej stronie są wyzerowane\n",
    "axes[6].imshow(square0(result_img.tolist()), cmap='gray')\n",
    "axes[6].set_title('Kwadrat')\n",
    "axes[6].axis('off')\n",
    "\n",
    "# 7. Wycięcie z macierzy kwadratu NxN (jeżeli M>N)\n",
    "axes[7].imshow(extract(result_img, 200), cmap='gray')\n",
    "axes[7].set_title('Wycięcie 200 px')\n",
    "axes[7].axis('off')\n",
    "\n",
    "plt.tight_layout()\n",
    "plt.show()"
   ],
   "metadata": {
    "collapsed": false
   }
  },
  {
   "cell_type": "markdown",
   "source": [
    "## ZADANIE 3 PUZZLE\n",
    "Pobierz obraz z pliku (dowolny barwny, format prostokątny, nie kwadratowy) i wykadruj do kwadratu (długość boku taka, jak krótszy z boków)"
   ],
   "metadata": {
    "collapsed": false
   }
  },
  {
   "cell_type": "code",
   "execution_count": null,
   "outputs": [],
   "source": [
    "dog_img = io.imread(\"../resources/obraz_1.jpeg\")[:, :, :3]\n",
    "\n",
    "if dog_img.shape[0] > dog_img.shape[1]:\n",
    "    short_side = dog_img.shape[1]\n",
    "    start_row = (dog_img.shape[0] - short_side) // 2\n",
    "    start_col = dog_img.shape[1] - short_side\n",
    "else:\n",
    "    short_side = dog_img.shape[0]\n",
    "    start_row = dog_img.shape[0] - short_side\n",
    "    start_col = (dog_img.shape[1] - short_side) // 2\n",
    "\n",
    "end_row = start_row + short_side\n",
    "end_col = start_col + short_side\n",
    "\n",
    "# print(f\"shape: {dog_img.shape}\")\n",
    "# print(\n",
    "#     f\" start_row: {start_row}, start_col: {start_col}, end_row: {end_row}, end_col: {end_col}, short_side: {short_side}\")\n",
    "dog_img = dog_img[start_row:end_row, start_col:end_col]\n",
    "\n",
    "\n",
    "fig, ax = plt.subplots(figsize=(5, 5))\n",
    "ax.imshow(dog_img, cmap='gray')\n",
    "plt.axis('off')\n",
    "plt.show()\n",
    "# background = Image.new(\"RGBA\", img.size, (0, 0, 0, 0))\n",
    "# mask = Image.new(\"RGBA\", img.size, 0)\n",
    "# draw = ImageDraw.Draw(mask)\n",
    "#\n",
    "# draw.regular_polygon((150, 150, 200), 5, rotation=360, fill='green', outline=None)\n",
    "#\n",
    "# new_img = Image.composite(img, background, mask)\n",
    "#\n",
    "# new_img.show()\n",
    "#\n",
    "# base_img = Image.new(\"RGBA\", (4000, 4000))\n",
    "# base_img.paste(new_img, (300, 300), new_img)\n"
   ],
   "metadata": {
    "collapsed": false
   }
  },
  {
   "cell_type": "code",
   "execution_count": null,
   "metadata": {},
   "outputs": [],
   "source": [
    "img0 = io.imread(lena_png)\n",
    "img = rgb2gray(img0)\n",
    "print(img.shape)\n",
    "\n",
    "fig, ax = plt.subplots(2, 2, figsize=(10, 5), constrained_layout=True)\n",
    "\n",
    "#Negatyw\n",
    "ax[0].imshow(img0, cmap='gray')\n",
    "ax[0].set_xticks([]);\n",
    "ax[1].set_yticks([])\n",
    "ax[0].imshow(img, cmap='gray')\n",
    "ax[0].set_xticks([]);\n",
    "ax[1].set_yticks([])\n",
    "\n",
    "#Zwykły\n",
    "ax[3].imshow(img0, cmap='gray')\n",
    "ax[3].set_xticks([]);\n",
    "ax[1].set_yticks([])\n",
    "ax[4].imshow(img, cmap='gray')\n",
    "ax[4].set_xticks([]);\n",
    "ax[1].set_yticks([])\n",
    "plt.show()\n",
    "\n",
    "#4 tablice na punkty\n",
    "# fuknkcja liniowa opisująca przekątną\n",
    "# punkty po wyżej przekątnej itp.\n",
    "\n",
    "#(512, 512) uint8 ndarray\n",
    "# photo = data.camera()\n",
    "#\n",
    "# a = np.histogram(photo, density=True)\n",
    "# plt.hist(a, bins='auto')\n",
    "# plt.show()"
   ]
  },
  {
   "cell_type": "code",
   "execution_count": null,
   "metadata": {},
   "outputs": [],
   "source": [
    "\n",
    "import numpy as np\n",
    "\n",
    "#Ciągnij strumien/obraz przez cv ale nie wyświetlaj\n",
    "# img = cv2.imread(path)\n",
    "# img = cv2.cvtColor(img, cv2.COLOR_BGR2RGB)\n",
    "# plt.imshow(img)\n",
    "#Zamienia płaszczyzny\n",
    "#Open cv odczytuje obraz w innej kolejności\n",
    "\n",
    "# plt.title('LENA')\n",
    "# plt.show()\n",
    "\n",
    "# from collections import Counter\n",
    "#\n",
    "# photo = data.camera()\n",
    "# a = np.array(photo)\n",
    "# for i in a:\n",
    "#     c = Counter(i)\n",
    "#     keys = list(c.keys())\n",
    "#     keys.sort()\n",
    "#     print(keys)\n",
    "#     for j in c:\n",
    "#         cc = Counter(j)\n",
    "# cc.\n",
    "# a = np.histogram(photo, density=True)\n",
    "# print(a)\n",
    "# counter = Counter(a)\n",
    "# print(counter)"
   ]
  },
  {
   "cell_type": "code",
   "execution_count": null,
   "metadata": {},
   "outputs": [],
   "source": [
    "# from skimage import exposure\n",
    "#\n",
    "# img = Image.open(\"C:\\\\Users\\\\blasz\\\\work\\\\studia\\\\sem6\\\\psio\\\\stinkbug.png\")\n",
    "# img_arr = np.array(img)\n",
    "#\n",
    "# new_img = exposure.rescale_intensity(img_arr)\n",
    "# f, (ax0, ax1) = plt.subplots(1, 2, figsize=(10, 5))\n",
    "#\n",
    "# ax1.imshow(img)\n",
    "# ax1.set_title('Old image', fontsize=18)\n",
    "# ax1.axis('off')\n",
    "#\n",
    "# ax0.imshow(new_img)\n",
    "# ax0.set_title('New image', fontsize=18)\n",
    "# ax0.axis('off')"
   ]
  },
  {
   "cell_type": "code",
   "execution_count": null,
   "metadata": {},
   "outputs": [],
   "source": [
    "# new_img = exposure.equalize_adapthist(img, kernel_size=None, clip_limit=0.01, nbins=256)\n",
    "#\n",
    "# f, (ax0, ax1) = plt.subplots(1, 2, figsize=(10, 5))\n",
    "#\n",
    "# ax1.imshow(img)\n",
    "# ax1.set_title('Old image', fontsize=18)\n",
    "# ax1.axis('off')\n",
    "#\n",
    "# ax0.imshow(new_img)\n",
    "# ax0.set_title('New image', fontsize=18)\n",
    "# ax0.axis('off')"
   ]
  },
  {
   "cell_type": "code",
   "execution_count": null,
   "metadata": {},
   "outputs": [],
   "source": [
    "#od a do b z krokiem c w każdym kanale (3 kanały)\n",
    "\n",
    "rot_img = np.rot90(img, k=1, axes=(0, 1))\n",
    "\n",
    "plt.imshow(rot_img)\n",
    "plt.show()\n",
    "\n"
   ]
  },
  {
   "cell_type": "code",
   "execution_count": null,
   "metadata": {},
   "outputs": [],
   "source": [
    "\n",
    "w = np.size(img.width)\n",
    "h = np.size(img.height)\n",
    "p = (w - h) / 2\n",
    "kadr_obrazu = img[:, p, p + h, :]\n",
    "#w-h/2\n",
    "\n",
    "sliced = np.array([img[50:200], img[50:200]])\n",
    "\n",
    "plt.imshow(sliced)\n",
    "plt.show()\n",
    "\n"
   ]
  },
  {
   "cell_type": "code",
   "execution_count": null,
   "metadata": {},
   "outputs": [],
   "source": [
    "#lab1\n",
    "#zmiana saturacji\n",
    "#cięcie obrazu\n",
    "\n",
    "#lab2\n",
    "#tworzenie histogramu\n",
    "#rozciąganie histogramu\n",
    "#wyrównywanie histogramu"
   ]
  }
 ],
 "metadata": {
  "kernelspec": {
   "name": "psio",
   "language": "python",
   "display_name": "Python (psio)"
  },
  "language_info": {
   "codemirror_mode": {
    "name": "ipython",
    "version": 2
   },
   "file_extension": ".py",
   "mimetype": "text/x-python",
   "name": "python",
   "nbconvert_exporter": "python",
   "pygments_lexer": "ipython2",
   "version": "2.7.6"
  }
 },
 "nbformat": 4,
 "nbformat_minor": 0
}
