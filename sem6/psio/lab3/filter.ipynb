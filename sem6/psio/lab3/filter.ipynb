{
 "cells": [
  {
   "cell_type": "code",
   "execution_count": null,
   "metadata": {},
   "outputs": [],
   "source": [
    "from skimage.filters import threshold_otsu as th_otsu\n",
    "from skimage.filters import try_all_threshold\n",
    "from skimage.filters import threshold_yen as th_yen\n",
    "import skimage as ski\n",
    "import numpy as np\n",
    "import matplotlib.pyplot as plt\n",
    "import os\n",
    "filename = os.path.join(os.getcwd(), 'brain_tumor.bmp')\n",
    "gears_path = os.path.join(os.getcwd(), 'gears1.png')\n",
    "text_path = os.path.join(os.getcwd(), 'printed_text.png')\n",
    "from skimage import io\n",
    "img = io.imread(filename)\n",
    "gears = io.imread(gears_path)\n",
    "text_img = io.imread(text_path)"
   ]
  },
  {
   "cell_type": "code",
   "execution_count": null,
   "metadata": {},
   "outputs": [],
   "source": [
    "fig, ax = try_all_threshold(gears, figsize=(10, 8), verbose=False)\n",
    "plt.show()"
   ]
  },
  {
   "cell_type": "code",
   "execution_count": null,
   "metadata": {},
   "outputs": [],
   "source": [
    "otsu_gear_th = th_otsu(gears)\n",
    "yen_gear_th = th_yen(gears)"
   ]
  },
  {
   "cell_type": "code",
   "execution_count": null,
   "metadata": {},
   "outputs": [],
   "source": [
    "def my_otsu(image):\n",
    "    # Flatten the image to 1D array\n",
    "    pixels = image.flatten()\n",
    "\n",
    "    # Calculate histogram\n",
    "    histogram, edges = np.histogram(pixels, bins=256, range=(0, 256))\n",
    "\n",
    "    # Total number of pixels\n",
    "    total_pixels = image.size\n",
    "\n",
    "    # Compute cumulative sums\n",
    "    cumulative_sum = np.cumsum(histogram)\n",
    "    cumulative_sum_rev = np.cumsum(histogram[::-1])[::-1]\n",
    "\n",
    "    # Compute cumulative means\n",
    "    eps = np.finfo(float).eps  # Add epsilon to avoid division by zero\n",
    "    cumulative_mean = np.cumsum(np.arange(256) * histogram) / (cumulative_sum + eps)\n",
    "    cumulative_mean_rev = (np.cumsum((255 - np.arange(256)) * histogram[::-1]) / (cumulative_sum_rev + eps))[::-1]\n",
    "\n",
    "    # Compute between-class variance\n",
    "    variance_between = cumulative_sum * cumulative_sum_rev * (cumulative_mean - cumulative_mean_rev) ** 2\n",
    "\n",
    "    # Find the threshold that maximizes between-class variance\n",
    "    best_threshold = np.argmax(variance_between)\n",
    "\n",
    "    return best_threshold"
   ]
  },
  {
   "cell_type": "code",
   "execution_count": null,
   "metadata": {},
   "outputs": [],
   "source": [
    "my_otsu_th = my_otsu(gears)\n",
    "print(my_otsu_th)\n",
    "bin_gears = gears > my_otsu_th\n",
    "plt.imshow(bin_gears, cmap=plt.cm.gray)"
   ]
  },
  {
   "cell_type": "code",
   "execution_count": null,
   "metadata": {},
   "outputs": [],
   "source": [
    "th_img = th_otsu(text_img)\n",
    "bin_img = text_img > th_img\n",
    "\n",
    "fig, axes = plt.subplots(ncols=3, figsize=(8, 2.5))\n",
    "ax = axes.ravel()\n",
    "ax[0] = plt.subplot(1, 3, 1)\n",
    "ax[1] = plt.subplot(1, 3, 2)\n",
    "ax[2] = plt.subplot(1, 3, 3, sharex=ax[0], sharey=ax[0])\n",
    "\n",
    "ax[0].imshow(text_img, cmap=plt.cm.gray)\n",
    "ax[0].set_title('Original')\n",
    "ax[0].axis('off')\n",
    "\n",
    "ax[1].hist(text_img.ravel(), bins=256)\n",
    "ax[1].set_title('Histogram')\n",
    "ax[1].axvline(th_img, color='r')\n",
    "\n",
    "ax[2].imshow(bin_img, cmap=plt.cm.gray)\n",
    "ax[2].set_title('Thresholded')\n",
    "ax[2].axis('off')\n",
    "\n",
    "plt.show()"
   ]
  },
  {
   "cell_type": "code",
   "execution_count": null,
   "metadata": {},
   "outputs": [],
   "source": [
    "plt.imshow(img, cmap='gray')\n",
    "fig, ax = try_all_threshold(img, figsize=(10, 8), verbose=False)\n",
    "plt.show()\n",
    "yen_th = th_yen(img)\n",
    "bin_brain = img > 180\n",
    "plt.imshow(bin_brain, cmap=plt.cm.gray)"
   ]
  },
  {
   "cell_type": "code",
   "execution_count": null,
   "metadata": {},
   "outputs": [],
   "source": [
    "cleared_brain = ski.morphology.remove_small_objects(bin_brain, min_size=600, connectivity=2)#connectivity????\n",
    "plt.imshow(cleared_brain, cmap='gray')"
   ]
  },
  {
   "cell_type": "code",
   "execution_count": null,
   "metadata": {},
   "outputs": [],
   "source": [
    "contours = ski.measure.find_contours(cleared_brain)\n",
    "fig, ax = plt.subplots()\n",
    "ax.imshow(img, cmap=plt.cm.gray)\n",
    "for contour in contours:\n",
    "    ax.plot(contour[:, 1], contour[:, 0], linewidth=2)\n",
    "\n",
    "ax.axis('image')\n",
    "ax.set_xticks([])\n",
    "ax.set_yticks([])\n",
    "plt.show()"
   ]
  },
  {
   "cell_type": "code",
   "execution_count": null,
   "metadata": {},
   "outputs": [],
   "source": [
    "from skimage.data import chelsea as img1\n",
    "from skimage import measure\n",
    "from PIL import Image\n",
    "##lewa strona obrazu\n",
    "##ent1 =\n",
    "##prawa strona entropii\n",
    "##ent2 =\n",
    "##greylvl = x\n",
    "##suma entropii na podstawie histogramu. To x musi być przemnożone przez pi\n",
    "##-pi*log2(pi)\n",
    "##-x*log2(x)\n",
    "\n",
    "r = np.asarray(img1)\n",
    "print(type(r))\n",
    "# Find contours at a constant value of 0.8\n",
    "contours = measure.find_contours(r, 0.8)\n",
    "\n",
    "# Display the image and plot all contours found\n",
    "fig, ax = plt.subplots()\n",
    "ax.imshow(r, cmap=plt.cm.gray)\n",
    "\n",
    "for contour in contours:\n",
    "    ax.plot(contour[:, 1], contour[:, 0], linewidth=2)\n",
    "\n",
    "ax.axis('image')\n",
    "ax.set_xticks([])\n",
    "ax.set_yticks([])\n",
    "plt.show()\n",
    "\n",
    "##SUMA od i = 0 do T entp(i)/w1 + sUMA od i = T+1 do 255 entp(pi)/w2. Gdzie entropia ma być maksymalizowana"
   ]
  },
  {
   "cell_type": "code",
   "execution_count": null,
   "metadata": {},
   "outputs": [],
   "source": []
  },
  {
   "cell_type": "code",
   "execution_count": null,
   "metadata": {},
   "outputs": [],
   "source": []
  }
 ],
 "metadata": {
  "kernelspec": {
   "display_name": "Python 3",
   "language": "python",
   "name": "python3"
  },
  "language_info": {
   "codemirror_mode": {
    "name": "ipython",
    "version": 2
   },
   "file_extension": ".py",
   "mimetype": "text/x-python",
   "name": "python",
   "nbconvert_exporter": "python",
   "pygments_lexer": "ipython2",
   "version": "2.7.6"
  }
 },
 "nbformat": 4,
 "nbformat_minor": 0
}
