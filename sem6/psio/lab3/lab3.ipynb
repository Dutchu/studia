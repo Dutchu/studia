{
 "cells": [
  {
   "cell_type": "markdown",
   "metadata": {},
   "source": [
    "# PSIO – Laboratorium 3 (Progowanie, tło rank, kolory)\n",
    "Rozwiązania zadań na podstawie `lab3/desc.txt`. Opisy i komentarze po polsku."
   ]
  },
  {
   "cell_type": "code",
   "execution_count": null,
   "metadata": {},
   "outputs": [],
   "source": [
    "import numpy as np\n",
    "import matplotlib.pyplot as plt\n",
    "from skimage import io, color, data, filters, morphology, util, exposure\n",
    "from skimage.filters import try_all_threshold\n",
    "from skimage.morphology import disk\n",
    "\n",
    "\n",
    "# Pomocnicze funkcje\n",
    "def to_gray_u8(img):\n",
    "    if img.ndim == 3:\n",
    "        img = color.rgb2gray(img)\n",
    "    if img.dtype == np.uint8:\n",
    "        return img\n",
    "    img = np.clip(img, 0, 1)\n",
    "    return (img * 255).astype(np.uint8)\n",
    "\n",
    "\n",
    "def show_with_hist(img_u8, title, t=None):\n",
    "    h, _ = np.histogram(img_u8.ravel(), bins=256, range=(0, 256))\n",
    "    fig, ax = plt.subplots(1, 2, figsize=(10, 4))\n",
    "    ax[0].imshow(img_u8, cmap='gray')\n",
    "    ax[0].set_title(title)\n",
    "    ax[0].axis('off')\n",
    "    ax[1].plot(h, color='black')\n",
    "    ax[1].set_title('Histogram 256 kubełków')\n",
    "    ax[1].set_xlim(0, 255)\n",
    "    if t is not None: ax[1].axvline(t, color='red', linestyle='--', label=f't={t}')\n",
    "    if t is not None: ax[1].legend()\n",
    "    plt.tight_layout()\n",
    "    plt.show()\n",
    "\n",
    "\n",
    "def bin_show(img_u8, t, title):\n",
    "    bin_img = (img_u8 > t).astype(np.uint8) * 255\n",
    "    fig, ax = plt.subplots(1, 2, figsize=(10, 4))\n",
    "    ax[0].imshow(bin_img, cmap='gray')\n",
    "    ax[0].set_title(f'Progowanie > {t}')\n",
    "    ax[0].axis('off')\n",
    "    h, _ = np.histogram(img_u8.ravel(), bins=256, range=(0, 256))\n",
    "    ax[1].plot(h, color='black')\n",
    "    ax[1].axvline(t, color='red', linestyle='--')\n",
    "    ax[1].set_title('Histogram z zaznaczonym progiem')\n",
    "    ax[1].set_xlim(0, 255)\n",
    "    plt.suptitle(title)\n",
    "    plt.tight_layout()\n",
    "    plt.show()\n",
    "\n",
    "\n",
    "def safe_read(paths):\n",
    "    for p in paths:\n",
    "        try:\n",
    "            return io.imread(p)\n",
    "        except Exception:\n",
    "            pass\n",
    "    raise FileNotFoundError(paths)\n"
   ]
  },
  {
   "cell_type": "markdown",
   "metadata": {},
   "source": [
    "## Zadanie 1 – try_all_threshold na `gears1.png`"
   ]
  },
  {
   "cell_type": "code",
   "execution_count": null,
   "metadata": {},
   "outputs": [],
   "source": [
    "# Wczytaj i konwertuj do skali szarości [0..255]\n",
    "img_color = safe_read(['lab3/gears1.png', 'gears1.png'])\n",
    "img_u8 = to_gray_u8(img_color)\n",
    "show_with_hist(img_u8, 'gears1 – odcienie szarości')\n",
    "\n",
    "# Podgląd wszystkich metod progowania\n",
    "fig, ax = try_all_threshold(img_u8, verbose=False, figsize=(12, 8))\n",
    "plt.show()\n",
    "\n",
    "# Wybór dwóch metod (możesz zmienić po inspekcji figur). Często: Otsu i Yen\n",
    "t_otsu = filters.threshold_otsu(img_u8)\n",
    "t_yen = filters.threshold_yen(img_u8)\n",
    "bin_show(img_u8, int(t_otsu), 'gears1 – Otsu')\n",
    "bin_show(img_u8, int(t_yen), 'gears1 – Yen')"
   ]
  },
  {
   "cell_type": "markdown",
   "metadata": {},
   "source": [
    "## Zadanie 2 – tekst: tło rank.maximum, odejmowanie i progowanie"
   ]
  },
  {
   "cell_type": "code",
   "execution_count": null,
   "metadata": {},
   "outputs": [],
   "source": [
    "page = safe_read(['printed_text.png'])\n",
    "\n",
    "page_u8 = to_gray_u8(page)\n",
    "show_with_hist(page_u8, 'Strona – odcienie szarości')\n",
    "\n",
    "# Szybkie sprawdzenie metod progowania\n",
    "fig, ax = try_all_threshold(page_u8, verbose=False, figsize=(12, 8))\n",
    "plt.show()\n",
    "\n",
    "# Szacowanie tła filtrem rank.maximum (uint8, wymagany selem)\n",
    "se = disk(15)  # można zwiększyć dla bardziej rozmytego tła\n",
    "tlo = filters.rank.maximum(page_u8, footprint=se)\n",
    "# Wygładzanie tła przed odejmowaniem (opcjonalnie)\n",
    "tlo_mean = filters.rank.mean(tlo, footprint=disk(3))\n",
    "\n",
    "# Odejmowanie: tlo - obraz\n",
    "obraz2 = util.img_as_ubyte(np.clip((tlo_mean.astype(np.int16) - page_u8.astype(np.int16)), 0, 255) / 255.0)\n",
    "show_with_hist(tlo_mean, 'Tło (po rank.maximum i rank.mean)')\n",
    "show_with_hist(obraz2, 'Obraz2 = tlo - obraz')\n",
    "\n",
    "# Dobór progu po odejmowaniu\n",
    "fig, ax = try_all_threshold(obraz2, verbose=False, figsize=(12, 8))\n",
    "plt.show()\n",
    "t_best = filters.threshold_mean(obraz2)\n",
    "bin_show(obraz2, int(t_best), 'Wynik progowania – Mean po odejmowaniu')\n",
    "\n",
    "# Zapis wyniku na dysk (dla pełnej rozdzielczości)\n",
    "result = (obraz2 > t_best).astype(np.uint8) * 255\n",
    "io.imsave('lab3_printed_text_binary.png', result)\n",
    "print('Zapisano wynik do lab3_printed_text_binary.png')"
   ]
  },
  {
   "cell_type": "markdown",
   "metadata": {},
   "source": [
    "## Zadanie 3 – blood_smear: dwa progi i obraz barwny"
   ]
  },
  {
   "cell_type": "code",
   "execution_count": null,
   "metadata": {},
   "outputs": [],
   "source": [
    "\n",
    "blood = safe_read(['blood_smear.jpg'])\n",
    "\n",
    "blood_gray = to_gray_u8(blood)\n",
    "show_with_hist(blood_gray, 'blood_smear – skala szarości')\n",
    "\n",
    "t1 = 200\n",
    "t2 = 150\n",
    "img1 = (blood_gray > t1).astype(np.uint8) * 255\n",
    "img2 = (blood_gray > t2).astype(np.uint8) * 255\n",
    "fig, ax = plt.subplots(1, 2, figsize=(10, 4))\n",
    "ax[0].imshow(img1, cmap='gray')\n",
    "ax[0].set_title(f'Obraz1 – t1={t1}')\n",
    "ax[0].axis('off')\n",
    "ax[1].imshow(img2, cmap='gray')\n",
    "ax[1].set_title(f'Obraz2 – t2={t2}')\n",
    "ax[1].axis('off')\n",
    "plt.tight_layout()\n",
    "plt.show()\n",
    "\n",
    "# Maska z zaznaczeniem klas (bez tła)\n",
    "H, W = blood_gray.shape\n",
    "overlay = np.full((H, W, 3), 255, dtype=np.uint8)\n",
    "\n",
    "t_lo = min(t1, t2)\n",
    "t_hi = max(t1, t2)\n",
    "mask2 = blood_gray < t_lo\n",
    "mask1 = (blood_gray >= t_lo) & (blood_gray < t_hi)\n",
    "R = overlay[..., 0]\n",
    "G = overlay[..., 1]\n",
    "B = overlay[..., 2]\n",
    "R[mask1] = 255\n",
    "G[mask1] = 0\n",
    "B[mask1] = 0\n",
    "R[mask2] = 0\n",
    "G[mask2] = 0\n",
    "B[mask2] = 255\n",
    "plt.figure(figsize=(6, 6))\n",
    "plt.imshow(overlay)\n",
    "plt.title('Krwinki: czerwone (t1), niebieskie (t2)')\n",
    "plt.axis('off')\n",
    "plt.show()"
   ]
  },
  {
   "cell_type": "markdown",
   "metadata": {},
   "source": [
    "\n",
    "### (Dodatkowe) – detekcja na podstawie koloru (niebo → airbus)"
   ]
  },
  {
   "cell_type": "code",
   "execution_count": null,
   "metadata": {},
   "outputs": [],
   "source": [
    "plane_path = ['airbus.png']\n",
    "\n",
    "plane = safe_read(plane_path)\n",
    "\n",
    "plane_u8 = util.img_as_ubyte(plane if plane.dtype != np.uint8 else plane)\n",
    "\n",
    "# Szacowanie koloru nieba z górnego pasa obrazu (robust)\n",
    "H, W = plane_u8.shape[:2]\n",
    "samp_h = max(10, H // 6)\n",
    "sky_band = plane_u8[:samp_h, :, :].astype(np.float32)\n",
    "mean_rgb = np.array([np.average(sky_band[..., i]) for i in range(3)], dtype=np.float32)\n",
    "diff_sky = np.linalg.norm(sky_band - mean_rgb, axis=-1)\n",
    "thr = float(np.percentile(diff_sky, 99)) + 5.0\n",
    "\n",
    "# Segmentacja samolotu względem koloru nieba\n",
    "diff_all = np.linalg.norm(plane_u8.astype(np.float32) - mean_rgb, axis=-1)\n",
    "mask = (diff_all > thr).astype(np.uint8) * 255\n",
    "fig, ax = plt.subplots(1, 2, figsize=(10, 4))\n",
    "ax[0].imshow(plane_u8)\n",
    "ax[0].set_title('airbus')\n",
    "ax[0].axis('off')\n",
    "ax[1].imshow(mask, cmap='gray')\n",
    "ax[1].set_title('Obiekty > max_dist')\n",
    "ax[1].axis('off')\n",
    "plt.tight_layout()\n",
    "plt.show()"
   ]
  },
  {
   "cell_type": "code",
   "execution_count": null,
   "outputs": [],
   "source": [],
   "metadata": {
    "collapsed": false
   }
  }
 ],
 "metadata": {
  "kernelspec": {
   "name": "psio",
   "language": "python",
   "display_name": "Python (psio)"
  },
  "language_info": {
   "codemirror_mode": {
    "name": "ipython",
    "version": 3
   },
   "file_extension": ".py",
   "mimetype": "text/x-python",
   "name": "python",
   "nbconvert_exporter": "python",
   "pygments_lexer": "ipython3",
   "version": "3.11.3"
  }
 },
 "nbformat": 4,
 "nbformat_minor": 0
}
