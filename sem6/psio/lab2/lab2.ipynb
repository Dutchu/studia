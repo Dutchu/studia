{
 "cells": [
  {
   "cell_type": "markdown",
   "metadata": {},
   "source": [
    "# PSIO – Laboratorium 2"
   ]
  },
  {
   "cell_type": "code",
   "execution_count": null,
   "metadata": {},
   "outputs": [],
   "source": [
    "import numpy as np\n",
    "import matplotlib.pyplot as plt\n",
    "from skimage import data, exposure, io, color\n",
    "\n",
    "# Pomocnicze: zapewnij uint8 [0..255] z ewentualnego float [0..1]\n",
    "def to_uint8(img):\n",
    "    if img.dtype == np.uint8:\n",
    "        return img\n",
    "    img = np.clip(img, 0, 1)\n",
    "    return (img * 255).astype(np.uint8)\n",
    "\n",
    "def hist_counts(img_u8, bins, rng=(0, 256)):\n",
    "    h, _ = np.histogram(img_u8.ravel(), bins=bins, range=rng)\n",
    "    return h\n",
    "\n",
    "def show_side_by_side(img_left, title_left, img_right, title_right, cmap='gray', figsize=(10,4)):\n",
    "    fig, ax = plt.subplots(1, 2, figsize=figsize)\n",
    "    ax[0].imshow(img_left, cmap=cmap)\n",
    "    ax[0].set_title(title_left)\n",
    "    ax[0].axis('off')\n",
    "    ax[1].imshow(img_right, cmap=cmap)\n",
    "    ax[1].set_title(title_right)\n",
    "    ax[1].axis('off')\n",
    "    plt.tight_layout()\n",
    "    plt.show()"
   ]
  },
  {
   "cell_type": "markdown",
   "metadata": {},
   "source": [
    "## Zadanie 1 – histogramy obrazu `camera`"
   ]
  },
  {
   "cell_type": "code",
   "execution_count": null,
   "metadata": {},
   "outputs": [],
   "source": [
    "# 1a) Histogram (256 kubełków) + obraz\n",
    "cam = data.camera()  # uint8\n",
    "cam_u8 = to_uint8(cam)\n",
    "h256 = hist_counts(cam_u8, bins=256, rng=(0, 256))\n",
    "\n",
    "fig, ax = plt.subplots(1, 2, figsize=(12,4))\n",
    "ax[0].imshow(cam_u8, cmap='gray')\n",
    "ax[0].set_title('Obraz: camera')\n",
    "ax[0].axis('off')\n",
    "ax[1].plot(h256, color='black')\n",
    "ax[1].set_title('Histogram (256 kubełków) – linia')\n",
    "ax[1].set_xlim(0, 255)\n",
    "ax[1].set_xlabel('Wartość jasności')\n",
    "ax[1].set_ylabel('Liczność')\n",
    "plt.tight_layout(); plt.show()\n",
    "\n",
    "# 1b) Histogram (8 kubełków) – słupki\n",
    "h8, edges = np.histogram(cam_u8.ravel(), bins=8, range=(0, 256))\n",
    "centers = 0.5*(edges[:-1] + edges[1:])\n",
    "plt.figure(figsize=(6,4))\n",
    "plt.bar(centers, h8, width=(edges[1]-edges[0])*0.9, color='gray', edgecolor='black')\n",
    "plt.title('Histogram (8 kubełków) – słupki')\n",
    "plt.xlabel('Wartość jasności')\n",
    "plt.ylabel('Liczność')\n",
    "plt.xlim(0, 255)\n",
    "plt.tight_layout(); plt.show()\n",
    "\n",
    "# 1c) Histogram skumulowany – linia\n",
    "cum = np.cumsum(h256)\n",
    "plt.figure(figsize=(6,4))\n",
    "plt.plot(cum, color='blue')\n",
    "plt.title('Histogram skumulowany')\n",
    "plt.xlabel('Wartość jasności')\n",
    "plt.ylabel('Suma liczności')\n",
    "plt.xlim(0, 255)\n",
    "plt.tight_layout(); plt.show()"
   ]
  },
  {
   "cell_type": "markdown",
   "metadata": {},
   "source": [
    "## Zadanie 2 – rozciąganie kontrastu i gamma"
   ]
  },
  {
   "cell_type": "code",
   "execution_count": null,
   "metadata": {},
   "outputs": [],
   "source": [
    "# 2a) Wybór progów a, b na podstawie histogramu i rescale_intensity\n",
    "# Podpowiedź automatyczna (percentyle), ale wartości można nadpisać ręcznie.\n",
    "p_low, p_high = np.percentile(cam_u8, [1, 99])\n",
    "a, b = int(p_low), int(p_high)\n",
    "# a, b = 30, 210  # <- można odkomentować i dobrać ręcznie\n",
    "\n",
    "cam_rescaled = exposure.rescale_intensity(cam_u8, in_range=(a, b), out_range=(0, 255)).astype(np.uint8)\n",
    "h_res = hist_counts(cam_rescaled, bins=256, rng=(0, 256))\n",
    "\n",
    "show_side_by_side(cam_u8, 'camera – oryginał', cam_rescaled, f'camera – rescale_intensity (a={a}, b={b})')\n",
    "plt.figure(figsize=(10,4))\n",
    "plt.plot(h256, label='przed', color='gray')\n",
    "plt.plot(h_res, label='po', color='red')\n",
    "plt.title('Histogram: przed/po reskalowaniu intensywności')\n",
    "plt.xlabel('Wartość jasności'); plt.ylabel('Liczność')\n",
    "plt.xlim(0, 255); plt.legend(); plt.tight_layout(); plt.show()\n",
    "\n",
    "# Wyjaśnienie: po rozciąganiu kontrastu część kubełków może mieć 0,\n",
    "# bo wiele sąsiednich wartości wejściowych klastruje do tych samych wartości wyjściowych\n",
    "# (kwantyzacja do 256 poziomów), a poza [a,b] wartości ulegają saturacji do 0 lub 255."
   ]
  },
  {
   "cell_type": "code",
   "execution_count": null,
   "metadata": {},
   "outputs": [],
   "source": [
    "# 2b) Operacje dla obrazu ciemnego: dark_image.png (jeśli brak – tworzymy sztuczny)\n",
    "paths = ['../resources/dark_image.png', 'resources/dark_image.png', 'dark_image.png']\n",
    "dark = None\n",
    "for p in paths:\n",
    "    try:\n",
    "        dark = io.imread(p)\n",
    "        break\n",
    "    except Exception:\n",
    "        pass\n",
    "if dark is None:\n",
    "    # Fallback: przyciemniamy camera() jako substytut\n",
    "    dark = to_uint8(exposure.adjust_gamma(cam_u8, gamma=1.8))\n",
    "\n",
    "dark_u8 = to_uint8(dark if dark.ndim == 2 else color.rgb2gray(dark))\n",
    "# Dobór a,b (percentyle jako start)\n",
    "p_low2, p_high2 = np.percentile(dark_u8, [1, 99])\n",
    "a2, b2 = int(p_low2), int(p_high2)\n",
    "dark_rescaled = exposure.rescale_intensity(dark_u8, in_range=(a2, b2), out_range=(0, 255)).astype(np.uint8)\n",
    "\n",
    "# Korekcja gamma – do rozjaśnienia używamy gamma < 1\n",
    "gamma = 0.6\n",
    "dark_gamma = to_uint8(exposure.adjust_gamma(dark_u8, gamma=gamma))\n",
    "\n",
    "# Kombinacja: najpierw gamma, potem reskalowanie\n",
    "dark_combo = to_uint8(exposure.rescale_intensity(dark_gamma, in_range=(a2, b2), out_range=(0, 255)))\n",
    "\n",
    "fig, ax = plt.subplots(1, 4, figsize=(16,4))\n",
    "ax[0].imshow(dark_u8, cmap='gray'); ax[0].set_title('Wejście (ciemny)'); ax[0].axis('off')\n",
    "ax[1].imshow(dark_rescaled, cmap='gray'); ax[1].set_title(f'Rescale (a={a2}, b={b2})'); ax[1].axis('off')\n",
    "ax[2].imshow(dark_gamma, cmap='gray'); ax[2].set_title(f'Gamma (γ={gamma})'); ax[2].axis('off')\n",
    "ax[3].imshow(dark_combo, cmap='gray'); ax[3].set_title('Gamma → Rescale'); ax[3].axis('off')\n",
    "plt.tight_layout(); plt.show()"
   ]
  },
  {
   "cell_type": "markdown",
   "metadata": {},
   "source": [
    "## Zadanie 3 – histogramy RGB (`chelsea` lub `coffee`)"
   ]
  },
  {
   "cell_type": "code",
   "execution_count": null,
   "metadata": {},
   "outputs": [],
   "source": [
    "rgb = data.chelsea()  # kolorowy\n",
    "rgb_u8 = to_uint8(rgb)\n",
    "R, G, B = rgb_u8[...,0], rgb_u8[...,1], rgb_u8[...,2]\n",
    "\n",
    "# Wykres liniowy: 3 kanały na jednej figurze\n",
    "bins = 256; rng = (0, 256)\n",
    "hR = hist_counts(R, bins, rng); hG = hist_counts(G, bins, rng); hB = hist_counts(B, bins, rng)\n",
    "plt.figure(figsize=(8,4))\n",
    "plt.plot(hR, color='r', label='R')\n",
    "plt.plot(hG, color='g', label='G')\n",
    "plt.plot(hB, color='b', label='B')\n",
    "plt.title('Histogramy RGB – wykres liniowy')\n",
    "plt.xlabel('Wartość'); plt.ylabel('Liczność'); plt.xlim(0,255); plt.legend();\n",
    "plt.tight_layout(); plt.show()\n",
    "\n",
    "# Wykres słupkowy: 3 subplots na jednej figurze\n",
    "fig, ax = plt.subplots(1, 3, figsize=(12,3), sharey=True)\n",
    "edges = np.linspace(0, 256, 33)  # 32 kubełki dla czytelności\n",
    "hR_b, e = np.histogram(R.ravel(), bins=edges); centers = 0.5*(e[:-1]+e[1:])\n",
    "hG_b, _ = np.histogram(G.ravel(), bins=edges)\n",
    "hB_b, _ = np.histogram(B.ravel(), bins=edges)\n",
    "ax[0].bar(centers, hR_b, width=(edges[1]-edges[0])*0.9, color='r'); ax[0].set_title('R – słupki'); ax[0].set_xlim(0,255)\n",
    "ax[1].bar(centers, hG_b, width=(edges[1]-edges[0])*0.9, color='g'); ax[1].set_title('G – słupki'); ax[1].set_xlim(0,255)\n",
    "ax[2].bar(centers, hB_b, width=(edges[1]-edges[0])*0.9, color='b'); ax[2].set_title('B – słupki'); ax[2].set_xlim(0,255)\n",
    "for a in ax: a.set_xlabel('Wartość')\n",
    "ax[0].set_ylabel('Liczność')\n",
    "plt.tight_layout(); plt.show()"
   ]
  },
  {
   "cell_type": "markdown",
   "metadata": {},
   "source": [
    "## Zadanie 4 – LUT i ręczna zmiana ekspozycji"
   ]
  },
  {
   "cell_type": "code",
   "execution_count": null,
   "metadata": {},
   "outputs": [],
   "source": [
    "# Funkcja liniowa przechodząca przez (128,128) z nachyleniem a i obcięciem do [0,255]\n",
    "def fun_lin(x, a):\n",
    "    y = a * (x - 128) + 128\n",
    "    return int(np.clip(np.rint(y), 0, 255))\n",
    "\n",
    "def build_lut(a):\n",
    "    return np.array([fun_lin(x, a) for x in range(256)], dtype=np.uint8)\n",
    "\n",
    "a_val = 1.2  # nachylenie >1 zwiększa kontrast wokół 128\n",
    "LUT = build_lut(a_val)\n",
    "\n",
    "# Podgląd funkcji\n",
    "x = np.arange(256); y = LUT\n",
    "plt.figure(figsize=(5,4))\n",
    "plt.plot(x, y, color='purple')\n",
    "plt.title(f'Funkcja LUT (a={a_val}) – przechodzi przez (128,128)')\n",
    "plt.xlabel('Wejście'); plt.ylabel('Wyjście'); plt.xlim(0,255); plt.ylim(0,255)\n",
    "plt.grid(True, alpha=0.2); plt.tight_layout(); plt.show()\n",
    "\n",
    "# Zastosowanie LUT do obrazu czarno-białego (camera)\n",
    "cam_lut = LUT[cam_u8]  # indeksowanie tablicą LUT\n",
    "show_side_by_side(cam_u8, 'camera – oryginał', cam_lut, f'camera – LUT (a={a_val})')\n",
    "\n",
    "# Dla porównania druga wartość a (mniejszy kontrast wokół 128)\n",
    "a_val2 = 0.8; LUT2 = build_lut(a_val2); cam_lut2 = LUT2[cam_u8]\n",
    "show_side_by_side(cam_lut, f'LUT a={a_val}', cam_lut2, f'LUT a={a_val2}')"
   ]
  }
 ],
 "metadata": {
  "kernelspec": {
   "name": "psio",
   "language": "python",
   "display_name": "Python (psio)"
  },
  "language_info": {
   "codemirror_mode": {
    "name": "ipython",
    "version": 2
   },
   "file_extension": ".py",
   "mimetype": "text/x-python",
   "name": "python",
   "nbconvert_exporter": "python",
   "pygments_lexer": "ipython2",
   "version": "2.7.6"
  }
 },
 "nbformat": 4,
 "nbformat_minor": 0
}
