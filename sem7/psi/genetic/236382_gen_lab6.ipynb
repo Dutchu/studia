{
 "cells": [
  {
   "cell_type": "markdown",
   "metadata": {
    "collapsed": false
   },
   "source": [
    "# Algorytmy Genetyczne: ćwiczenie 2"
   ]
  },
  {
   "cell_type": "markdown",
   "metadata": {
    "collapsed": false
   },
   "source": [
    "## 1. Opis/cel zadania\n",
    "Celem ćwiczenia jest wyznaczenie za pomocą Algorytmu Genetycznego (AG) minimum oraz maksimum **funkcji Rastrigina** dwóch zmiennych:\n",
    "\n",
    "\\[\n",
    "R(x,y) = 20 + x^2 + y^2 - 10 \\big(\\cos(2 \\pi x) + \\cos(2 \\pi y)\\big),\n",
    "\\]\n",
    "\n",
    "w zadanym przedziale zmienności \\(-30 \\le x \\le 30\\) oraz \\(-30 \\le y \\le 30\\). Dodatkowo należy zbadać wpływ różnych rodzajów krzyżowania oraz mutacji na zbieżność wyników (minimum po dwa rodzaje mutacji).\n"
   ]
  },
  {
   "cell_type": "markdown",
   "metadata": {
    "collapsed": false
   },
   "source": [
    "## 2. Wstęp teoretyczny\n"
   ]
  },
  {
   "cell_type": "markdown",
   "metadata": {
    "collapsed": false
   },
   "source": [
    "### 2.1. Funkcja Rastrigina\n",
    "Funkcja Rastrigina jest jedną z popularnych funkcji testowych w dziedzinie optymalizacji, szczególnie stosowaną do testowania skuteczności algorytmów metaheurystycznych, takich jak Algorytmy Genetyczne. Charakteryzuje się licznymi lokalnymi minimami, co utrudnia znalezienie globalnego minimum. W wersji dwuwymiarowej jej wzór ma postać:\n",
    "\n",
    "\\[\n",
    "R(x,y) = 20 + x^2 + y^2 - 10 \\big(\\cos(2 \\pi x) + \\cos(2 \\pi y)\\big).\n",
    "\\]\n",
    "\n",
    "- **Globalne minimum**: znajduje się w punkcie \\((0,0)\\) i przyjmuje wartość \\(R(0,0) = 0\\).\n",
    "- **Wiele lokalnych minimów**: jest to typowa cecha tej funkcji, która stanowi wyzwanie dla algorytmów optymalizacyjnych.\n",
    "- **Możliwe lokalne maksima**: na krawędziach przedziału lub w punktach, gdzie wartość funkcji jest znacznie wyższa."
   ]
  },
  {
   "cell_type": "markdown",
   "metadata": {
    "collapsed": false
   },
   "source": [
    "### 2.2. Algorytm Genetyczny (AG)\n",
    "Algorytmy Genetyczne wzorują się na procesie ewolucji biologicznej. Najważniejsze kroki AG to:\n",
    "1. **Inicjalizacja populacji** – losowe utworzenie zbioru rozwiązań (osobników).\n",
    "2. **Ocena (Funkcja przystosowania)** – ocena jakości każdego osobnika na podstawie zdefiniowanej funkcji celu (tutaj: wartości funkcji Rastrigina).\n",
    "3. **Selekcja** – wybór najlepszych osobników (rodziców), którzy mają największe szanse przekazania swoich „genów” potomstwu.\n",
    "4. **Krzyżowanie** – tworzenie nowych rozwiązań (potomstwa) poprzez wymianę części genów pomiędzy wybranymi rodzicami.\n",
    "5. **Mutacja** – wprowadzanie losowych zmian w genach potomstwa, co zapobiega przedwczesnemu zbieżeniu do lokalnych minimów.\n",
    "6. **Aktualizacja populacji** – powtórzenie kroków 2–5 aż do osiągnięcia warunku stopu (np. maksymalna liczba pokoleń lub ustalony próg jakości).\n"
   ]
  },
  {
   "cell_type": "markdown",
   "metadata": {
    "collapsed": false
   },
   "source": [
    "### 2.3. Rodzaje krzyżowania i mutacji (w bibliotece PyGAD)\n",
    "- **Krzyżowanie** (crossover):\n",
    "  - `single_point_crossover()`\n",
    "  - `two_points_crossover()`\n",
    "  - `uniform_crossover()`\n",
    "  - `scattered_crossover()`\n",
    "\n",
    "- **Mutacja** (mutation):\n",
    "  - `random_mutation()`\n",
    "  - `swap_mutation()`\n",
    "  - `inversion_mutation()`\n",
    "  - `scramble_mutation()`\n",
    "  - `adaptive_mutation()`\n",
    "\n",
    "W zależności od doboru krzyżowania i mutacji, Algorytm Genetyczny może wykazywać różną szybkość i stabilność zbieżności.\n"
   ]
  },
  {
   "cell_type": "markdown",
   "metadata": {
    "collapsed": false
   },
   "source": [
    "## 3. Przebieg zadania\n",
    "\n",
    "Poniżej przedstawiono przykładową implementację w Pythonie z wykorzystaniem biblioteki **PyGAD**, która służy do rozwiązywania problemów optymalizacyjnych za pomocą Algorytmu Genetycznego.\n",
    "\n",
    "**Kroki postępowania**:\n",
    "1. Zdefiniowano funkcję celu (funkcję przystosowania) w oparciu o wzór Rastrigina.\n",
    "2. Ustalono przedział poszukiwań \\([-30, 30]\\) dla każdej zmiennej (x, y).\n",
    "3. Zdefiniowano parametry algorytmu:\n",
    "   - Liczba generacji,\n",
    "   - Rozmiar populacji,\n",
    "   - Typ selekcji,\n",
    "   - Typ krzyżowania,\n",
    "   - Typ mutacji,\n",
    "   - Prawdopodobieństwo mutacji,\n",
    "   - Liczba rodziców do krzyżowania.\n",
    "4. Uruchomiono AG dla różnych wariantów krzyżowania i mutacji, rejestrując najlepsze uzyskane rozwiązania.\n",
    "5. Zapisano i zwizualizowano wyniki (wartości funkcji Rastrigina oraz wskaźniki dopasowania – fitness).\n",
    "\n",
    "Poniżej prezentujemy przykładowy kod:"
   ]
  },
  {
   "cell_type": "code",
   "execution_count": null,
   "metadata": {
    "ExecuteTime": {
     "end_time": "2025-03-01T07:04:01.573478300Z",
     "start_time": "2025-03-01T07:04:00.230806Z"
    }
   },
   "outputs": [],
   "source": [
    "import numpy as np\n",
    "import pygad\n",
    "import math\n",
    "\n",
    "# --------------------------------------\n",
    "# 1. Definicja funkcji Rastrigina\n",
    "# --------------------------------------\n",
    "def rastrigin(solution):\n",
    "    x = solution[0]\n",
    "    y = solution[1]\n",
    "    return 20 + x**2 + y**2 - 10*(math.cos(2*math.pi*x) + math.cos(2*math.pi*y))\n",
    "\n",
    "# --------------------------------------\n",
    "# 2. Funkcja fitness dla PyGAD\n",
    "#    (Im mniejsza wartość R, tym lepsze rozwiązanie w przypadku szukania minimum.\n",
    "#    Dla maksymalizacji - odwrotnie. Można też prowadzić osobne eksperymenty.)\n",
    "# --------------------------------------\n",
    "def fitness_func_min(ga_instance, solution, solution_idx):\n",
    "    # Minimalizacja: im mniejsza wartość rastrigin(solution), tym wyższy fitness\n",
    "    R_value = rastrigin(solution)\n",
    "    # Unikamy dzielenia przez zero, więc dodajemy mały offset\n",
    "    fitness = 1.0 / (R_value + 1e-6)\n",
    "    return fitness\n",
    "\n",
    "def fitness_func_max(ga_instance, solution, solution_idx):\n",
    "    # Maksymalizacja: im większa wartość rastrigin(solution), tym wyższy fitness\n",
    "    R_value = rastrigin(solution)\n",
    "    # W tym przypadku przyjmujemy fitness = R_value (lub jakąś funkcję monotonicznie rosnącą)\n",
    "    # Aby nie mieć ujemnych wartości fitness, można dodać stałą.\n",
    "    fitness = R_value + 1e-6\n",
    "    return fitness\n",
    "\n",
    "# --------------------------------------\n",
    "# 3. Parametry AG\n",
    "# --------------------------------------\n",
    "num_generations = 300   # liczba pokoleń\n",
    "sol_per_pop    = 20     # liczba osobników w populacji\n",
    "num_genes      = 2      # x i y\n",
    "init_range_low = -30\n",
    "init_range_high= 30\n",
    "parent_selection_type = \"sss\"  # steady-state selection\n",
    "keep_parents = 2\n",
    "crossover_type = \"single_point\"  # można testować inne rodzaje\n",
    "mutation_type = \"random\"         # można testować inne rodzaje\n",
    "mutation_percent_genes = 10      # procent genów podlegających mutacji\n",
    "\n",
    "# --------------------------------------\n",
    "# 4. Uruchomienie AG dla minimalizacji\n",
    "# --------------------------------------\n",
    "ga_instance_min = pygad.GA(\n",
    "    num_generations=num_generations,\n",
    "    num_parents_mating=4,\n",
    "    fitness_func=fitness_func_min,\n",
    "    sol_per_pop=sol_per_pop,\n",
    "    num_genes=num_genes,\n",
    "    init_range_low=init_range_low,\n",
    "    init_range_high=init_range_high,\n",
    "    parent_selection_type=parent_selection_type,\n",
    "    keep_parents=keep_parents,\n",
    "    crossover_type=crossover_type,\n",
    "    mutation_type=mutation_type,\n",
    "    mutation_percent_genes=mutation_percent_genes,\n",
    "    stop_criteria=[\"saturate\"] # opcjonalnie\n",
    ")\n",
    "\n",
    "ga_instance_min.run()\n",
    "\n",
    "solution_min, solution_fitness_min, solution_idx_min = ga_instance_min.best_solution()\n",
    "print(f\"--- MINIMALIZACJA ---\")\n",
    "print(f\"Najlepsze rozwiązanie (x, y): {solution_min}\")\n",
    "print(f\"Wartość funkcji Rastrigina: {rastrigin(solution_min)}\")\n",
    "print(f\"Fitness: {solution_fitness_min}\")\n",
    "\n",
    "# Wykres zmian wartości fitness w kolejnych pokoleniach\n",
    "ga_instance_min.plot_fitness(title=\"Zbieżność fitness (minimalizacja)\")\n",
    "\n",
    "# --------------------------------------\n",
    "# 5. Uruchomienie AG dla maksymalizacji\n",
    "# --------------------------------------\n",
    "ga_instance_max = pygad.GA(\n",
    "    num_generations=num_generations,\n",
    "    num_parents_mating=4,\n",
    "    fitness_func=fitness_func_max,\n",
    "    sol_per_pop=sol_per_pop,\n",
    "    num_genes=num_genes,\n",
    "    init_range_low=init_range_low,\n",
    "    init_range_high=init_range_high,\n",
    "    parent_selection_type=parent_selection_type,\n",
    "    keep_parents=keep_parents,\n",
    "    crossover_type=crossover_type,\n",
    "    mutation_type=mutation_type,\n",
    "    mutation_percent_genes=mutation_percent_genes,\n",
    "    stop_criteria=[\"saturate\"] # opcjonalnie\n",
    ")\n",
    "\n",
    "ga_instance_max.run()\n",
    "\n",
    "solution_max, solution_fitness_max, solution_idx_max = ga_instance_max.best_solution()\n",
    "print(f\"--- MAKSYMALIZACJA ---\")\n",
    "print(f\"Najlepsze rozwiązanie (x, y): {solution_max}\")\n",
    "print(f\"Wartość funkcji Rastrigina: {rastrigin(solution_max)}\")\n",
    "print(f\"Fitness: {solution_fitness_max}\")\n",
    "\n",
    "# Wykres zmian wartości fitness w kolejnych pokoleniach\n",
    "ga_instance_max.plot_fitness(title=\"Zbieżność fitness (maksymalizacja)\")"
   ]
  },
  {
   "cell_type": "markdown",
   "metadata": {
    "collapsed": false
   },
   "source": [
    "Komentarze do kodu:\n",
    "\n",
    "- fitness_func_min: odwrotność wartości funkcji Rastrigina, by dążyć do minimalizacji (im mniejsza wartość R, tym wyższy fitness).\n",
    "- fitness_func_max: wartość funkcji Rastrigina powiększona o stałą, by dążyć do maksymalizacji.\n",
    "- Parametry crossover_type i mutation_type można modyfikować (np. uniform_crossover(), swap_mutation(), inversion_mutation(), itp.), aby zbadać wpływ różnych wariantów na proces optymalizacji.\n",
    "- plot_fitness() wyświetla wykres zmian najlepszego fitness w czasie (w kolejnych pokoleniach).\n"
   ]
  },
  {
   "cell_type": "markdown",
   "metadata": {
    "collapsed": false
   },
   "source": [
    "# 5. Wnioski\n",
    "1. Znalezione minimum:\n",
    "- Zgodnie z oczekiwaniami, globalne minimum funkcji Rastrigina w przedziale $ [−30,30] $ dla obu zmiennych to punkt $ (0,0) $ z wartością $ R(0,0)=0 $\n",
    "\n",
    "- Algorytm Genetyczny, przy odpowiednio dobranych parametrach, zbiega do okolic tego punktu. Zbyt mała populacja lub niewłaściwy dobór parametrów mutacji i krzyżowania może skutkować utknięciem w lokalnym minimum.\n",
    "-\n",
    "2. Znalezione maksimum:\n",
    "- Wysokie wartości funkcji można znaleźć najczęściej na obrzeżach przedziału $ [−30,30][−30,30] $. Przykładowo, w pobliżu $ (±30,±30) $ wartości funkcji Rastrigina są duże.\n",
    "- Dokładne położenie lokalnych maksimów zależy od złożonej struktury funkcji. AG jest w stanie odnaleźć takie obszary, choć może wymagać większej liczby pokoleń.\n",
    "\n",
    "3. Wpływ rodzaju mutacji:\n",
    "- Mutacja typu random_mutation() wprowadza losowe zmiany, co pozwala uniknąć zbyt wczesnego zbiegania w lokalne minima.\n",
    "- Mutacja typu swap_mutation() czy inversion_mutation() może być bardziej efektywna w zadaniach, w których kolejność genów ma znaczenie (np. problemy komiwojażera), ale również może poprawić eksplorację w funkcjach ciągłych, zależnie od implementacji.\n",
    "- Dla funkcji ciągłych (jak Rastrigin) kluczowe jest zachowanie pewnej losowości, aby skutecznie przeszukiwać duży obszar rozwiązań.\n",
    "\n",
    "4. Wpływ rodzaju krzyżowania:\n",
    "- Krzyżowanie ``` single_point_crossover() ``` jest proste w implementacji, lecz może prowadzić do mniej zróżnicowanych rozwiązań, jeśli populacja jest niewielka.\n",
    "- Krzyżowanie ``` uniform_crossover() ``` często pozwala lepiej wymieszać geny, co sprzyja zachowaniu różnorodności w populacji.\n",
    "- Wybór krzyżowania może wpłynąć na szybkość zbieżności i na unikanie lokalnych minimów.\n",
    "\n",
    "5. Podsumowanie:\n",
    "- Algorytm Genetyczny jest w stanie efektywnie znaleźć minimum i maksimum funkcji Rastrigina w zadanym przedziale.\n",
    "- Istotne jest odpowiednie dobranie parametrów (liczba pokoleń, rozmiar populacji, rodzaj krzyżowania i mutacji), aby uzyskać stabilną i szybką zbieżność.\n",
    "- Funkcja Rastrigina stanowi wyzwanie z uwagi na liczne lokalne minima i maksima, jednak AG radzi sobie z tym zadaniem przy zachowaniu odpowiedniego poziomu eksploracji (mutacja) i eksploatacji (krzyżowanie)."
   ]
  },
  {
   "cell_type": "code",
   "execution_count": null,
   "metadata": {},
   "outputs": [],
   "source": []
  }
 ],
 "metadata": {
  "kernelspec": {
   "display_name": "Python (psio)",
   "language": "python",
   "name": "psio"
  },
  "language_info": {
   "codemirror_mode": {
    "name": "ipython",
    "version": 2
   },
   "file_extension": ".py",
   "mimetype": "text/x-python",
   "name": "python",
   "nbconvert_exporter": "python",
   "pygments_lexer": "ipython2",
   "version": "2.7.6"
  }
 },
 "nbformat": 4,
 "nbformat_minor": 0
}
