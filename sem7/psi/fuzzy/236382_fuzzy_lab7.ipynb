{
 "cells": [
  {
   "cell_type": "markdown",
   "metadata": {
    "collapsed": false
   },
   "source": []
  },
  {
   "cell_type": "markdown",
   "metadata": {
    "collapsed": false
   },
   "source": [
    "# 1. Logika Rozmyta: sprawozdanie\n",
    "Opis/Cel ćwiczenia:\n",
    "Celem ćwiczenia jest zapoznanie się z podstawami logiki rozmytej (ang. fuzzy logic), w szczególności z definiowaniem zmiennych lingwistycznych, funkcji przynależności oraz reguł wnioskowania rozmytego. W ramach ćwiczenia tworzymy prosty regulator rozmyty sterujący mocą klimatyzatora na podstawie dwóch wielkości wejściowych: temperatury oraz wilgotności powietrza w pomieszczeniu.\n"
   ]
  },
  {
   "cell_type": "markdown",
   "metadata": {
    "collapsed": false
   },
   "source": [
    "# 2. Wstęp teoretyczny"
   ]
  },
  {
   "cell_type": "markdown",
   "metadata": {
    "collapsed": false
   },
   "source": [
    "## 2.1. Logika rozmyta\n",
    "Logika rozmyta została wprowadzona przez Lotfi’ego Zadeha w latach 60. XX wieku i stanowi uogólnienie klasycznej logiki dwuwartościowej. W klasycznym ujęciu dana zmienna może przyjmować tylko dwa stany: 0 lub 1 (prawda/fałsz). W logice rozmytej możliwe jest reprezentowanie pośrednich stanów przynależności w zakresie\n",
    "$ [0,1] $, co pozwala na bardziej elastyczne modelowanie rzeczywistości, zwłaszcza tam, gdzie granice między poszczególnymi pojęciami (np. „zimno” i „chłodno”) są nieostre."
   ]
  },
  {
   "cell_type": "markdown",
   "metadata": {
    "collapsed": false
   },
   "source": [
    "## 2.2. Zmienne lingwistyczne i funkcje przynależności\n",
    "- Zmienne lingwistyczne to wielkości opisane słownie, np. „temperatura” może przyjmować wartości lingwistyczne takie jak „zimno”, „chłodno”, „komfortowo”, „ciepło” i „gorąco”.\n",
    "- Funkcje przynależności określają, w jakim stopniu dana wartość wejściowa (np. temperatura = 22°C) przynależy do konkretnej wartości lingwistycznej (np. „komfortowo”). Stopień przynależności mieści się w przedziale $ [0,1] $.\n",
    "\n",
    "W praktyce najczęściej stosuje się funkcje trójkątne, trapezoidalne czy dzwonowe (gaussowskie). Przykładowo, jeśli temperatura wynosi 18°C, może mieć wysoką przynależność do „chłodno” i niską do „zimno” i „komfortowo”."
   ]
  },
  {
   "cell_type": "markdown",
   "metadata": {
    "collapsed": false
   },
   "source": [
    "## 2.3. Reguły sterowania rozmytego\n",
    "Reguły sterowania w logice rozmytej przyjmują najczęściej postać:\n",
    "JEŻELI (warunek 1) i (warunek 2) TO (wniosek),\n",
    "gdzie warunki i wnioski odnoszą się do wartości lingwistycznych zmiennych rozmytych.\n",
    "\n",
    "W kontekście sterowania klimatyzatorem może to być na przykład:\n",
    "\n",
    "- JEŻELI temperatura jest gorąco ORAZ wilgotność jest zbyt wilgotno TO moc jest duża.\n",
    "- JEŻELI temperatura jest chłodno ORAZ wilgotność jest zbyt sucho TO moc jest mała."
   ]
  },
  {
   "cell_type": "markdown",
   "metadata": {
    "collapsed": false
   },
   "source": [
    "## 2.4. Defuzyfikacja\n",
    "Ostatnim etapem wnioskowania rozmytego jest defuzyfikacja, czyli sprowadzenie wartości rozmytej (wynikającej z reguł) do konkretnej wartości numerycznej, np. do konkretnej mocy klimatyzatora wyrażonej w kW."
   ]
  },
  {
   "cell_type": "markdown",
   "metadata": {
    "collapsed": false
   },
   "source": [
    "## 2.5. Biblioteka scikit-fuzzy (skyfuzzy)\n",
    "W języku Python do obsługi logiki rozmytej służy biblioteka scikit-fuzzy. Umożliwia ona m.in.:\n",
    "- Definiowanie zmiennych rozmytych (ang. Antecedent, Consequent),\n",
    "- Definiowanie funkcji przynależności,\n",
    "- Tworzenie reguł,\n",
    "- Przeprowadzanie wnioskowania i defuzyfikacji,\n",
    "- Generowanie wykresów.\n"
   ]
  },
  {
   "cell_type": "markdown",
   "metadata": {
    "collapsed": false
   },
   "source": [
    "# 3. Przebieg zadania"
   ]
  },
  {
   "cell_type": "markdown",
   "metadata": {
    "collapsed": false
   },
   "source": [
    "## 3.1. Zdefiniowanie zmiennych lingwistycznych\n",
    "Zgodnie z treścią zadania mamy dwie zmienne wejściowe:\n",
    "\n",
    "1. Temperatura – przyjmujemy zakres od 15°C do 35°C (przykładowo).\n",
    "Wartości lingwistyczne (etykiety):\n",
    "-zimno\n",
    "-chłodno\n",
    "-komfortowo\n",
    "-ciepło\n",
    "-gorąco\n",
    "\n",
    "2. Wilgotność – przyjmujemy zakres od 30% do 90%.\n",
    "Wartości lingwistyczne (etykiety):\n",
    "- zbyt sucho\n",
    "- zbyt wilgotno\n",
    "\n",
    "W zadaniu sugerowano też analizę zależności temperatury i wilgotności (np. z wykresu pochodzącego z serwisu termocert), jednak do uproszczonej wersji programu przyjmujemy dwie podstawowe etykiety opisujące wilgotność."
   ]
  },
  {
   "cell_type": "markdown",
   "metadata": {
    "collapsed": false
   },
   "source": [
    "# 3.2. Określenie funkcji przynależności\n",
    "W celu zilustrowania, jak mogą wyglądać przykładowe funkcje przynależności, definiujemy je w sposób trójkątny lub trapezoidalny."
   ]
  },
  {
   "cell_type": "markdown",
   "metadata": {
    "collapsed": false
   },
   "source": [
    "### 3.2.1. Temperatura\n",
    "Zakładamy zakres zmiennej od 15 do 35°C:\n",
    "- zimno: trapezoid od 15 do 17 (pełna przynależność), następnie opadająca do 19, po czym 0 powyżej 19.\n",
    "- chłodno: trójkąt z maksymalnym wierzchołkiem w okolicach 18–20°C.\n",
    "- komfortowo: trójkąt z maksimum np. w zakresie 22–24°C.\n",
    "- ciepło: trójkąt z maksimum ok. 26–28°C.\n",
    "- gorąco: trapezoid od 28 do 30 (rosnąca), następnie pełna przynależność powyżej 30 do 35°C.\n",
    "\n",
    "(Oczywiście można przyjąć inne dokładne przedziały, zależnie od preferencji)."
   ]
  },
  {
   "cell_type": "markdown",
   "metadata": {
    "collapsed": false
   },
   "source": [
    "### 3.2.2. Wilgotność"
   ]
  },
  {
   "cell_type": "markdown",
   "metadata": {
    "collapsed": false
   },
   "source": [
    "Zakładamy zakres zmiennej od 30% do 90%:\n",
    "- zbyt sucho: trapezoid zaczynający się przy 30%, maksymalny zakres np. do 40–50%, następnie opadający do 60%.\n",
    "- zbyt wilgotno: trapezoid zaczynający się w okolicach 40–50%, pełna przynależność powyżej 60–70% aż do 90%.\n",
    "\n",
    "W ten sposób pomiędzy 40–60% może występować obszar częściowego pokrycia się obu funkcji."
   ]
  },
  {
   "cell_type": "markdown",
   "metadata": {
    "collapsed": false
   },
   "source": [
    "## 3.3. Reguły sterowania mocą klimatyzatora\n",
    "Zmienną wyjściową jest:\n",
    "- Moc klimatyzatora (w kW) – przyjmijmy zakres od 0 do 3 kW (lub 1 do 3 kW, w zależności od potrzeb).\n",
    "Wartości lingwistyczne (etykiety):\n",
    " -- mała (np. 1 kW)\n",
    "-- średnia (2 kW)\n",
    "-- duża (3 kW)"
   ]
  },
  {
   "cell_type": "markdown",
   "metadata": {
    "collapsed": false
   },
   "source": [
    "Przykładowy zestaw reguł (zdefiniowanych w bibliotece scikit-fuzzy):\n",
    "- JEŻELI temperatura jest zimno ORAZ wilgotność jest zbyt sucho TO moc jest mała.\n",
    "- JEŻELI temperatura jest chłodno ORAZ wilgotność jest zbyt sucho TO moc jest mała.\n",
    "- JEŻELI temperatura jest komfortowo ORAZ wilgotność jest zbyt sucho TO moc jest średnia.\n",
    "- JEŻELI temperatura jest ciepło ORAZ wilgotność jest zbyt wilgotno TO moc jest średnia.\n",
    "- JEŻELI temperatura jest gorąco ORAZ wilgotność jest zbyt wilgotno TO moc jest duża.\n",
    "- JEŻELI temperatura jest gorąco ORAZ wilgotność jest zbyt sucho TO moc jest duża.\n",
    "\n",
    "(Oczywiście można zdefiniować więcej reguł, uwzględniając również sytuacje pośrednie.)"
   ]
  },
  {
   "cell_type": "markdown",
   "metadata": {
    "collapsed": false
   },
   "source": [
    "## 3.4. Implementacja w Pythonie (z wykorzystaniem scikit-fuzzy)\n",
    "Poniżej przedstawiono przykładowy kod w języku Python (do uruchomienia w notatniku Jupyter), który:\n",
    "1. Definiuje zmienne rozmyte (temperatura, wilgotność, moc),\n",
    "2. Definiuje funkcje przynależności,\n",
    "3. Tworzy reguły,\n",
    "4. Przeprowadza symulację dla przykładowych wartości temperatury i wilgotności,\n",
    "5. Wyświetla wykresy funkcji przynależności oraz wynik sterowania."
   ]
  },
  {
   "cell_type": "code",
   "execution_count": null,
   "metadata": {
    "ExecuteTime": {
     "end_time": "2025-03-01T07:23:34.323324100Z",
     "start_time": "2025-03-01T07:23:32.984520100Z"
    }
   },
   "outputs": [],
   "source": [
    "import numpy as np\n",
    "import skfuzzy as fuzz\n",
    "from skfuzzy import control as ctrl\n",
    "import matplotlib.pyplot as plt\n",
    "\n",
    "# 1. Definicja zakresów zmiennych\n",
    "temp_range = np.arange(15, 36, 1)    # Temperatura od 15°C do 35°C\n",
    "hum_range = np.arange(30, 91, 1)     # Wilgotność od 30% do 90%\n",
    "power_range = np.arange(0, 4, 1)     # Moc od 0 do 3 kW (co 1 kW)\n",
    "\n",
    "# 2. Definicja zmiennych rozmytych (Antecedent/Consequent)\n",
    "temperature = ctrl.Antecedent(temp_range, 'temperature')\n",
    "humidity = ctrl.Antecedent(hum_range, 'humidity')\n",
    "power = ctrl.Consequent(power_range, 'power')\n",
    "\n",
    "# 3. Definicja funkcji przynależności dla temperatury\n",
    "temperature['zimno'] = fuzz.trapmf(temperature.universe, [15, 15, 17, 19])\n",
    "temperature['chłodno'] = fuzz.trimf(temperature.universe, [17, 19, 21])\n",
    "temperature['komfortowo'] = fuzz.trimf(temperature.universe, [20, 23, 26])\n",
    "temperature['ciepło'] = fuzz.trimf(temperature.universe, [24, 27, 30])\n",
    "temperature['gorąco'] = fuzz.trapmf(temperature.universe, [28, 30, 35, 35])\n",
    "\n",
    "# 4. Definicja funkcji przynależności dla wilgotności\n",
    "humidity['zbyt sucho'] = fuzz.trapmf(humidity.universe, [30, 30, 45, 60])\n",
    "humidity['zbyt wilgotno'] = fuzz.trapmf(humidity.universe, [50, 65, 90, 90])\n",
    "\n",
    "# 5. Definicja funkcji przynależności dla mocy\n",
    "power['mała'] = fuzz.trimf(power.universe, [0, 1, 2])\n",
    "power['średnia'] = fuzz.trimf(power.universe, [1, 2, 3])\n",
    "power['duża'] = fuzz.trimf(power.universe, [2, 3, 3])\n",
    "\n",
    "# 6. Definicja reguł\n",
    "rule1 = ctrl.Rule(temperature['zimno'] & humidity['zbyt sucho'], power['mała'])\n",
    "rule2 = ctrl.Rule(temperature['chłodno'] & humidity['zbyt sucho'], power['mała'])\n",
    "rule3 = ctrl.Rule(temperature['komfortowo'] & humidity['zbyt sucho'], power['średnia'])\n",
    "rule4 = ctrl.Rule(temperature['ciepło'] & humidity['zbyt wilgotno'], power['średnia'])\n",
    "rule5 = ctrl.Rule(temperature['gorąco'] & humidity['zbyt wilgotno'], power['duża'])\n",
    "rule6 = ctrl.Rule(temperature['gorąco'] & humidity['zbyt sucho'], power['duża'])\n",
    "\n",
    "# 7. Tworzenie systemu sterowania\n",
    "power_ctrl = ctrl.ControlSystem([rule1, rule2, rule3, rule4, rule5, rule6])\n",
    "power_simulation = ctrl.ControlSystemSimulation(power_ctrl)\n",
    "\n",
    "# 8. Przykładowe obliczenia i wyniki\n",
    "# Przykład 1: temperatura = 18°C, wilgotność = 35%\n",
    "power_simulation.input['temperature'] = 18\n",
    "power_simulation.input['humidity'] = 35\n",
    "power_simulation.compute()\n",
    "print(f\"Przykład 1: T=18°C, RH=35% -> moc = {power_simulation.output['power']:.2f} kW\")\n",
    "\n",
    "# Przykład 2: temperatura = 30°C, wilgotność = 80%\n",
    "power_simulation.input['temperature'] = 30\n",
    "power_simulation.input['humidity'] = 80\n",
    "power_simulation.compute()\n",
    "print(f\"Przykład 2: T=30°C, RH=80% -> moc = {power_simulation.output['power']:.2f} kW\")\n",
    "\n",
    "# 9. Wykresy funkcji przynależności\n",
    "fig, (ax0, ax1, ax2) = plt.subplots(nrows=3, figsize=(8, 12))\n",
    "\n",
    "# Wykres temperatury\n",
    "ax0.plot(temp_range, temperature['zimno'], label='zimno')\n",
    "ax0.plot(temp_range, temperature['chłodno'], label='chłodno')\n",
    "ax0.plot(temp_range, temperature['komfortowo'], label='komfortowo')\n",
    "ax0.plot(temp_range, temperature['ciepło'], label='ciepło')\n",
    "ax0.plot(temp_range, temperature['gorąco'], label='gorąco')\n",
    "ax0.set_title('Funkcje przynależności – Temperatura')\n",
    "ax0.legend()\n",
    "\n",
    "# Wykres wilgotności\n",
    "ax1.plot(hum_range, humidity['zbyt sucho'], label='zbyt sucho')\n",
    "ax1.plot(hum_range, humidity['zbyt wilgotno'], label='zbyt wilgotno')\n",
    "ax1.set_title('Funkcje przynależności – Wilgotność')\n",
    "ax1.legend()\n",
    "\n",
    "# Wykres mocy\n",
    "ax2.plot(power_range, power['mała'], label='mała')\n",
    "ax2.plot(power_range, power['średnia'], label='średnia')\n",
    "ax2.plot(power_range, power['duża'], label='duża')\n",
    "ax2.set_title('Funkcje przynależności – Moc klimatyzatora')\n",
    "ax2.legend()\n",
    "\n",
    "plt.tight_layout()\n",
    "plt.show()\n"
   ]
  },
  {
   "cell_type": "markdown",
   "metadata": {
    "collapsed": false
   },
   "source": [
    "# 6. Podsumowanie\n",
    "W ramach ćwiczenia „Logika Rozmyta: ćwiczenie 1” zaprojektowaliśmy prosty regulator rozmyty sterujący mocą klimatyzatora w pomieszczeniu. Zdefiniowano dwie zmienne wejściowe (temperatura, wilgotność) z odpowiednimi funkcjami przynależności oraz zmienną wyjściową (moc). Następnie stworzono zestaw reguł wnioskowania rozmytego i przedstawiono przykładowe wyniki symulacji. Analiza rezultatów pokazuje, że podejście rozmyte jest intuicyjne i efektywne w zastosowaniach HVAC, a ponadto daje szerokie możliwości dostosowywania do specyficznych wymagań użytkowników."
   ]
  },
  {
   "cell_type": "code",
   "execution_count": null,
   "metadata": {},
   "outputs": [],
   "source": []
  }
 ],
 "metadata": {
  "kernelspec": {
   "display_name": "Python (psio)",
   "language": "python",
   "name": "psio"
  },
  "language_info": {
   "codemirror_mode": {
    "name": "ipython",
    "version": 2
   },
   "file_extension": ".py",
   "mimetype": "text/x-python",
   "name": "python",
   "nbconvert_exporter": "python",
   "pygments_lexer": "ipython2",
   "version": "2.7.6"
  }
 },
 "nbformat": 4,
 "nbformat_minor": 0
}
